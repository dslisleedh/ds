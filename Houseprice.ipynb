{
 "cells": [
  {
   "cell_type": "code",
   "execution_count": 14,
   "metadata": {},
   "outputs": [],
   "source": [
    "import pandas as pd\n",
    "import numpy as np\n",
    "from sklearn import preprocessing\n",
    "import xgboost as xgb\n",
    "from sklearn.model_selection import KFold\n",
    "from skopt import BayesSearchCV\n",
    "import matplotlib.pyplot as plt\n",
    "from sklearn.model_selection import train_test_split"
   ]
  },
  {
   "cell_type": "markdown",
   "metadata": {},
   "source": [
    "Model used : XGBoost"
   ]
  },
  {
   "cell_type": "code",
   "execution_count": 2,
   "metadata": {},
   "outputs": [],
   "source": [
    "house = pd.read_csv('train.csv', index_col='Id')"
   ]
  },
  {
   "cell_type": "code",
   "execution_count": 3,
   "metadata": {},
   "outputs": [
    {
     "data": {
      "text/html": [
       "<div>\n",
       "<style scoped>\n",
       "    .dataframe tbody tr th:only-of-type {\n",
       "        vertical-align: middle;\n",
       "    }\n",
       "\n",
       "    .dataframe tbody tr th {\n",
       "        vertical-align: top;\n",
       "    }\n",
       "\n",
       "    .dataframe thead th {\n",
       "        text-align: right;\n",
       "    }\n",
       "</style>\n",
       "<table border=\"1\" class=\"dataframe\">\n",
       "  <thead>\n",
       "    <tr style=\"text-align: right;\">\n",
       "      <th></th>\n",
       "      <th>MSSubClass</th>\n",
       "      <th>MSZoning</th>\n",
       "      <th>LotFrontage</th>\n",
       "      <th>LotArea</th>\n",
       "      <th>Street</th>\n",
       "      <th>Alley</th>\n",
       "      <th>LotShape</th>\n",
       "      <th>LandContour</th>\n",
       "      <th>Utilities</th>\n",
       "      <th>LotConfig</th>\n",
       "      <th>...</th>\n",
       "      <th>PoolArea</th>\n",
       "      <th>PoolQC</th>\n",
       "      <th>Fence</th>\n",
       "      <th>MiscFeature</th>\n",
       "      <th>MiscVal</th>\n",
       "      <th>MoSold</th>\n",
       "      <th>YrSold</th>\n",
       "      <th>SaleType</th>\n",
       "      <th>SaleCondition</th>\n",
       "      <th>SalePrice</th>\n",
       "    </tr>\n",
       "    <tr>\n",
       "      <th>Id</th>\n",
       "      <th></th>\n",
       "      <th></th>\n",
       "      <th></th>\n",
       "      <th></th>\n",
       "      <th></th>\n",
       "      <th></th>\n",
       "      <th></th>\n",
       "      <th></th>\n",
       "      <th></th>\n",
       "      <th></th>\n",
       "      <th></th>\n",
       "      <th></th>\n",
       "      <th></th>\n",
       "      <th></th>\n",
       "      <th></th>\n",
       "      <th></th>\n",
       "      <th></th>\n",
       "      <th></th>\n",
       "      <th></th>\n",
       "      <th></th>\n",
       "      <th></th>\n",
       "    </tr>\n",
       "  </thead>\n",
       "  <tbody>\n",
       "    <tr>\n",
       "      <th>1</th>\n",
       "      <td>60</td>\n",
       "      <td>RL</td>\n",
       "      <td>65.0</td>\n",
       "      <td>8450</td>\n",
       "      <td>Pave</td>\n",
       "      <td>NaN</td>\n",
       "      <td>Reg</td>\n",
       "      <td>Lvl</td>\n",
       "      <td>AllPub</td>\n",
       "      <td>Inside</td>\n",
       "      <td>...</td>\n",
       "      <td>0</td>\n",
       "      <td>NaN</td>\n",
       "      <td>NaN</td>\n",
       "      <td>NaN</td>\n",
       "      <td>0</td>\n",
       "      <td>2</td>\n",
       "      <td>2008</td>\n",
       "      <td>WD</td>\n",
       "      <td>Normal</td>\n",
       "      <td>208500</td>\n",
       "    </tr>\n",
       "    <tr>\n",
       "      <th>2</th>\n",
       "      <td>20</td>\n",
       "      <td>RL</td>\n",
       "      <td>80.0</td>\n",
       "      <td>9600</td>\n",
       "      <td>Pave</td>\n",
       "      <td>NaN</td>\n",
       "      <td>Reg</td>\n",
       "      <td>Lvl</td>\n",
       "      <td>AllPub</td>\n",
       "      <td>FR2</td>\n",
       "      <td>...</td>\n",
       "      <td>0</td>\n",
       "      <td>NaN</td>\n",
       "      <td>NaN</td>\n",
       "      <td>NaN</td>\n",
       "      <td>0</td>\n",
       "      <td>5</td>\n",
       "      <td>2007</td>\n",
       "      <td>WD</td>\n",
       "      <td>Normal</td>\n",
       "      <td>181500</td>\n",
       "    </tr>\n",
       "    <tr>\n",
       "      <th>3</th>\n",
       "      <td>60</td>\n",
       "      <td>RL</td>\n",
       "      <td>68.0</td>\n",
       "      <td>11250</td>\n",
       "      <td>Pave</td>\n",
       "      <td>NaN</td>\n",
       "      <td>IR1</td>\n",
       "      <td>Lvl</td>\n",
       "      <td>AllPub</td>\n",
       "      <td>Inside</td>\n",
       "      <td>...</td>\n",
       "      <td>0</td>\n",
       "      <td>NaN</td>\n",
       "      <td>NaN</td>\n",
       "      <td>NaN</td>\n",
       "      <td>0</td>\n",
       "      <td>9</td>\n",
       "      <td>2008</td>\n",
       "      <td>WD</td>\n",
       "      <td>Normal</td>\n",
       "      <td>223500</td>\n",
       "    </tr>\n",
       "    <tr>\n",
       "      <th>4</th>\n",
       "      <td>70</td>\n",
       "      <td>RL</td>\n",
       "      <td>60.0</td>\n",
       "      <td>9550</td>\n",
       "      <td>Pave</td>\n",
       "      <td>NaN</td>\n",
       "      <td>IR1</td>\n",
       "      <td>Lvl</td>\n",
       "      <td>AllPub</td>\n",
       "      <td>Corner</td>\n",
       "      <td>...</td>\n",
       "      <td>0</td>\n",
       "      <td>NaN</td>\n",
       "      <td>NaN</td>\n",
       "      <td>NaN</td>\n",
       "      <td>0</td>\n",
       "      <td>2</td>\n",
       "      <td>2006</td>\n",
       "      <td>WD</td>\n",
       "      <td>Abnorml</td>\n",
       "      <td>140000</td>\n",
       "    </tr>\n",
       "    <tr>\n",
       "      <th>5</th>\n",
       "      <td>60</td>\n",
       "      <td>RL</td>\n",
       "      <td>84.0</td>\n",
       "      <td>14260</td>\n",
       "      <td>Pave</td>\n",
       "      <td>NaN</td>\n",
       "      <td>IR1</td>\n",
       "      <td>Lvl</td>\n",
       "      <td>AllPub</td>\n",
       "      <td>FR2</td>\n",
       "      <td>...</td>\n",
       "      <td>0</td>\n",
       "      <td>NaN</td>\n",
       "      <td>NaN</td>\n",
       "      <td>NaN</td>\n",
       "      <td>0</td>\n",
       "      <td>12</td>\n",
       "      <td>2008</td>\n",
       "      <td>WD</td>\n",
       "      <td>Normal</td>\n",
       "      <td>250000</td>\n",
       "    </tr>\n",
       "    <tr>\n",
       "      <th>...</th>\n",
       "      <td>...</td>\n",
       "      <td>...</td>\n",
       "      <td>...</td>\n",
       "      <td>...</td>\n",
       "      <td>...</td>\n",
       "      <td>...</td>\n",
       "      <td>...</td>\n",
       "      <td>...</td>\n",
       "      <td>...</td>\n",
       "      <td>...</td>\n",
       "      <td>...</td>\n",
       "      <td>...</td>\n",
       "      <td>...</td>\n",
       "      <td>...</td>\n",
       "      <td>...</td>\n",
       "      <td>...</td>\n",
       "      <td>...</td>\n",
       "      <td>...</td>\n",
       "      <td>...</td>\n",
       "      <td>...</td>\n",
       "      <td>...</td>\n",
       "    </tr>\n",
       "    <tr>\n",
       "      <th>1456</th>\n",
       "      <td>60</td>\n",
       "      <td>RL</td>\n",
       "      <td>62.0</td>\n",
       "      <td>7917</td>\n",
       "      <td>Pave</td>\n",
       "      <td>NaN</td>\n",
       "      <td>Reg</td>\n",
       "      <td>Lvl</td>\n",
       "      <td>AllPub</td>\n",
       "      <td>Inside</td>\n",
       "      <td>...</td>\n",
       "      <td>0</td>\n",
       "      <td>NaN</td>\n",
       "      <td>NaN</td>\n",
       "      <td>NaN</td>\n",
       "      <td>0</td>\n",
       "      <td>8</td>\n",
       "      <td>2007</td>\n",
       "      <td>WD</td>\n",
       "      <td>Normal</td>\n",
       "      <td>175000</td>\n",
       "    </tr>\n",
       "    <tr>\n",
       "      <th>1457</th>\n",
       "      <td>20</td>\n",
       "      <td>RL</td>\n",
       "      <td>85.0</td>\n",
       "      <td>13175</td>\n",
       "      <td>Pave</td>\n",
       "      <td>NaN</td>\n",
       "      <td>Reg</td>\n",
       "      <td>Lvl</td>\n",
       "      <td>AllPub</td>\n",
       "      <td>Inside</td>\n",
       "      <td>...</td>\n",
       "      <td>0</td>\n",
       "      <td>NaN</td>\n",
       "      <td>MnPrv</td>\n",
       "      <td>NaN</td>\n",
       "      <td>0</td>\n",
       "      <td>2</td>\n",
       "      <td>2010</td>\n",
       "      <td>WD</td>\n",
       "      <td>Normal</td>\n",
       "      <td>210000</td>\n",
       "    </tr>\n",
       "    <tr>\n",
       "      <th>1458</th>\n",
       "      <td>70</td>\n",
       "      <td>RL</td>\n",
       "      <td>66.0</td>\n",
       "      <td>9042</td>\n",
       "      <td>Pave</td>\n",
       "      <td>NaN</td>\n",
       "      <td>Reg</td>\n",
       "      <td>Lvl</td>\n",
       "      <td>AllPub</td>\n",
       "      <td>Inside</td>\n",
       "      <td>...</td>\n",
       "      <td>0</td>\n",
       "      <td>NaN</td>\n",
       "      <td>GdPrv</td>\n",
       "      <td>Shed</td>\n",
       "      <td>2500</td>\n",
       "      <td>5</td>\n",
       "      <td>2010</td>\n",
       "      <td>WD</td>\n",
       "      <td>Normal</td>\n",
       "      <td>266500</td>\n",
       "    </tr>\n",
       "    <tr>\n",
       "      <th>1459</th>\n",
       "      <td>20</td>\n",
       "      <td>RL</td>\n",
       "      <td>68.0</td>\n",
       "      <td>9717</td>\n",
       "      <td>Pave</td>\n",
       "      <td>NaN</td>\n",
       "      <td>Reg</td>\n",
       "      <td>Lvl</td>\n",
       "      <td>AllPub</td>\n",
       "      <td>Inside</td>\n",
       "      <td>...</td>\n",
       "      <td>0</td>\n",
       "      <td>NaN</td>\n",
       "      <td>NaN</td>\n",
       "      <td>NaN</td>\n",
       "      <td>0</td>\n",
       "      <td>4</td>\n",
       "      <td>2010</td>\n",
       "      <td>WD</td>\n",
       "      <td>Normal</td>\n",
       "      <td>142125</td>\n",
       "    </tr>\n",
       "    <tr>\n",
       "      <th>1460</th>\n",
       "      <td>20</td>\n",
       "      <td>RL</td>\n",
       "      <td>75.0</td>\n",
       "      <td>9937</td>\n",
       "      <td>Pave</td>\n",
       "      <td>NaN</td>\n",
       "      <td>Reg</td>\n",
       "      <td>Lvl</td>\n",
       "      <td>AllPub</td>\n",
       "      <td>Inside</td>\n",
       "      <td>...</td>\n",
       "      <td>0</td>\n",
       "      <td>NaN</td>\n",
       "      <td>NaN</td>\n",
       "      <td>NaN</td>\n",
       "      <td>0</td>\n",
       "      <td>6</td>\n",
       "      <td>2008</td>\n",
       "      <td>WD</td>\n",
       "      <td>Normal</td>\n",
       "      <td>147500</td>\n",
       "    </tr>\n",
       "  </tbody>\n",
       "</table>\n",
       "<p>1460 rows × 80 columns</p>\n",
       "</div>"
      ],
      "text/plain": [
       "      MSSubClass MSZoning  LotFrontage  LotArea Street Alley LotShape  \\\n",
       "Id                                                                      \n",
       "1             60       RL         65.0     8450   Pave   NaN      Reg   \n",
       "2             20       RL         80.0     9600   Pave   NaN      Reg   \n",
       "3             60       RL         68.0    11250   Pave   NaN      IR1   \n",
       "4             70       RL         60.0     9550   Pave   NaN      IR1   \n",
       "5             60       RL         84.0    14260   Pave   NaN      IR1   \n",
       "...          ...      ...          ...      ...    ...   ...      ...   \n",
       "1456          60       RL         62.0     7917   Pave   NaN      Reg   \n",
       "1457          20       RL         85.0    13175   Pave   NaN      Reg   \n",
       "1458          70       RL         66.0     9042   Pave   NaN      Reg   \n",
       "1459          20       RL         68.0     9717   Pave   NaN      Reg   \n",
       "1460          20       RL         75.0     9937   Pave   NaN      Reg   \n",
       "\n",
       "     LandContour Utilities LotConfig  ... PoolArea PoolQC  Fence MiscFeature  \\\n",
       "Id                                    ...                                      \n",
       "1            Lvl    AllPub    Inside  ...        0    NaN    NaN         NaN   \n",
       "2            Lvl    AllPub       FR2  ...        0    NaN    NaN         NaN   \n",
       "3            Lvl    AllPub    Inside  ...        0    NaN    NaN         NaN   \n",
       "4            Lvl    AllPub    Corner  ...        0    NaN    NaN         NaN   \n",
       "5            Lvl    AllPub       FR2  ...        0    NaN    NaN         NaN   \n",
       "...          ...       ...       ...  ...      ...    ...    ...         ...   \n",
       "1456         Lvl    AllPub    Inside  ...        0    NaN    NaN         NaN   \n",
       "1457         Lvl    AllPub    Inside  ...        0    NaN  MnPrv         NaN   \n",
       "1458         Lvl    AllPub    Inside  ...        0    NaN  GdPrv        Shed   \n",
       "1459         Lvl    AllPub    Inside  ...        0    NaN    NaN         NaN   \n",
       "1460         Lvl    AllPub    Inside  ...        0    NaN    NaN         NaN   \n",
       "\n",
       "     MiscVal MoSold  YrSold  SaleType  SaleCondition  SalePrice  \n",
       "Id                                                               \n",
       "1          0      2    2008        WD         Normal     208500  \n",
       "2          0      5    2007        WD         Normal     181500  \n",
       "3          0      9    2008        WD         Normal     223500  \n",
       "4          0      2    2006        WD        Abnorml     140000  \n",
       "5          0     12    2008        WD         Normal     250000  \n",
       "...      ...    ...     ...       ...            ...        ...  \n",
       "1456       0      8    2007        WD         Normal     175000  \n",
       "1457       0      2    2010        WD         Normal     210000  \n",
       "1458    2500      5    2010        WD         Normal     266500  \n",
       "1459       0      4    2010        WD         Normal     142125  \n",
       "1460       0      6    2008        WD         Normal     147500  \n",
       "\n",
       "[1460 rows x 80 columns]"
      ]
     },
     "execution_count": 3,
     "metadata": {},
     "output_type": "execute_result"
    }
   ],
   "source": [
    "house"
   ]
  },
  {
   "cell_type": "code",
   "execution_count": 5,
   "metadata": {},
   "outputs": [
    {
     "name": "stdout",
     "output_type": "stream",
     "text": [
      "<class 'pandas.core.frame.DataFrame'>\n",
      "Int64Index: 1460 entries, 1 to 1460\n",
      "Data columns (total 80 columns):\n",
      " #   Column         Non-Null Count  Dtype  \n",
      "---  ------         --------------  -----  \n",
      " 0   MSSubClass     1460 non-null   int64  \n",
      " 1   MSZoning       1460 non-null   object \n",
      " 2   LotFrontage    1201 non-null   float64\n",
      " 3   LotArea        1460 non-null   int64  \n",
      " 4   Street         1460 non-null   object \n",
      " 5   Alley          91 non-null     object \n",
      " 6   LotShape       1460 non-null   object \n",
      " 7   LandContour    1460 non-null   object \n",
      " 8   Utilities      1460 non-null   object \n",
      " 9   LotConfig      1460 non-null   object \n",
      " 10  LandSlope      1460 non-null   object \n",
      " 11  Neighborhood   1460 non-null   object \n",
      " 12  Condition1     1460 non-null   object \n",
      " 13  Condition2     1460 non-null   object \n",
      " 14  BldgType       1460 non-null   object \n",
      " 15  HouseStyle     1460 non-null   object \n",
      " 16  OverallQual    1460 non-null   int64  \n",
      " 17  OverallCond    1460 non-null   int64  \n",
      " 18  YearBuilt      1460 non-null   int64  \n",
      " 19  YearRemodAdd   1460 non-null   int64  \n",
      " 20  RoofStyle      1460 non-null   object \n",
      " 21  RoofMatl       1460 non-null   object \n",
      " 22  Exterior1st    1460 non-null   object \n",
      " 23  Exterior2nd    1460 non-null   object \n",
      " 24  MasVnrType     1452 non-null   object \n",
      " 25  MasVnrArea     1452 non-null   float64\n",
      " 26  ExterQual      1460 non-null   object \n",
      " 27  ExterCond      1460 non-null   object \n",
      " 28  Foundation     1460 non-null   object \n",
      " 29  BsmtQual       1423 non-null   object \n",
      " 30  BsmtCond       1423 non-null   object \n",
      " 31  BsmtExposure   1422 non-null   object \n",
      " 32  BsmtFinType1   1423 non-null   object \n",
      " 33  BsmtFinSF1     1460 non-null   int64  \n",
      " 34  BsmtFinType2   1422 non-null   object \n",
      " 35  BsmtFinSF2     1460 non-null   int64  \n",
      " 36  BsmtUnfSF      1460 non-null   int64  \n",
      " 37  TotalBsmtSF    1460 non-null   int64  \n",
      " 38  Heating        1460 non-null   object \n",
      " 39  HeatingQC      1460 non-null   object \n",
      " 40  CentralAir     1460 non-null   object \n",
      " 41  Electrical     1459 non-null   object \n",
      " 42  1stFlrSF       1460 non-null   int64  \n",
      " 43  2ndFlrSF       1460 non-null   int64  \n",
      " 44  LowQualFinSF   1460 non-null   int64  \n",
      " 45  GrLivArea      1460 non-null   int64  \n",
      " 46  BsmtFullBath   1460 non-null   int64  \n",
      " 47  BsmtHalfBath   1460 non-null   int64  \n",
      " 48  FullBath       1460 non-null   int64  \n",
      " 49  HalfBath       1460 non-null   int64  \n",
      " 50  BedroomAbvGr   1460 non-null   int64  \n",
      " 51  KitchenAbvGr   1460 non-null   int64  \n",
      " 52  KitchenQual    1460 non-null   object \n",
      " 53  TotRmsAbvGrd   1460 non-null   int64  \n",
      " 54  Functional     1460 non-null   object \n",
      " 55  Fireplaces     1460 non-null   int64  \n",
      " 56  FireplaceQu    770 non-null    object \n",
      " 57  GarageType     1379 non-null   object \n",
      " 58  GarageYrBlt    1379 non-null   float64\n",
      " 59  GarageFinish   1379 non-null   object \n",
      " 60  GarageCars     1460 non-null   int64  \n",
      " 61  GarageArea     1460 non-null   int64  \n",
      " 62  GarageQual     1379 non-null   object \n",
      " 63  GarageCond     1379 non-null   object \n",
      " 64  PavedDrive     1460 non-null   object \n",
      " 65  WoodDeckSF     1460 non-null   int64  \n",
      " 66  OpenPorchSF    1460 non-null   int64  \n",
      " 67  EnclosedPorch  1460 non-null   int64  \n",
      " 68  3SsnPorch      1460 non-null   int64  \n",
      " 69  ScreenPorch    1460 non-null   int64  \n",
      " 70  PoolArea       1460 non-null   int64  \n",
      " 71  PoolQC         7 non-null      object \n",
      " 72  Fence          281 non-null    object \n",
      " 73  MiscFeature    54 non-null     object \n",
      " 74  MiscVal        1460 non-null   int64  \n",
      " 75  MoSold         1460 non-null   int64  \n",
      " 76  YrSold         1460 non-null   int64  \n",
      " 77  SaleType       1460 non-null   object \n",
      " 78  SaleCondition  1460 non-null   object \n",
      " 79  SalePrice      1460 non-null   int64  \n",
      "dtypes: float64(3), int64(34), object(43)\n",
      "memory usage: 923.9+ KB\n"
     ]
    }
   ],
   "source": [
    "house.info()"
   ]
  },
  {
   "cell_type": "code",
   "execution_count": 6,
   "metadata": {},
   "outputs": [
    {
     "data": {
      "text/plain": [
       "20     536\n",
       "60     299\n",
       "50     144\n",
       "120     87\n",
       "30      69\n",
       "160     63\n",
       "70      60\n",
       "80      58\n",
       "90      52\n",
       "190     30\n",
       "85      20\n",
       "75      16\n",
       "45      12\n",
       "180     10\n",
       "40       4\n",
       "Name: MSSubClass, dtype: int64"
      ]
     },
     "execution_count": 6,
     "metadata": {},
     "output_type": "execute_result"
    }
   ],
   "source": [
    "#MSSC column -> label encoding\n",
    "house.iloc[:,0].value_counts()"
   ]
  },
  {
   "cell_type": "code",
   "execution_count": 9,
   "metadata": {},
   "outputs": [
    {
     "data": {
      "text/plain": [
       "RL         1151\n",
       "RM          218\n",
       "FV           65\n",
       "RH           16\n",
       "C (all)      10\n",
       "Name: MSZoning, dtype: int64"
      ]
     },
     "execution_count": 9,
     "metadata": {},
     "output_type": "execute_result"
    }
   ],
   "source": [
    "#MSZoning Column -> label encoding\n",
    "house.MSZoning.value_counts()"
   ]
  },
  {
   "cell_type": "code",
   "execution_count": 10,
   "metadata": {},
   "outputs": [
    {
     "data": {
      "text/plain": [
       "<AxesSubplot:>"
      ]
     },
     "execution_count": 10,
     "metadata": {},
     "output_type": "execute_result"
    },
    {
     "data": {
      "image/png": "[encoded data removed]",
      "text/plain": [
       "<Figure size 432x288 with 1 Axes>"
      ]
     },
     "metadata": {
      "needs_background": "light"
     },
     "output_type": "display_data"
    }
   ],
   "source": [
    "house.MSZoning.hist()"
   ]
  },
  {
   "cell_type": "code",
   "execution_count": 14,
   "metadata": {},
   "outputs": [
    {
     "data": {
      "text/plain": [
       "<AxesSubplot:>"
      ]
     },
     "execution_count": 14,
     "metadata": {},
     "output_type": "execute_result"
    },
    {
     "data": {
      "image/png": "[encoded data removed]",
      "text/plain": [
       "<Figure size 432x288 with 1 Axes>"
      ]
     },
     "metadata": {
      "needs_background": "light"
     },
     "output_type": "display_data"
    }
   ],
   "source": [
    "#LotFrontage -> NaN -> 0\n",
    "house.LotFrontage.hist()"
   ]
  },
  {
   "cell_type": "code",
   "execution_count": 17,
   "metadata": {},
   "outputs": [
    {
     "data": {
      "text/plain": [
       "<AxesSubplot:>"
      ]
     },
     "execution_count": 17,
     "metadata": {},
     "output_type": "execute_result"
    },
    {
     "data": {
      "image/png": "[encoded data removed]",
      "text/plain": [
       "<Figure size 432x288 with 1 Axes>"
      ]
     },
     "metadata": {
      "needs_background": "light"
     },
     "output_type": "display_data"
    }
   ],
   "source": [
    "#LotArea -> Normalization, clipping...?\n",
    "house.LotArea.hist()"
   ]
  },
  {
   "cell_type": "code",
   "execution_count": 20,
   "metadata": {},
   "outputs": [
    {
     "data": {
      "text/plain": [
       "Pave    1454\n",
       "Grvl       6\n",
       "Name: Street, dtype: int64"
      ]
     },
     "execution_count": 20,
     "metadata": {},
     "output_type": "execute_result"
    }
   ],
   "source": [
    "#Street -> Label_encoding\n",
    "house.Street.value_counts()"
   ]
  },
  {
   "cell_type": "code",
   "execution_count": 22,
   "metadata": {},
   "outputs": [
    {
     "data": {
      "text/plain": [
       "Grvl    50\n",
       "Pave    41\n",
       "Name: Alley, dtype: int64"
      ]
     },
     "execution_count": 22,
     "metadata": {},
     "output_type": "execute_result"
    }
   ],
   "source": [
    "#Alley -> Label encoding, NA means -> Label\n",
    "house.Alley.value_counts()"
   ]
  },
  {
   "cell_type": "code",
   "execution_count": 25,
   "metadata": {},
   "outputs": [
    {
     "data": {
      "text/plain": [
       "Reg    925\n",
       "IR1    484\n",
       "IR2     41\n",
       "IR3     10\n",
       "Name: LotShape, dtype: int64"
      ]
     },
     "execution_count": 25,
     "metadata": {},
     "output_type": "execute_result"
    }
   ],
   "source": [
    "#LotShape -> Label encoding\n",
    "house.LotShape.value_counts()"
   ]
  },
  {
   "cell_type": "code",
   "execution_count": 28,
   "metadata": {},
   "outputs": [
    {
     "data": {
      "text/plain": [
       "Lvl    1311\n",
       "Bnk      63\n",
       "HLS      50\n",
       "Low      36\n",
       "Name: LandContour, dtype: int64"
      ]
     },
     "execution_count": 28,
     "metadata": {},
     "output_type": "execute_result"
    }
   ],
   "source": [
    "#LandContour -> Label encoding\n",
    "house.LandContour.value_counts()"
   ]
  },
  {
   "cell_type": "code",
   "execution_count": 30,
   "metadata": {},
   "outputs": [
    {
     "data": {
      "text/plain": [
       "AllPub    1459\n",
       "NoSeWa       1\n",
       "Name: Utilities, dtype: int64"
      ]
     },
     "execution_count": 30,
     "metadata": {},
     "output_type": "execute_result"
    }
   ],
   "source": [
    "#Utilities -> Label_encoding\n",
    "house.Utilities.value_counts()"
   ]
  },
  {
   "cell_type": "code",
   "execution_count": 31,
   "metadata": {},
   "outputs": [
    {
     "data": {
      "text/plain": [
       "Inside     1052\n",
       "Corner      263\n",
       "CulDSac      94\n",
       "FR2          47\n",
       "FR3           4\n",
       "Name: LotConfig, dtype: int64"
      ]
     },
     "execution_count": 31,
     "metadata": {},
     "output_type": "execute_result"
    }
   ],
   "source": [
    "#LotConfig -> Labelencoding\n",
    "house.LotConfig.value_counts()"
   ]
  },
  {
   "cell_type": "code",
   "execution_count": 32,
   "metadata": {},
   "outputs": [
    {
     "data": {
      "text/plain": [
       "Gtl    1382\n",
       "Mod      65\n",
       "Sev      13\n",
       "Name: LandSlope, dtype: int64"
      ]
     },
     "execution_count": 32,
     "metadata": {},
     "output_type": "execute_result"
    }
   ],
   "source": [
    "#landSlope -> Labelencoding\n",
    "house.LandSlope.value_counts()"
   ]
  },
  {
   "cell_type": "code",
   "execution_count": 33,
   "metadata": {},
   "outputs": [
    {
     "data": {
      "text/plain": [
       "NAmes      225\n",
       "CollgCr    150\n",
       "OldTown    113\n",
       "Edwards    100\n",
       "Somerst     86\n",
       "Gilbert     79\n",
       "NridgHt     77\n",
       "Sawyer      74\n",
       "NWAmes      73\n",
       "SawyerW     59\n",
       "BrkSide     58\n",
       "Crawfor     51\n",
       "Mitchel     49\n",
       "NoRidge     41\n",
       "Timber      38\n",
       "IDOTRR      37\n",
       "ClearCr     28\n",
       "SWISU       25\n",
       "StoneBr     25\n",
       "MeadowV     17\n",
       "Blmngtn     17\n",
       "BrDale      16\n",
       "Veenker     11\n",
       "NPkVill      9\n",
       "Blueste      2\n",
       "Name: Neighborhood, dtype: int64"
      ]
     },
     "execution_count": 33,
     "metadata": {},
     "output_type": "execute_result"
    }
   ],
   "source": [
    "#Neighborhood -> label encoding\n",
    "house.Neighborhood.value_counts()"
   ]
  },
  {
   "cell_type": "code",
   "execution_count": 35,
   "metadata": {},
   "outputs": [
    {
     "data": {
      "text/plain": [
       "Norm      1260\n",
       "Feedr       81\n",
       "Artery      48\n",
       "RRAn        26\n",
       "PosN        19\n",
       "RRAe        11\n",
       "PosA         8\n",
       "RRNn         5\n",
       "RRNe         2\n",
       "Name: Condition1, dtype: int64"
      ]
     },
     "execution_count": 35,
     "metadata": {},
     "output_type": "execute_result"
    }
   ],
   "source": [
    "#Condition1 -> Label encoding\n",
    "house.Condition1.value_counts()"
   ]
  },
  {
   "cell_type": "code",
   "execution_count": 36,
   "metadata": {},
   "outputs": [
    {
     "data": {
      "text/plain": [
       "Norm      1445\n",
       "Feedr        6\n",
       "Artery       2\n",
       "RRNn         2\n",
       "PosN         2\n",
       "RRAn         1\n",
       "PosA         1\n",
       "RRAe         1\n",
       "Name: Condition2, dtype: int64"
      ]
     },
     "execution_count": 36,
     "metadata": {},
     "output_type": "execute_result"
    }
   ],
   "source": [
    "#Condition2 -> Label encoding\n",
    "house.Condition2.value_counts()"
   ]
  },
  {
   "cell_type": "code",
   "execution_count": 38,
   "metadata": {},
   "outputs": [
    {
     "data": {
      "text/plain": [
       "1Fam      1220\n",
       "TwnhsE     114\n",
       "Duplex      52\n",
       "Twnhs       43\n",
       "2fmCon      31\n",
       "Name: BldgType, dtype: int64"
      ]
     },
     "execution_count": 38,
     "metadata": {},
     "output_type": "execute_result"
    }
   ],
   "source": [
    "#BldgType -> Label encoding\n",
    "house.BldgType.value_counts()"
   ]
  },
  {
   "cell_type": "code",
   "execution_count": 39,
   "metadata": {},
   "outputs": [
    {
     "data": {
      "text/plain": [
       "1Story    726\n",
       "2Story    445\n",
       "1.5Fin    154\n",
       "SLvl       65\n",
       "SFoyer     37\n",
       "1.5Unf     14\n",
       "2.5Unf     11\n",
       "2.5Fin      8\n",
       "Name: HouseStyle, dtype: int64"
      ]
     },
     "execution_count": 39,
     "metadata": {},
     "output_type": "execute_result"
    }
   ],
   "source": [
    "#HouseStyle -> label encoding\n",
    "house.HouseStyle.value_counts()"
   ]
  },
  {
   "cell_type": "code",
   "execution_count": 41,
   "metadata": {},
   "outputs": [
    {
     "data": {
      "text/plain": [
       "5     397\n",
       "6     374\n",
       "7     319\n",
       "8     168\n",
       "4     116\n",
       "9      43\n",
       "3      20\n",
       "10     18\n",
       "2       3\n",
       "1       2\n",
       "Name: OverallQual, dtype: int64"
      ]
     },
     "execution_count": 41,
     "metadata": {},
     "output_type": "execute_result"
    }
   ],
   "source": [
    "#OverallQual -> .\n",
    "house.OverallQual.value_counts()"
   ]
  },
  {
   "cell_type": "code",
   "execution_count": 43,
   "metadata": {},
   "outputs": [
    {
     "data": {
      "text/plain": [
       "5    821\n",
       "6    252\n",
       "7    205\n",
       "8     72\n",
       "4     57\n",
       "3     25\n",
       "9     22\n",
       "2      5\n",
       "1      1\n",
       "Name: OverallCond, dtype: int64"
      ]
     },
     "execution_count": 43,
     "metadata": {},
     "output_type": "execute_result"
    }
   ],
   "source": [
    "#OverallCond -> .\n",
    "house.OverallCond.value_counts()"
   ]
  },
  {
   "cell_type": "code",
   "execution_count": 48,
   "metadata": {},
   "outputs": [
    {
     "data": {
      "text/plain": [
       "<AxesSubplot:>"
      ]
     },
     "execution_count": 48,
     "metadata": {},
     "output_type": "execute_result"
    },
    {
     "data": {
      "image/png": "[encoded data removed]",
      "text/plain": [
       "<Figure size 432x288 with 1 Axes>"
      ]
     },
     "metadata": {
      "needs_background": "light"
     },
     "output_type": "display_data"
    }
   ],
   "source": [
    "#YearBuilt -> .\n",
    "house.YearBuilt.hist()"
   ]
  },
  {
   "cell_type": "code",
   "execution_count": 49,
   "metadata": {},
   "outputs": [
    {
     "data": {
      "text/plain": [
       "<AxesSubplot:>"
      ]
     },
     "execution_count": 49,
     "metadata": {},
     "output_type": "execute_result"
    },
    {
     "data": {
      "image/png": "[encoded data removed]",
      "text/plain": [
       "<Figure size 432x288 with 1 Axes>"
      ]
     },
     "metadata": {
      "needs_background": "light"
     },
     "output_type": "display_data"
    }
   ],
   "source": [
    "#YearRemodAdd -> if n == YearBuilt : 0\n",
    "house.YearRemodAdd.hist()"
   ]
  },
  {
   "cell_type": "code",
   "execution_count": 51,
   "metadata": {},
   "outputs": [
    {
     "data": {
      "text/plain": [
       "Gable      1141\n",
       "Hip         286\n",
       "Flat         13\n",
       "Gambrel      11\n",
       "Mansard       7\n",
       "Shed          2\n",
       "Name: RoofStyle, dtype: int64"
      ]
     },
     "execution_count": 51,
     "metadata": {},
     "output_type": "execute_result"
    }
   ],
   "source": [
    "#RoofStyle -> Label encoding\n",
    "house.RoofStyle.value_counts()"
   ]
  },
  {
   "cell_type": "code",
   "execution_count": 53,
   "metadata": {},
   "outputs": [
    {
     "data": {
      "text/plain": [
       "CompShg    1434\n",
       "Tar&Grv      11\n",
       "WdShngl       6\n",
       "WdShake       5\n",
       "ClyTile       1\n",
       "Metal         1\n",
       "Roll          1\n",
       "Membran       1\n",
       "Name: RoofMatl, dtype: int64"
      ]
     },
     "execution_count": 53,
     "metadata": {},
     "output_type": "execute_result"
    }
   ],
   "source": [
    "#RoofMatl -> Label encoding\n",
    "house.RoofMatl.value_counts()"
   ]
  },
  {
   "cell_type": "code",
   "execution_count": 55,
   "metadata": {},
   "outputs": [
    {
     "data": {
      "text/plain": [
       "VinylSd    515\n",
       "HdBoard    222\n",
       "MetalSd    220\n",
       "Wd Sdng    206\n",
       "Plywood    108\n",
       "CemntBd     61\n",
       "BrkFace     50\n",
       "WdShing     26\n",
       "Stucco      25\n",
       "AsbShng     20\n",
       "Stone        2\n",
       "BrkComm      2\n",
       "AsphShn      1\n",
       "CBlock       1\n",
       "ImStucc      1\n",
       "Name: Exterior1st, dtype: int64"
      ]
     },
     "execution_count": 55,
     "metadata": {},
     "output_type": "execute_result"
    }
   ],
   "source": [
    "#Exterior1st -> label encoding\n",
    "house.Exterior1st.value_counts()"
   ]
  },
  {
   "cell_type": "code",
   "execution_count": 56,
   "metadata": {},
   "outputs": [
    {
     "data": {
      "text/plain": [
       "VinylSd    504\n",
       "MetalSd    214\n",
       "HdBoard    207\n",
       "Wd Sdng    197\n",
       "Plywood    142\n",
       "CmentBd     60\n",
       "Wd Shng     38\n",
       "Stucco      26\n",
       "BrkFace     25\n",
       "AsbShng     20\n",
       "ImStucc     10\n",
       "Brk Cmn      7\n",
       "Stone        5\n",
       "AsphShn      3\n",
       "CBlock       1\n",
       "Other        1\n",
       "Name: Exterior2nd, dtype: int64"
      ]
     },
     "execution_count": 56,
     "metadata": {},
     "output_type": "execute_result"
    }
   ],
   "source": [
    "#Exterior2nd -> Label encoding\n",
    "house.Exterior2nd.value_counts()"
   ]
  },
  {
   "cell_type": "code",
   "execution_count": 58,
   "metadata": {},
   "outputs": [
    {
     "data": {
      "text/plain": [
       "None       864\n",
       "BrkFace    445\n",
       "Stone      128\n",
       "BrkCmn      15\n",
       "Name: MasVnrType, dtype: int64"
      ]
     },
     "execution_count": 58,
     "metadata": {},
     "output_type": "execute_result"
    }
   ],
   "source": [
    "#MasVnrType -> Na : None, Labelencoding\n",
    "house.MasVnrType.value_counts()"
   ]
  },
  {
   "cell_type": "code",
   "execution_count": 59,
   "metadata": {},
   "outputs": [
    {
     "data": {
      "text/plain": [
       "<AxesSubplot:>"
      ]
     },
     "execution_count": 59,
     "metadata": {},
     "output_type": "execute_result"
    },
    {
     "data": {
      "image/png": "[encoded data removed]",
      "text/plain": [
       "<Figure size 432x288 with 1 Axes>"
      ]
     },
     "metadata": {
      "needs_background": "light"
     },
     "output_type": "display_data"
    }
   ],
   "source": [
    "#MasVnrArea -> NA : 0\n",
    "house.MasVnrArea.hist()"
   ]
  },
  {
   "cell_type": "code",
   "execution_count": 62,
   "metadata": {},
   "outputs": [
    {
     "data": {
      "text/plain": [
       "TA    906\n",
       "Gd    488\n",
       "Ex     52\n",
       "Fa     14\n",
       "Name: ExterQual, dtype: int64"
      ]
     },
     "execution_count": 62,
     "metadata": {},
     "output_type": "execute_result"
    }
   ],
   "source": [
    "#ExterQual -> Sequential label encoding\n",
    "house.ExterQual.value_counts()"
   ]
  },
  {
   "cell_type": "code",
   "execution_count": 63,
   "metadata": {},
   "outputs": [
    {
     "data": {
      "text/plain": [
       "TA    1282\n",
       "Gd     146\n",
       "Fa      28\n",
       "Ex       3\n",
       "Po       1\n",
       "Name: ExterCond, dtype: int64"
      ]
     },
     "execution_count": 63,
     "metadata": {},
     "output_type": "execute_result"
    }
   ],
   "source": [
    "#ExterCond -> Sequential label encoding\n",
    "house.ExterCond.value_counts()"
   ]
  },
  {
   "cell_type": "code",
   "execution_count": 65,
   "metadata": {},
   "outputs": [
    {
     "data": {
      "text/plain": [
       "PConc     647\n",
       "CBlock    634\n",
       "BrkTil    146\n",
       "Slab       24\n",
       "Stone       6\n",
       "Wood        3\n",
       "Name: Foundation, dtype: int64"
      ]
     },
     "execution_count": 65,
     "metadata": {},
     "output_type": "execute_result"
    }
   ],
   "source": [
    "#Foundation -> label_encoding\n",
    "house.Foundation.value_counts()"
   ]
  },
  {
   "cell_type": "code",
   "execution_count": 66,
   "metadata": {},
   "outputs": [
    {
     "data": {
      "text/plain": [
       "TA    649\n",
       "Gd    618\n",
       "Ex    121\n",
       "Fa     35\n",
       "Name: BsmtQual, dtype: int64"
      ]
     },
     "execution_count": 66,
     "metadata": {},
     "output_type": "execute_result"
    }
   ],
   "source": [
    "#BsmtQual -> NA : 0, Sequential label encoding\n",
    "house.BsmtQual.value_counts()"
   ]
  },
  {
   "cell_type": "code",
   "execution_count": 68,
   "metadata": {},
   "outputs": [
    {
     "data": {
      "text/plain": [
       "TA    1311\n",
       "Gd      65\n",
       "Fa      45\n",
       "Po       2\n",
       "Name: BsmtCond, dtype: int64"
      ]
     },
     "execution_count": 68,
     "metadata": {},
     "output_type": "execute_result"
    }
   ],
   "source": [
    "#BsmtCond -> NA : 0, Sequential label encoding\n",
    "house.BsmtCond.value_counts()"
   ]
  },
  {
   "cell_type": "code",
   "execution_count": 70,
   "metadata": {},
   "outputs": [
    {
     "data": {
      "text/plain": [
       "No    953\n",
       "Av    221\n",
       "Gd    134\n",
       "Mn    114\n",
       "Name: BsmtExposure, dtype: int64"
      ]
     },
     "execution_count": 70,
     "metadata": {},
     "output_type": "execute_result"
    }
   ],
   "source": [
    "#BsmtExposure -> NA : 0, Sequential label encoding\n",
    "house.BsmtExposure.value_counts()"
   ]
  },
  {
   "cell_type": "code",
   "execution_count": 71,
   "metadata": {},
   "outputs": [
    {
     "data": {
      "text/plain": [
       "Unf    430\n",
       "GLQ    418\n",
       "ALQ    220\n",
       "BLQ    148\n",
       "Rec    133\n",
       "LwQ     74\n",
       "Name: BsmtFinType1, dtype: int64"
      ]
     },
     "execution_count": 71,
     "metadata": {},
     "output_type": "execute_result"
    }
   ],
   "source": [
    "#BsmtFinType1 -> NA : 0, Sequential label encoding\n",
    "house.BsmtFinType1.value_counts()"
   ]
  },
  {
   "cell_type": "code",
   "execution_count": 73,
   "metadata": {},
   "outputs": [
    {
     "data": {
      "text/plain": [
       "0       467\n",
       "24       12\n",
       "16        9\n",
       "20        5\n",
       "686       5\n",
       "       ... \n",
       "1032      1\n",
       "1022      1\n",
       "599       1\n",
       "1018      1\n",
       "1904      1\n",
       "Name: BsmtFinSF1, Length: 637, dtype: int64"
      ]
     },
     "execution_count": 73,
     "metadata": {},
     "output_type": "execute_result"
    }
   ],
   "source": [
    "#BsmtFinSF1 -> .\n",
    "house.BsmtFinSF1.value_counts()"
   ]
  },
  {
   "cell_type": "code",
   "execution_count": 33,
   "metadata": {},
   "outputs": [
    {
     "data": {
      "text/plain": [
       "Unf    1256\n",
       "Rec      54\n",
       "LwQ      46\n",
       "BLQ      33\n",
       "ALQ      19\n",
       "GLQ      14\n",
       "Name: BsmtFinType2, dtype: int64"
      ]
     },
     "execution_count": 33,
     "metadata": {},
     "output_type": "execute_result"
    }
   ],
   "source": [
    "#BsmtFinType2 -> NA : 0, Sequential label encoding\n",
    "house.BsmtFinType2.value_counts()"
   ]
  },
  {
   "cell_type": "code",
   "execution_count": null,
   "metadata": {},
   "outputs": [],
   "source": [
    "#BsmtFinSF2 -> .\n",
    "house.BsmtFinSF2.hist()"
   ]
  },
  {
   "cell_type": "code",
   "execution_count": 76,
   "metadata": {},
   "outputs": [
    {
     "data": {
      "text/plain": [
       "<AxesSubplot:>"
      ]
     },
     "execution_count": 76,
     "metadata": {},
     "output_type": "execute_result"
    },
    {
     "data": {
      "image/png": "[encoded data removed]",
      "text/plain": [
       "<Figure size 432x288 with 1 Axes>"
      ]
     },
     "metadata": {
      "needs_background": "light"
     },
     "output_type": "display_data"
    }
   ],
   "source": [
    "#BsmtUnfSF -> .\n",
    "house.BsmtUnfSF.hist()"
   ]
  },
  {
   "cell_type": "code",
   "execution_count": 77,
   "metadata": {},
   "outputs": [
    {
     "data": {
      "text/plain": [
       "<AxesSubplot:>"
      ]
     },
     "execution_count": 77,
     "metadata": {},
     "output_type": "execute_result"
    },
    {
     "data": {
      "image/png": "[encoded data removed]",
      "text/plain": [
       "<Figure size 432x288 with 1 Axes>"
      ]
     },
     "metadata": {
      "needs_background": "light"
     },
     "output_type": "display_data"
    }
   ],
   "source": [
    "#TotalBsmtSF -> .\n",
    "house.TotalBsmtSF.hist()"
   ]
  },
  {
   "cell_type": "code",
   "execution_count": 78,
   "metadata": {},
   "outputs": [
    {
     "data": {
      "text/plain": [
       "GasA     1428\n",
       "GasW       18\n",
       "Grav        7\n",
       "Wall        4\n",
       "OthW        2\n",
       "Floor       1\n",
       "Name: Heating, dtype: int64"
      ]
     },
     "execution_count": 78,
     "metadata": {},
     "output_type": "execute_result"
    }
   ],
   "source": [
    "#Heating -> label encoding\n",
    "house.Heating.value_counts()"
   ]
  },
  {
   "cell_type": "code",
   "execution_count": 80,
   "metadata": {},
   "outputs": [
    {
     "data": {
      "text/plain": [
       "Ex    741\n",
       "TA    428\n",
       "Gd    241\n",
       "Fa     49\n",
       "Po      1\n",
       "Name: HeatingQC, dtype: int64"
      ]
     },
     "execution_count": 80,
     "metadata": {},
     "output_type": "execute_result"
    }
   ],
   "source": [
    "#HeatingQC -> Sequential label encoding\n",
    "house.HeatingQC.value_counts()"
   ]
  },
  {
   "cell_type": "code",
   "execution_count": 82,
   "metadata": {},
   "outputs": [
    {
     "data": {
      "text/plain": [
       "Y    1365\n",
       "N      95\n",
       "Name: CentralAir, dtype: int64"
      ]
     },
     "execution_count": 82,
     "metadata": {},
     "output_type": "execute_result"
    }
   ],
   "source": [
    "#CentralAir -> Label encoding\n",
    "house.CentralAir.value_counts()"
   ]
  },
  {
   "cell_type": "code",
   "execution_count": 84,
   "metadata": {},
   "outputs": [
    {
     "data": {
      "text/plain": [
       "SBrkr    1334\n",
       "FuseA      94\n",
       "FuseF      27\n",
       "FuseP       3\n",
       "Mix         1\n",
       "Name: Electrical, dtype: int64"
      ]
     },
     "execution_count": 84,
     "metadata": {},
     "output_type": "execute_result"
    }
   ],
   "source": [
    "#Electrical -> Remove NA row, label_encoding\n",
    "house.Electrical.value_counts()"
   ]
  },
  {
   "cell_type": "code",
   "execution_count": 86,
   "metadata": {},
   "outputs": [
    {
     "data": {
      "text/plain": [
       "<AxesSubplot:>"
      ]
     },
     "execution_count": 86,
     "metadata": {},
     "output_type": "execute_result"
    },
    {
     "data": {
      "image/png": "[encoded data removed]",
      "text/plain": [
       "<Figure size 432x288 with 1 Axes>"
      ]
     },
     "metadata": {
      "needs_background": "light"
     },
     "output_type": "display_data"
    }
   ],
   "source": [
    "#1stFlrSF -> .\n",
    "house['1stFlrSF'].hist()"
   ]
  },
  {
   "cell_type": "code",
   "execution_count": 88,
   "metadata": {},
   "outputs": [
    {
     "data": {
      "text/plain": [
       "<AxesSubplot:>"
      ]
     },
     "execution_count": 88,
     "metadata": {},
     "output_type": "execute_result"
    },
    {
     "data": {
      "image/png": "[encoded data removed]",
      "text/plain": [
       "<Figure size 432x288 with 1 Axes>"
      ]
     },
     "metadata": {
      "needs_background": "light"
     },
     "output_type": "display_data"
    }
   ],
   "source": [
    "#2ndFlrSF -> .\n",
    "house['2ndFlrSF'].hist()"
   ]
  },
  {
   "cell_type": "code",
   "execution_count": 89,
   "metadata": {},
   "outputs": [
    {
     "data": {
      "text/plain": [
       "<AxesSubplot:>"
      ]
     },
     "execution_count": 89,
     "metadata": {},
     "output_type": "execute_result"
    },
    {
     "data": {
      "image/png": "[encoded data removed]",
      "text/plain": [
       "<Figure size 432x288 with 1 Axes>"
      ]
     },
     "metadata": {
      "needs_background": "light"
     },
     "output_type": "display_data"
    }
   ],
   "source": [
    "#LowQualFinSF -> .\n",
    "house.LowQualFinSF.hist()"
   ]
  },
  {
   "cell_type": "code",
   "execution_count": 91,
   "metadata": {},
   "outputs": [
    {
     "data": {
      "text/plain": [
       "<AxesSubplot:>"
      ]
     },
     "execution_count": 91,
     "metadata": {},
     "output_type": "execute_result"
    },
    {
     "data": {
      "image/png": "[encoded data removed]",
      "text/plain": [
       "<Figure size 432x288 with 1 Axes>"
      ]
     },
     "metadata": {
      "needs_background": "light"
     },
     "output_type": "display_data"
    }
   ],
   "source": [
    "#GrLivArea ->\n",
    "house.GrLivArea.hist()"
   ]
  },
  {
   "cell_type": "code",
   "execution_count": 92,
   "metadata": {},
   "outputs": [
    {
     "data": {
      "text/plain": [
       "<AxesSubplot:>"
      ]
     },
     "execution_count": 92,
     "metadata": {},
     "output_type": "execute_result"
    },
    {
     "data": {
      "image/png": "[encoded data removed]",
      "text/plain": [
       "<Figure size 432x288 with 1 Axes>"
      ]
     },
     "metadata": {
      "needs_background": "light"
     },
     "output_type": "display_data"
    }
   ],
   "source": [
    "#BsmtFullBatch -> .\n",
    "house.BsmtFullBath.hist()"
   ]
  },
  {
   "cell_type": "code",
   "execution_count": 93,
   "metadata": {},
   "outputs": [
    {
     "data": {
      "text/plain": [
       "<AxesSubplot:>"
      ]
     },
     "execution_count": 93,
     "metadata": {},
     "output_type": "execute_result"
    },
    {
     "data": {
      "image/png": "[encoded data removed]",
      "text/plain": [
       "<Figure size 432x288 with 1 Axes>"
      ]
     },
     "metadata": {
      "needs_background": "light"
     },
     "output_type": "display_data"
    }
   ],
   "source": [
    "#BsmtHalfBatch -> .\n",
    "house.BsmtHalfBath.hist()"
   ]
  },
  {
   "cell_type": "code",
   "execution_count": 95,
   "metadata": {},
   "outputs": [
    {
     "data": {
      "text/plain": [
       "<AxesSubplot:>"
      ]
     },
     "execution_count": 95,
     "metadata": {},
     "output_type": "execute_result"
    },
    {
     "data": {
      "image/png": "[encoded data removed]",
      "text/plain": [
       "<Figure size 432x288 with 1 Axes>"
      ]
     },
     "metadata": {
      "needs_background": "light"
     },
     "output_type": "display_data"
    }
   ],
   "source": [
    "#FullBath -> .\n",
    "house.FullBath.hist()"
   ]
  },
  {
   "cell_type": "code",
   "execution_count": 96,
   "metadata": {},
   "outputs": [
    {
     "data": {
      "text/plain": [
       "<AxesSubplot:>"
      ]
     },
     "execution_count": 96,
     "metadata": {},
     "output_type": "execute_result"
    },
    {
     "data": {
      "image/png": "[encoded data removed]",
      "text/plain": [
       "<Figure size 432x288 with 1 Axes>"
      ]
     },
     "metadata": {
      "needs_background": "light"
     },
     "output_type": "display_data"
    }
   ],
   "source": [
    "#HalfBath -> .\n",
    "house.HalfBath.hist()"
   ]
  },
  {
   "cell_type": "code",
   "execution_count": 97,
   "metadata": {},
   "outputs": [
    {
     "data": {
      "text/plain": [
       "<AxesSubplot:>"
      ]
     },
     "execution_count": 97,
     "metadata": {},
     "output_type": "execute_result"
    },
    {
     "data": {
      "image/png": "[encoded data removed]",
      "text/plain": [
       "<Figure size 432x288 with 1 Axes>"
      ]
     },
     "metadata": {
      "needs_background": "light"
     },
     "output_type": "display_data"
    }
   ],
   "source": [
    "#BedroomAbvGr -> .\n",
    "house.BedroomAbvGr.hist()"
   ]
  },
  {
   "cell_type": "code",
   "execution_count": 98,
   "metadata": {},
   "outputs": [
    {
     "data": {
      "text/plain": [
       "<AxesSubplot:>"
      ]
     },
     "execution_count": 98,
     "metadata": {},
     "output_type": "execute_result"
    },
    {
     "data": {
      "image/png": "[encoded data removed]",
      "text/plain": [
       "<Figure size 432x288 with 1 Axes>"
      ]
     },
     "metadata": {
      "needs_background": "light"
     },
     "output_type": "display_data"
    }
   ],
   "source": [
    "#KitchenAbvGr -> .\n",
    "house.KitchenAbvGr.hist()"
   ]
  },
  {
   "cell_type": "code",
   "execution_count": 100,
   "metadata": {},
   "outputs": [
    {
     "data": {
      "text/plain": [
       "TA    735\n",
       "Gd    586\n",
       "Ex    100\n",
       "Fa     39\n",
       "Name: KitchenQual, dtype: int64"
      ]
     },
     "execution_count": 100,
     "metadata": {},
     "output_type": "execute_result"
    }
   ],
   "source": [
    "#KitchenQual -> Sequential label encoding\n",
    "house.KitchenQual.value_counts()"
   ]
  },
  {
   "cell_type": "code",
   "execution_count": 102,
   "metadata": {},
   "outputs": [
    {
     "data": {
      "text/plain": [
       "<AxesSubplot:>"
      ]
     },
     "execution_count": 102,
     "metadata": {},
     "output_type": "execute_result"
    },
    {
     "data": {
      "image/png": "[encoded data removed]",
      "text/plain": [
       "<Figure size 432x288 with 1 Axes>"
      ]
     },
     "metadata": {
      "needs_background": "light"
     },
     "output_type": "display_data"
    }
   ],
   "source": [
    "#TotRmsAbvGrd -> .\n",
    "house.TotRmsAbvGrd.hist()"
   ]
  },
  {
   "cell_type": "code",
   "execution_count": 104,
   "metadata": {},
   "outputs": [
    {
     "data": {
      "text/plain": [
       "Typ     1360\n",
       "Min2      34\n",
       "Min1      31\n",
       "Mod       15\n",
       "Maj1      14\n",
       "Maj2       5\n",
       "Sev        1\n",
       "Name: Functional, dtype: int64"
      ]
     },
     "execution_count": 104,
     "metadata": {},
     "output_type": "execute_result"
    }
   ],
   "source": [
    "#Functional -> label encoding\n",
    "house.Functional.value_counts()"
   ]
  },
  {
   "cell_type": "code",
   "execution_count": 107,
   "metadata": {},
   "outputs": [
    {
     "data": {
      "text/plain": [
       "0    690\n",
       "1    650\n",
       "2    115\n",
       "3      5\n",
       "Name: Fireplaces, dtype: int64"
      ]
     },
     "execution_count": 107,
     "metadata": {},
     "output_type": "execute_result"
    }
   ],
   "source": [
    "#Fireplaces -> .\n",
    "house.Fireplaces.value_counts()"
   ]
  },
  {
   "cell_type": "code",
   "execution_count": 108,
   "metadata": {},
   "outputs": [
    {
     "data": {
      "text/plain": [
       "Gd    380\n",
       "TA    313\n",
       "Fa     33\n",
       "Ex     24\n",
       "Po     20\n",
       "Name: FireplaceQu, dtype: int64"
      ]
     },
     "execution_count": 108,
     "metadata": {},
     "output_type": "execute_result"
    }
   ],
   "source": [
    "#FireplacesQu -> Sequential label encoding\n",
    "house.FireplaceQu.value_counts()"
   ]
  },
  {
   "cell_type": "code",
   "execution_count": 109,
   "metadata": {},
   "outputs": [
    {
     "data": {
      "text/plain": [
       "Attchd     870\n",
       "Detchd     387\n",
       "BuiltIn     88\n",
       "Basment     19\n",
       "CarPort      9\n",
       "2Types       6\n",
       "Name: GarageType, dtype: int64"
      ]
     },
     "execution_count": 109,
     "metadata": {},
     "output_type": "execute_result"
    }
   ],
   "source": [
    "#GarageType -> NA : 0, label_encoding\n",
    "house.GarageType.value_counts()"
   ]
  },
  {
   "cell_type": "code",
   "execution_count": 110,
   "metadata": {},
   "outputs": [
    {
     "data": {
      "text/plain": [
       "<AxesSubplot:>"
      ]
     },
     "execution_count": 110,
     "metadata": {},
     "output_type": "execute_result"
    },
    {
     "data": {
      "image/png": "[encoded data removed]",
      "text/plain": [
       "<Figure size 432x288 with 1 Axes>"
      ]
     },
     "metadata": {
      "needs_background": "light"
     },
     "output_type": "display_data"
    }
   ],
   "source": [
    "#GarageYrBlt -> NA : 0\n",
    "house.GarageYrBlt.hist()"
   ]
  },
  {
   "cell_type": "code",
   "execution_count": 111,
   "metadata": {},
   "outputs": [
    {
     "data": {
      "text/plain": [
       "Unf    605\n",
       "RFn    422\n",
       "Fin    352\n",
       "Name: GarageFinish, dtype: int64"
      ]
     },
     "execution_count": 111,
     "metadata": {},
     "output_type": "execute_result"
    }
   ],
   "source": [
    "#GarageFinish -> NA : 0, Sequential label encoding\n",
    "house.GarageFinish.value_counts()"
   ]
  },
  {
   "cell_type": "code",
   "execution_count": 112,
   "metadata": {},
   "outputs": [
    {
     "data": {
      "text/plain": [
       "<AxesSubplot:>"
      ]
     },
     "execution_count": 112,
     "metadata": {},
     "output_type": "execute_result"
    },
    {
     "data": {
      "image/png": "[encoded data removed]",
      "text/plain": [
       "<Figure size 432x288 with 1 Axes>"
      ]
     },
     "metadata": {
      "needs_background": "light"
     },
     "output_type": "display_data"
    }
   ],
   "source": [
    "#GarageCars -> .\n",
    "house.GarageCars.hist()"
   ]
  },
  {
   "cell_type": "code",
   "execution_count": 113,
   "metadata": {},
   "outputs": [
    {
     "data": {
      "text/plain": [
       "<AxesSubplot:>"
      ]
     },
     "execution_count": 113,
     "metadata": {},
     "output_type": "execute_result"
    },
    {
     "data": {
      "image/png": "[encoded data removed]",
      "text/plain": [
       "<Figure size 432x288 with 1 Axes>"
      ]
     },
     "metadata": {
      "needs_background": "light"
     },
     "output_type": "display_data"
    }
   ],
   "source": [
    "#GarageArea -> .\n",
    "house.GarageArea.hist()"
   ]
  },
  {
   "cell_type": "code",
   "execution_count": 116,
   "metadata": {},
   "outputs": [
    {
     "data": {
      "text/plain": [
       "TA    1311\n",
       "Fa      48\n",
       "Gd      14\n",
       "Po       3\n",
       "Ex       3\n",
       "Name: GarageQual, dtype: int64"
      ]
     },
     "execution_count": 116,
     "metadata": {},
     "output_type": "execute_result"
    }
   ],
   "source": [
    "#GarageQual -> NA : 0, Sequential label encoding\n",
    "house.GarageQual.value_counts()"
   ]
  },
  {
   "cell_type": "code",
   "execution_count": 118,
   "metadata": {},
   "outputs": [
    {
     "data": {
      "text/plain": [
       "TA    1326\n",
       "Fa      35\n",
       "Gd       9\n",
       "Po       7\n",
       "Ex       2\n",
       "Name: GarageCond, dtype: int64"
      ]
     },
     "execution_count": 118,
     "metadata": {},
     "output_type": "execute_result"
    }
   ],
   "source": [
    "#GarageCond -> NA : 0. Sequential label encoding\n",
    "house.GarageCond.value_counts()"
   ]
  },
  {
   "cell_type": "code",
   "execution_count": 120,
   "metadata": {},
   "outputs": [
    {
     "data": {
      "text/plain": [
       "Y    1340\n",
       "N      90\n",
       "P      30\n",
       "Name: PavedDrive, dtype: int64"
      ]
     },
     "execution_count": 120,
     "metadata": {},
     "output_type": "execute_result"
    }
   ],
   "source": [
    "#PavedDrive -> label encoding\n",
    "house.PavedDrive.value_counts()"
   ]
  },
  {
   "cell_type": "code",
   "execution_count": 122,
   "metadata": {},
   "outputs": [
    {
     "data": {
      "text/plain": [
       "<AxesSubplot:>"
      ]
     },
     "execution_count": 122,
     "metadata": {},
     "output_type": "execute_result"
    },
    {
     "data": {
      "image/png": "[encoded data removed]",
      "text/plain": [
       "<Figure size 432x288 with 1 Axes>"
      ]
     },
     "metadata": {
      "needs_background": "light"
     },
     "output_type": "display_data"
    }
   ],
   "source": [
    "#WoodDeckSF -> .\n",
    "house.WoodDeckSF.hist()"
   ]
  },
  {
   "cell_type": "code",
   "execution_count": 123,
   "metadata": {},
   "outputs": [
    {
     "data": {
      "text/plain": [
       "<AxesSubplot:>"
      ]
     },
     "execution_count": 123,
     "metadata": {},
     "output_type": "execute_result"
    },
    {
     "data": {
      "image/png": "[encoded data removed]",
      "text/plain": [
       "<Figure size 432x288 with 1 Axes>"
      ]
     },
     "metadata": {
      "needs_background": "light"
     },
     "output_type": "display_data"
    }
   ],
   "source": [
    "#OpenPorchSF -> .\n",
    "house.OpenPorchSF.hist()"
   ]
  },
  {
   "cell_type": "code",
   "execution_count": 125,
   "metadata": {},
   "outputs": [
    {
     "data": {
      "text/plain": [
       "<AxesSubplot:>"
      ]
     },
     "execution_count": 125,
     "metadata": {},
     "output_type": "execute_result"
    },
    {
     "data": {
      "image/png": "[encoded data removed]",
      "text/plain": [
       "<Figure size 432x288 with 1 Axes>"
      ]
     },
     "metadata": {
      "needs_background": "light"
     },
     "output_type": "display_data"
    }
   ],
   "source": [
    "#EnclosedPorch -> .\n",
    "house.EnclosedPorch.hist()"
   ]
  },
  {
   "cell_type": "code",
   "execution_count": 126,
   "metadata": {},
   "outputs": [
    {
     "data": {
      "text/plain": [
       "<AxesSubplot:>"
      ]
     },
     "execution_count": 126,
     "metadata": {},
     "output_type": "execute_result"
    },
    {
     "data": {
      "image/png": "[encoded data removed]",
      "text/plain": [
       "<Figure size 432x288 with 1 Axes>"
      ]
     },
     "metadata": {
      "needs_background": "light"
     },
     "output_type": "display_data"
    }
   ],
   "source": [
    "#3SsnPorch -> .\n",
    "house['3SsnPorch'].hist()"
   ]
  },
  {
   "cell_type": "code",
   "execution_count": 127,
   "metadata": {},
   "outputs": [
    {
     "data": {
      "text/plain": [
       "<AxesSubplot:>"
      ]
     },
     "execution_count": 127,
     "metadata": {},
     "output_type": "execute_result"
    },
    {
     "data": {
      "image/png": "[encoded data removed]",
      "text/plain": [
       "<Figure size 432x288 with 1 Axes>"
      ]
     },
     "metadata": {
      "needs_background": "light"
     },
     "output_type": "display_data"
    }
   ],
   "source": [
    "#ScreenPorch -> .\n",
    "house.ScreenPorch.hist()"
   ]
  },
  {
   "cell_type": "code",
   "execution_count": 128,
   "metadata": {},
   "outputs": [
    {
     "data": {
      "text/plain": [
       "<AxesSubplot:>"
      ]
     },
     "execution_count": 128,
     "metadata": {},
     "output_type": "execute_result"
    },
    {
     "data": {
      "image/png": "[encoded data removed]",
      "text/plain": [
       "<Figure size 432x288 with 1 Axes>"
      ]
     },
     "metadata": {
      "needs_background": "light"
     },
     "output_type": "display_data"
    }
   ],
   "source": [
    "#PoolArea -> .\n",
    "house.PoolArea.hist()"
   ]
  },
  {
   "cell_type": "code",
   "execution_count": 130,
   "metadata": {},
   "outputs": [
    {
     "data": {
      "text/plain": [
       "Gd    3\n",
       "Fa    2\n",
       "Ex    2\n",
       "Name: PoolQC, dtype: int64"
      ]
     },
     "execution_count": 130,
     "metadata": {},
     "output_type": "execute_result"
    }
   ],
   "source": [
    "#PoolQC -> NA : 0, Sequential label encoding\n",
    "house.PoolQC.value_counts()"
   ]
  },
  {
   "cell_type": "code",
   "execution_count": 134,
   "metadata": {},
   "outputs": [
    {
     "data": {
      "text/plain": [
       "MnPrv    157\n",
       "GdPrv     59\n",
       "GdWo      54\n",
       "MnWw      11\n",
       "Name: Fence, dtype: int64"
      ]
     },
     "execution_count": 134,
     "metadata": {},
     "output_type": "execute_result"
    }
   ],
   "source": [
    "#Fence NA : 0, label encoding\n",
    "house.Fence.value_counts()"
   ]
  },
  {
   "cell_type": "code",
   "execution_count": 136,
   "metadata": {},
   "outputs": [
    {
     "data": {
      "text/plain": [
       "Shed    49\n",
       "Gar2     2\n",
       "Othr     2\n",
       "TenC     1\n",
       "Name: MiscFeature, dtype: int64"
      ]
     },
     "execution_count": 136,
     "metadata": {},
     "output_type": "execute_result"
    }
   ],
   "source": [
    "#MiscFeature NA : 0, label encoding\n",
    "house.MiscFeature.value_counts()"
   ]
  },
  {
   "cell_type": "code",
   "execution_count": 137,
   "metadata": {},
   "outputs": [
    {
     "data": {
      "text/plain": [
       "<AxesSubplot:>"
      ]
     },
     "execution_count": 137,
     "metadata": {},
     "output_type": "execute_result"
    },
    {
     "data": {
      "image/png": "[encoded data removed]",
      "text/plain": [
       "<Figure size 432x288 with 1 Axes>"
      ]
     },
     "metadata": {
      "needs_background": "light"
     },
     "output_type": "display_data"
    }
   ],
   "source": [
    "#MiscVal -> .\n",
    "house.MiscVal.hist()"
   ]
  },
  {
   "cell_type": "code",
   "execution_count": 138,
   "metadata": {},
   "outputs": [
    {
     "data": {
      "text/plain": [
       "<AxesSubplot:>"
      ]
     },
     "execution_count": 138,
     "metadata": {},
     "output_type": "execute_result"
    },
    {
     "data": {
      "image/png": "[encoded data removed]",
      "text/plain": [
       "<Figure size 432x288 with 1 Axes>"
      ]
     },
     "metadata": {
      "needs_background": "light"
     },
     "output_type": "display_data"
    }
   ],
   "source": [
    "#MoSold -> .\n",
    "house.MoSold.hist()"
   ]
  },
  {
   "cell_type": "code",
   "execution_count": 140,
   "metadata": {},
   "outputs": [
    {
     "data": {
      "text/plain": [
       "<AxesSubplot:>"
      ]
     },
     "execution_count": 140,
     "metadata": {},
     "output_type": "execute_result"
    },
    {
     "data": {
      "image/png": "[encoded data removed]",
      "text/plain": [
       "<Figure size 432x288 with 1 Axes>"
      ]
     },
     "metadata": {
      "needs_background": "light"
     },
     "output_type": "display_data"
    }
   ],
   "source": [
    "#YrSold -> .\n",
    "house.YrSold.hist()"
   ]
  },
  {
   "cell_type": "code",
   "execution_count": 142,
   "metadata": {},
   "outputs": [
    {
     "data": {
      "text/plain": [
       "WD       1267\n",
       "New       122\n",
       "COD        43\n",
       "ConLD       9\n",
       "ConLw       5\n",
       "ConLI       5\n",
       "CWD         4\n",
       "Oth         3\n",
       "Con         2\n",
       "Name: SaleType, dtype: int64"
      ]
     },
     "execution_count": 142,
     "metadata": {},
     "output_type": "execute_result"
    }
   ],
   "source": [
    "#SaleType -> label_encoding\n",
    "house.SaleType.value_counts()"
   ]
  },
  {
   "cell_type": "code",
   "execution_count": 144,
   "metadata": {},
   "outputs": [
    {
     "data": {
      "text/plain": [
       "Normal     1198\n",
       "Partial     125\n",
       "Abnorml     101\n",
       "Family       20\n",
       "Alloca       12\n",
       "AdjLand       4\n",
       "Name: SaleCondition, dtype: int64"
      ]
     },
     "execution_count": 144,
     "metadata": {},
     "output_type": "execute_result"
    }
   ],
   "source": [
    "#Salecondition -> label encoding\n",
    "house.SaleCondition.value_counts()"
   ]
  },
  {
   "cell_type": "code",
   "execution_count": 146,
   "metadata": {},
   "outputs": [
    {
     "data": {
      "text/plain": [
       "<AxesSubplot:>"
      ]
     },
     "execution_count": 146,
     "metadata": {},
     "output_type": "execute_result"
    },
    {
     "data": {
      "image/png": "[encoded data removed]",
      "text/plain": [
       "<Figure size 432x288 with 1 Axes>"
      ]
     },
     "metadata": {
      "needs_background": "light"
     },
     "output_type": "display_data"
    }
   ],
   "source": [
    "#SalePrice -> label\n",
    "house.SalePrice.hist()"
   ]
  },
  {
   "cell_type": "code",
   "execution_count": 7,
   "metadata": {},
   "outputs": [],
   "source": [
    "le = preprocessing.LabelEncoder()\n",
    "\n",
    "def convert(c):\n",
    "    if c == np.NaN:\n",
    "        return int(0)\n",
    "    if c == 'Po':\n",
    "        return int(1)\n",
    "    if c == 'Fa':\n",
    "        return int(2)\n",
    "    if c == 'TA':\n",
    "        return int(3)\n",
    "    if c == 'Gd':\n",
    "        return int(4)\n",
    "    else:\n",
    "        return int(5)\n",
    "    \n",
    "def convert2(c2):\n",
    "    if c2 == np.NaN:\n",
    "        return int(0)\n",
    "    if c2 == 'No':\n",
    "        return int(1)\n",
    "    if c2 == 'Mn':\n",
    "        return int(2)\n",
    "    if c2 == 'Av':\n",
    "        return int(3)\n",
    "    else:\n",
    "        return int(4)\n",
    "    \n",
    "def convert3(c3):\n",
    "    if c3 == np.NaN:\n",
    "        return int(0)\n",
    "    if c3 == 'Unf':\n",
    "        return int(1)\n",
    "    if c3 == 'LwQ':\n",
    "        return int(2)\n",
    "    if c3 == 'Rec':\n",
    "        return int(3)\n",
    "    if c3 == 'BLQ':\n",
    "        return int(4)\n",
    "    if c3 == 'ALQ':\n",
    "        return int(5)\n",
    "    else:\n",
    "        return int(6)\n",
    "\n",
    "def convert4(c4):\n",
    "    if c4 == np.NaN:\n",
    "        return int(0)\n",
    "    if c4 == 'Unf':\n",
    "        return int(1)\n",
    "    if c4 == 'RFn':\n",
    "        return int(2)\n",
    "    else:\n",
    "        return int(3)"
   ]
  },
  {
   "cell_type": "code",
   "execution_count": null,
   "metadata": {},
   "outputs": [],
   "source": []
  },
  {
   "cell_type": "code",
   "execution_count": 8,
   "metadata": {},
   "outputs": [],
   "source": [
    "def preprocessing1(tdf):\n",
    "    #MSSubClass\n",
    "    MSSC = tdf.MSSubClass.astype('category')\n",
    "    tdf.MSSubClass = le.fit_transform(MSSC)\n",
    "    #MSZoning\n",
    "    tdf.MSZoning = le.fit_transform(tdf.MSZoning.replace(np.NaN, 'RL'))\n",
    "    #LotFrontage\n",
    "    tdf.LotFrontage = tdf.LotFrontage.replace(np.NaN, 0)\n",
    "    #LotArea -> Normalization, clipping...?\n",
    "    tdf.LotArea = np.clip(tdf.LotArea, a_max=70000, a_min = 0)\n",
    "    #Street -> Label_encoding\n",
    "    tdf.Street = le.fit_transform(tdf.Street)\n",
    "    #Alley -> Label encoding, NA means -> Label\n",
    "    tdf.Alley = le.fit_transform(tdf.Alley.replace(np.NaN, 'NoAccess'))\n",
    "    #LotShape -> Label encoding\n",
    "    tdf.LotShape = le.fit_transform(tdf.LotShape)\n",
    "    #LandContour -> Label encoding\n",
    "    tdf.LandContour = le.fit_transform(tdf.LandContour)\n",
    "    #Utilities -> Label_encoding\n",
    "    tdf.Utilities = le.fit_transform(tdf.Utilities.replace(np.NaN, 'AllPub'))\n",
    "    #LotConfig -> Labelencoding\n",
    "    tdf.LotConfig = le.fit_transform(tdf.LotConfig)\n",
    "    #landSlope -> Labelencoding\n",
    "    tdf.LandSlope = le.fit_transform(tdf.LandSlope)\n",
    "    #Neighborhood -> label encoding\n",
    "    tdf.Neighborhood = le.fit_transform(tdf.Neighborhood)\n",
    "    #Condition1 -> Label encoding\n",
    "    tdf.Condition1 = le.fit_transform(tdf.Condition1)\n",
    "    #Condition2 -> Label encoding\n",
    "    tdf.Condition2 = le.fit_transform(tdf.Condition2)\n",
    "    #BldgType -> Label encoding\n",
    "    tdf.BldgType = le.fit_transform(tdf.BldgType)\n",
    "    #HouseStyle -> label encoding\n",
    "    tdf.HouseStyle = le.fit_transform(tdf.HouseStyle)\n",
    "    #YearRemodAdd -> if n == YearBuilt : 0\n",
    "    zz = []\n",
    "    for i in range(0,len(tdf)):\n",
    "        if house.iloc[i,18] == house.iloc[i,19]:\n",
    "            zz.append(0)\n",
    "        else:\n",
    "            zz.append(house.iloc[i,19])\n",
    "    tdf.YearRemodAdd = zz\n",
    "    #RoofStyle -> Label encoding\n",
    "    tdf.RoofStyle = le.fit_transform(tdf.RoofStyle)\n",
    "    #RoofMatl -> Label encoding\n",
    "    tdf.RoofMatl = le.fit_transform(tdf.RoofMatl)\n",
    "    #Exterior1st -> label encoding\n",
    "    tdf.Exterior1st = le.fit_transform(tdf.Exterior1st.replace(np.NaN, 'VinylSd'))\n",
    "    #Exterior2nd -> Label encoding\n",
    "    tdf.Exterior2nd = le.fit_transform(tdf.Exterior2nd.replace(np.NaN, 'VinylSd'))\n",
    "    #MasVnrType -> Na : None, Labelencoding\n",
    "    tdf.MasVnrType = le.fit_transform(tdf.MasVnrType.replace(np.NaN, 'None'))\n",
    "    #MasVnrArea -> NA : 0\n",
    "    tdf.MasVnrArea = tdf.MasVnrArea.replace(np.NaN, 0)\n",
    "    #ExterQual -> Sequential label encoding\n",
    "    tdf.ExterQual = tdf.ExterQual.apply(convert)\n",
    "    #ExterCond -> Sequential label encoding\n",
    "    tdf.ExterCond = tdf.ExterCond.apply(convert)\n",
    "    #Foundation -> label_encoding\n",
    "    tdf.Foundation = le.fit_transform(tdf.Foundation)\n",
    "    #BsmtQual -> NA : 0, Sequential label encoding\n",
    "    tdf.BsmtQual = tdf.BsmtQual.apply(convert)\n",
    "    #BsmtCond -> NA : 0, Sequential label encoding\n",
    "    tdf.BsmtCond = tdf.BsmtQual.apply(convert)\n",
    "    #BsmtExposure -> NA : 0, Sequential label encoding\n",
    "    tdf.BsmtExposure = tdf.BsmtExposure.apply(convert2)\n",
    "    #BsmtFinType1 -> NA : 0, Sequential label encoding\n",
    "    tdf.BsmtFinType1 = tdf.BsmtFinType1.apply(convert3)\n",
    "    #BsmtFinType2 -> NA : 0, Sequential label encoding\n",
    "    tdf.BsmtFinType2 = tdf.BsmtFinType2.apply(convert3)\n",
    "    #Heating -> label encoding\n",
    "    tdf.Heating = le.fit_transform(tdf.Heating)\n",
    "    #HeatingQC -> Sequential label encoding\n",
    "    tdf.HeatingQC = tdf.HeatingQC.apply(convert)\n",
    "    #CentralAir -> Label encoding\n",
    "    tdf.CentralAir = le.fit_transform(tdf.CentralAir)\n",
    "    #Electrical -> NA to 'None', label_encoding\n",
    "    tdf.Electrical = le.fit_transform(tdf.Electrical.replace(np.NaN, 'None'))\n",
    "    #KitchenQual -> Sequential label encoding\n",
    "    tdf.KitchenQual = tdf.KitchenQual.apply(convert)\n",
    "    #Functional -> label encoding\n",
    "    tdf.Functional = le.fit_transform(tdf.Functional.replace(np.NaN, 'Typ'))\n",
    "    #FireplacesQu -> Sequential label encoding\n",
    "    tdf.FireplaceQu = tdf.FireplaceQu.apply(convert)\n",
    "    #GarageType -> NA : 0, label_encoding\n",
    "    tdf.GarageType = le.fit_transform(tdf.GarageType.replace(np.NaN, 'None'))\n",
    "    #GarageYrBlt -> NA : 0\n",
    "    tdf.GarageYrBlt = tdf.GarageYrBlt.replace(np.NaN, int(0))\n",
    "    #GarageFinish -> NA : 0, Sequential label encoding\n",
    "    tdf.GarageFinish = tdf.GarageFinish.apply(convert4)\n",
    "    #GarageQual -> NA : 0, Sequential label encoding\n",
    "    tdf.GarageQual = tdf.GarageQual.apply(convert)\n",
    "    #GarageCond -> NA : 0. Sequential label encoding\n",
    "    tdf.GarageCond = tdf.GarageCond.apply(convert)\n",
    "    #PavedDrive -> label encoding\n",
    "    tdf.PavedDrive = le.fit_transform(tdf.PavedDrive)\n",
    "    #PoolQC -> NA : 0, Sequential label encoding\n",
    "    tdf.PoolQC = tdf.PoolQC.apply(convert)\n",
    "    #Fence NA : 0, label encoding\n",
    "    tdf.Fence = le.fit_transform(tdf.Fence.replace(np.NaN, 'None'))\n",
    "    #MiscFeature NA : 0, label encoding\n",
    "    tdf.MiscFeature = le.fit_transform(tdf.MiscFeature.replace(np.NaN, 'None'))\n",
    "    #SaleType -> label_encoding\n",
    "    tdf.SaleType = le.fit_transform(tdf.SaleType.replace(np.NaN, 'WD'))\n",
    "    #Salecondition -> label encoding\n",
    "    tdf.SaleCondition = le.fit_transform(tdf.SaleCondition)\n",
    "    \n",
    "    return(tdf)"
   ]
  },
  {
   "cell_type": "code",
   "execution_count": 11,
   "metadata": {},
   "outputs": [],
   "source": [
    "train = preprocessing1(house)"
   ]
  },
  {
   "cell_type": "code",
   "execution_count": 12,
   "metadata": {},
   "outputs": [
    {
     "data": {
      "text/html": [
       "<div>\n",
       "<style scoped>\n",
       "    .dataframe tbody tr th:only-of-type {\n",
       "        vertical-align: middle;\n",
       "    }\n",
       "\n",
       "    .dataframe tbody tr th {\n",
       "        vertical-align: top;\n",
       "    }\n",
       "\n",
       "    .dataframe thead th {\n",
       "        text-align: right;\n",
       "    }\n",
       "</style>\n",
       "<table border=\"1\" class=\"dataframe\">\n",
       "  <thead>\n",
       "    <tr style=\"text-align: right;\">\n",
       "      <th></th>\n",
       "      <th>MSSubClass</th>\n",
       "      <th>MSZoning</th>\n",
       "      <th>LotFrontage</th>\n",
       "      <th>LotArea</th>\n",
       "      <th>Street</th>\n",
       "      <th>Alley</th>\n",
       "      <th>LotShape</th>\n",
       "      <th>LandContour</th>\n",
       "      <th>Utilities</th>\n",
       "      <th>LotConfig</th>\n",
       "      <th>...</th>\n",
       "      <th>PoolArea</th>\n",
       "      <th>PoolQC</th>\n",
       "      <th>Fence</th>\n",
       "      <th>MiscFeature</th>\n",
       "      <th>MiscVal</th>\n",
       "      <th>MoSold</th>\n",
       "      <th>YrSold</th>\n",
       "      <th>SaleType</th>\n",
       "      <th>SaleCondition</th>\n",
       "      <th>SalePrice</th>\n",
       "    </tr>\n",
       "    <tr>\n",
       "      <th>Id</th>\n",
       "      <th></th>\n",
       "      <th></th>\n",
       "      <th></th>\n",
       "      <th></th>\n",
       "      <th></th>\n",
       "      <th></th>\n",
       "      <th></th>\n",
       "      <th></th>\n",
       "      <th></th>\n",
       "      <th></th>\n",
       "      <th></th>\n",
       "      <th></th>\n",
       "      <th></th>\n",
       "      <th></th>\n",
       "      <th></th>\n",
       "      <th></th>\n",
       "      <th></th>\n",
       "      <th></th>\n",
       "      <th></th>\n",
       "      <th></th>\n",
       "      <th></th>\n",
       "    </tr>\n",
       "  </thead>\n",
       "  <tbody>\n",
       "    <tr>\n",
       "      <th>1</th>\n",
       "      <td>5</td>\n",
       "      <td>3</td>\n",
       "      <td>65.0</td>\n",
       "      <td>8450</td>\n",
       "      <td>1</td>\n",
       "      <td>1</td>\n",
       "      <td>3</td>\n",
       "      <td>3</td>\n",
       "      <td>0</td>\n",
       "      <td>4</td>\n",
       "      <td>...</td>\n",
       "      <td>0</td>\n",
       "      <td>5</td>\n",
       "      <td>4</td>\n",
       "      <td>1</td>\n",
       "      <td>0</td>\n",
       "      <td>2</td>\n",
       "      <td>2008</td>\n",
       "      <td>8</td>\n",
       "      <td>4</td>\n",
       "      <td>208500</td>\n",
       "    </tr>\n",
       "    <tr>\n",
       "      <th>2</th>\n",
       "      <td>0</td>\n",
       "      <td>3</td>\n",
       "      <td>80.0</td>\n",
       "      <td>9600</td>\n",
       "      <td>1</td>\n",
       "      <td>1</td>\n",
       "      <td>3</td>\n",
       "      <td>3</td>\n",
       "      <td>0</td>\n",
       "      <td>2</td>\n",
       "      <td>...</td>\n",
       "      <td>0</td>\n",
       "      <td>5</td>\n",
       "      <td>4</td>\n",
       "      <td>1</td>\n",
       "      <td>0</td>\n",
       "      <td>5</td>\n",
       "      <td>2007</td>\n",
       "      <td>8</td>\n",
       "      <td>4</td>\n",
       "      <td>181500</td>\n",
       "    </tr>\n",
       "    <tr>\n",
       "      <th>3</th>\n",
       "      <td>5</td>\n",
       "      <td>3</td>\n",
       "      <td>68.0</td>\n",
       "      <td>11250</td>\n",
       "      <td>1</td>\n",
       "      <td>1</td>\n",
       "      <td>0</td>\n",
       "      <td>3</td>\n",
       "      <td>0</td>\n",
       "      <td>4</td>\n",
       "      <td>...</td>\n",
       "      <td>0</td>\n",
       "      <td>5</td>\n",
       "      <td>4</td>\n",
       "      <td>1</td>\n",
       "      <td>0</td>\n",
       "      <td>9</td>\n",
       "      <td>2008</td>\n",
       "      <td>8</td>\n",
       "      <td>4</td>\n",
       "      <td>223500</td>\n",
       "    </tr>\n",
       "    <tr>\n",
       "      <th>4</th>\n",
       "      <td>6</td>\n",
       "      <td>3</td>\n",
       "      <td>60.0</td>\n",
       "      <td>9550</td>\n",
       "      <td>1</td>\n",
       "      <td>1</td>\n",
       "      <td>0</td>\n",
       "      <td>3</td>\n",
       "      <td>0</td>\n",
       "      <td>0</td>\n",
       "      <td>...</td>\n",
       "      <td>0</td>\n",
       "      <td>5</td>\n",
       "      <td>4</td>\n",
       "      <td>1</td>\n",
       "      <td>0</td>\n",
       "      <td>2</td>\n",
       "      <td>2006</td>\n",
       "      <td>8</td>\n",
       "      <td>0</td>\n",
       "      <td>140000</td>\n",
       "    </tr>\n",
       "    <tr>\n",
       "      <th>5</th>\n",
       "      <td>5</td>\n",
       "      <td>3</td>\n",
       "      <td>84.0</td>\n",
       "      <td>14260</td>\n",
       "      <td>1</td>\n",
       "      <td>1</td>\n",
       "      <td>0</td>\n",
       "      <td>3</td>\n",
       "      <td>0</td>\n",
       "      <td>2</td>\n",
       "      <td>...</td>\n",
       "      <td>0</td>\n",
       "      <td>5</td>\n",
       "      <td>4</td>\n",
       "      <td>1</td>\n",
       "      <td>0</td>\n",
       "      <td>12</td>\n",
       "      <td>2008</td>\n",
       "      <td>8</td>\n",
       "      <td>4</td>\n",
       "      <td>250000</td>\n",
       "    </tr>\n",
       "    <tr>\n",
       "      <th>...</th>\n",
       "      <td>...</td>\n",
       "      <td>...</td>\n",
       "      <td>...</td>\n",
       "      <td>...</td>\n",
       "      <td>...</td>\n",
       "      <td>...</td>\n",
       "      <td>...</td>\n",
       "      <td>...</td>\n",
       "      <td>...</td>\n",
       "      <td>...</td>\n",
       "      <td>...</td>\n",
       "      <td>...</td>\n",
       "      <td>...</td>\n",
       "      <td>...</td>\n",
       "      <td>...</td>\n",
       "      <td>...</td>\n",
       "      <td>...</td>\n",
       "      <td>...</td>\n",
       "      <td>...</td>\n",
       "      <td>...</td>\n",
       "      <td>...</td>\n",
       "    </tr>\n",
       "    <tr>\n",
       "      <th>1456</th>\n",
       "      <td>5</td>\n",
       "      <td>3</td>\n",
       "      <td>62.0</td>\n",
       "      <td>7917</td>\n",
       "      <td>1</td>\n",
       "      <td>1</td>\n",
       "      <td>3</td>\n",
       "      <td>3</td>\n",
       "      <td>0</td>\n",
       "      <td>4</td>\n",
       "      <td>...</td>\n",
       "      <td>0</td>\n",
       "      <td>5</td>\n",
       "      <td>4</td>\n",
       "      <td>1</td>\n",
       "      <td>0</td>\n",
       "      <td>8</td>\n",
       "      <td>2007</td>\n",
       "      <td>8</td>\n",
       "      <td>4</td>\n",
       "      <td>175000</td>\n",
       "    </tr>\n",
       "    <tr>\n",
       "      <th>1457</th>\n",
       "      <td>0</td>\n",
       "      <td>3</td>\n",
       "      <td>85.0</td>\n",
       "      <td>13175</td>\n",
       "      <td>1</td>\n",
       "      <td>1</td>\n",
       "      <td>3</td>\n",
       "      <td>3</td>\n",
       "      <td>0</td>\n",
       "      <td>4</td>\n",
       "      <td>...</td>\n",
       "      <td>0</td>\n",
       "      <td>5</td>\n",
       "      <td>2</td>\n",
       "      <td>1</td>\n",
       "      <td>0</td>\n",
       "      <td>2</td>\n",
       "      <td>2010</td>\n",
       "      <td>8</td>\n",
       "      <td>4</td>\n",
       "      <td>210000</td>\n",
       "    </tr>\n",
       "    <tr>\n",
       "      <th>1458</th>\n",
       "      <td>6</td>\n",
       "      <td>3</td>\n",
       "      <td>66.0</td>\n",
       "      <td>9042</td>\n",
       "      <td>1</td>\n",
       "      <td>1</td>\n",
       "      <td>3</td>\n",
       "      <td>3</td>\n",
       "      <td>0</td>\n",
       "      <td>4</td>\n",
       "      <td>...</td>\n",
       "      <td>0</td>\n",
       "      <td>5</td>\n",
       "      <td>0</td>\n",
       "      <td>3</td>\n",
       "      <td>2500</td>\n",
       "      <td>5</td>\n",
       "      <td>2010</td>\n",
       "      <td>8</td>\n",
       "      <td>4</td>\n",
       "      <td>266500</td>\n",
       "    </tr>\n",
       "    <tr>\n",
       "      <th>1459</th>\n",
       "      <td>0</td>\n",
       "      <td>3</td>\n",
       "      <td>68.0</td>\n",
       "      <td>9717</td>\n",
       "      <td>1</td>\n",
       "      <td>1</td>\n",
       "      <td>3</td>\n",
       "      <td>3</td>\n",
       "      <td>0</td>\n",
       "      <td>4</td>\n",
       "      <td>...</td>\n",
       "      <td>0</td>\n",
       "      <td>5</td>\n",
       "      <td>4</td>\n",
       "      <td>1</td>\n",
       "      <td>0</td>\n",
       "      <td>4</td>\n",
       "      <td>2010</td>\n",
       "      <td>8</td>\n",
       "      <td>4</td>\n",
       "      <td>142125</td>\n",
       "    </tr>\n",
       "    <tr>\n",
       "      <th>1460</th>\n",
       "      <td>0</td>\n",
       "      <td>3</td>\n",
       "      <td>75.0</td>\n",
       "      <td>9937</td>\n",
       "      <td>1</td>\n",
       "      <td>1</td>\n",
       "      <td>3</td>\n",
       "      <td>3</td>\n",
       "      <td>0</td>\n",
       "      <td>4</td>\n",
       "      <td>...</td>\n",
       "      <td>0</td>\n",
       "      <td>5</td>\n",
       "      <td>4</td>\n",
       "      <td>1</td>\n",
       "      <td>0</td>\n",
       "      <td>6</td>\n",
       "      <td>2008</td>\n",
       "      <td>8</td>\n",
       "      <td>4</td>\n",
       "      <td>147500</td>\n",
       "    </tr>\n",
       "  </tbody>\n",
       "</table>\n",
       "<p>1460 rows × 80 columns</p>\n",
       "</div>"
      ],
      "text/plain": [
       "      MSSubClass  MSZoning  LotFrontage  LotArea  Street  Alley  LotShape  \\\n",
       "Id                                                                          \n",
       "1              5         3         65.0     8450       1      1         3   \n",
       "2              0         3         80.0     9600       1      1         3   \n",
       "3              5         3         68.0    11250       1      1         0   \n",
       "4              6         3         60.0     9550       1      1         0   \n",
       "5              5         3         84.0    14260       1      1         0   \n",
       "...          ...       ...          ...      ...     ...    ...       ...   \n",
       "1456           5         3         62.0     7917       1      1         3   \n",
       "1457           0         3         85.0    13175       1      1         3   \n",
       "1458           6         3         66.0     9042       1      1         3   \n",
       "1459           0         3         68.0     9717       1      1         3   \n",
       "1460           0         3         75.0     9937       1      1         3   \n",
       "\n",
       "      LandContour  Utilities  LotConfig  ...  PoolArea  PoolQC  Fence  \\\n",
       "Id                                       ...                            \n",
       "1               3          0          4  ...         0       5      4   \n",
       "2               3          0          2  ...         0       5      4   \n",
       "3               3          0          4  ...         0       5      4   \n",
       "4               3          0          0  ...         0       5      4   \n",
       "5               3          0          2  ...         0       5      4   \n",
       "...           ...        ...        ...  ...       ...     ...    ...   \n",
       "1456            3          0          4  ...         0       5      4   \n",
       "1457            3          0          4  ...         0       5      2   \n",
       "1458            3          0          4  ...         0       5      0   \n",
       "1459            3          0          4  ...         0       5      4   \n",
       "1460            3          0          4  ...         0       5      4   \n",
       "\n",
       "      MiscFeature  MiscVal  MoSold  YrSold  SaleType  SaleCondition  SalePrice  \n",
       "Id                                                                              \n",
       "1               1        0       2    2008         8              4     208500  \n",
       "2               1        0       5    2007         8              4     181500  \n",
       "3               1        0       9    2008         8              4     223500  \n",
       "4               1        0       2    2006         8              0     140000  \n",
       "5               1        0      12    2008         8              4     250000  \n",
       "...           ...      ...     ...     ...       ...            ...        ...  \n",
       "1456            1        0       8    2007         8              4     175000  \n",
       "1457            1        0       2    2010         8              4     210000  \n",
       "1458            3     2500       5    2010         8              4     266500  \n",
       "1459            1        0       4    2010         8              4     142125  \n",
       "1460            1        0       6    2008         8              4     147500  \n",
       "\n",
       "[1460 rows x 80 columns]"
      ]
     },
     "execution_count": 12,
     "metadata": {},
     "output_type": "execute_result"
    }
   ],
   "source": [
    "train"
   ]
  },
  {
   "cell_type": "code",
   "execution_count": 16,
   "metadata": {},
   "outputs": [
    {
     "name": "stdout",
     "output_type": "stream",
     "text": [
      "1022\n",
      "438\n"
     ]
    }
   ],
   "source": [
    "X_train, X_val, y_train, y_val = train_test_split(train.loc[:,[x for x in train.columns if x != 'SalePrice' ]], train.loc[:,'SalePrice'], test_size = 0.3, random_state = 42)\n",
    "print(len(X_train))\n",
    "print(len(X_val))"
   ]
  },
  {
   "cell_type": "code",
   "execution_count": 17,
   "metadata": {},
   "outputs": [],
   "source": [
    "Iteration = 100\n",
    "\n",
    "bayes_cv_tuner = BayesSearchCV(\n",
    "    estimator = xgb.XGBRegressor(\n",
    "        n_jobs = 1,\n",
    "        objective = 'reg:squarederror',\n",
    "        eval_metric = 'rmse',\n",
    "        tree_method = 'approx'\n",
    "    ),\n",
    "    search_spaces = {\n",
    "        'learning_rate': (0.01, 1.0, 'log-uniform'),\n",
    "        'min_child_weight': (0, 10),\n",
    "        'colsample_bynode' : (0,1),\n",
    "        'max_depth': (1, 50),\n",
    "        'max_delta_step': (0, 20),\n",
    "        'subsample': (0.01, 1.0, 'uniform'),\n",
    "        'colsample_bytree': (0.01, 1.0, 'uniform'),\n",
    "        'colsample_bylevel': (0.01, 1.0, 'uniform'),\n",
    "        'reg_lambda': (1, 1000, 'log-uniform'),\n",
    "        'reg_alpha': (1e-5, 1.0, 'log-uniform'),\n",
    "        'gamma': (1e-5, 0.5, 'log-uniform'),\n",
    "        'min_child_weight': (0, 5),\n",
    "        'n_estimators': (50, 500),\n",
    "        'scale_pos_weight': (1, 500, 'log-uniform')\n",
    "    },\n",
    "    cv = KFold(\n",
    "        n_splits = 10,\n",
    "        shuffle = True,\n",
    "        random_state = 42\n",
    "    ),\n",
    "    n_jobs = 8,\n",
    "    n_iter = Iteration,\n",
    "    verbose = 0,\n",
    "    refit = True,\n",
    "    random_state = 42\n",
    ")\n",
    "\n",
    "def status_print(optim_result):\n",
    "    all_models = pd.DataFrame(bayes_cv_tuner.cv_results_)\n",
    "    best_params = pd.Series(bayes_cv_tuner.best_params_)\n",
    "    clf_name = bayes_cv_tuner.estimator.__class__.__name__\n",
    "    all_models.to_csv(clf_name + '_cv_result.csv')\n",
    "\n",
    "result = bayes_cv_tuner.fit(X, y, callback = status_print)"
   ]
  },
  {
   "cell_type": "code",
   "execution_count": 19,
   "metadata": {},
   "outputs": [
    {
     "data": {
      "text/plain": [
       "{'colsample_bylevel': 0.44823929459082695,\n",
       " 'colsample_bynode': 1,\n",
       " 'colsample_bytree': 0.24874872968444184,\n",
       " 'gamma': 2.0373680414872807e-05,\n",
       " 'learning_rate': 0.35931481390434145,\n",
       " 'max_delta_step': 0,\n",
       " 'max_depth': 42,\n",
       " 'min_child_weight': 4,\n",
       " 'n_estimators': 370,\n",
       " 'reg_alpha': 0.0016294360251939137,\n",
       " 'reg_lambda': 586,\n",
       " 'scale_pos_weight': 350,\n",
       " 'subsample': 0.5062353603770533}"
      ]
     },
     "execution_count": 19,
     "metadata": {},
     "output_type": "execute_result"
    }
   ],
   "source": [
    "params = dict(result.best_params_)\n",
    "params"
   ]
  },
  {
   "cell_type": "code",
   "execution_count": 20,
   "metadata": {},
   "outputs": [
    {
     "data": {
      "text/plain": [
       "0.8710196133718405"
      ]
     },
     "execution_count": 20,
     "metadata": {},
     "output_type": "execute_result"
    }
   ],
   "source": [
    "result.best_score_"
   ]
  },
  {
   "cell_type": "code",
   "execution_count": 21,
   "metadata": {},
   "outputs": [],
   "source": [
    "clf = xgb.XGBRegressor(**params,objective='reg:squarederror')"
   ]
  },
  {
   "cell_type": "code",
   "execution_count": 22,
   "metadata": {
    "scrolled": true
   },
   "outputs": [
    {
     "name": "stdout",
     "output_type": "stream",
     "text": [
      "[0]\tvalidation_0-rmse:164778.07812\tvalidation_1-rmse:166534.12500\n",
      "[1]\tvalidation_0-rmse:139721.93750\tvalidation_1-rmse:142095.35938\n",
      "[2]\tvalidation_0-rmse:120345.73438\tvalidation_1-rmse:123304.64844\n",
      "[3]\tvalidation_0-rmse:107568.25000\tvalidation_1-rmse:111038.10156\n",
      "[4]\tvalidation_0-rmse:96815.70312\tvalidation_1-rmse:101008.76562\n",
      "[5]\tvalidation_0-rmse:88238.87500\tvalidation_1-rmse:92725.56250\n",
      "[6]\tvalidation_0-rmse:81145.26562\tvalidation_1-rmse:85922.89062\n",
      "[7]\tvalidation_0-rmse:76108.07812\tvalidation_1-rmse:81066.46875\n",
      "[8]\tvalidation_0-rmse:71089.63281\tvalidation_1-rmse:76221.21094\n",
      "[9]\tvalidation_0-rmse:67262.72656\tvalidation_1-rmse:72589.69531\n",
      "[10]\tvalidation_0-rmse:64290.68359\tvalidation_1-rmse:69766.55469\n",
      "[11]\tvalidation_0-rmse:61751.51172\tvalidation_1-rmse:67332.88281\n",
      "[12]\tvalidation_0-rmse:59750.21094\tvalidation_1-rmse:65358.16406\n",
      "[13]\tvalidation_0-rmse:58051.94531\tvalidation_1-rmse:63736.41016\n",
      "[14]\tvalidation_0-rmse:56284.16797\tvalidation_1-rmse:61975.46094\n",
      "[15]\tvalidation_0-rmse:54798.39844\tvalidation_1-rmse:60496.33203\n",
      "[16]\tvalidation_0-rmse:53509.57812\tvalidation_1-rmse:59185.87891\n",
      "[17]\tvalidation_0-rmse:52167.83594\tvalidation_1-rmse:57791.86328\n",
      "[18]\tvalidation_0-rmse:51171.61719\tvalidation_1-rmse:56734.14844\n",
      "[19]\tvalidation_0-rmse:50313.00000\tvalidation_1-rmse:55801.44531\n",
      "[20]\tvalidation_0-rmse:49567.46875\tvalidation_1-rmse:54953.25391\n",
      "[21]\tvalidation_0-rmse:48642.75000\tvalidation_1-rmse:53951.70703\n",
      "[22]\tvalidation_0-rmse:47868.54688\tvalidation_1-rmse:53117.16016\n",
      "[23]\tvalidation_0-rmse:46774.62500\tvalidation_1-rmse:51983.71484\n",
      "[24]\tvalidation_0-rmse:46159.33594\tvalidation_1-rmse:51296.33203\n",
      "[25]\tvalidation_0-rmse:45293.39453\tvalidation_1-rmse:50412.55859\n",
      "[26]\tvalidation_0-rmse:44429.61719\tvalidation_1-rmse:49539.50000\n",
      "[27]\tvalidation_0-rmse:43941.17188\tvalidation_1-rmse:48976.74609\n",
      "[28]\tvalidation_0-rmse:43319.64062\tvalidation_1-rmse:48316.34375\n",
      "[29]\tvalidation_0-rmse:42797.30078\tvalidation_1-rmse:47763.39062\n",
      "[30]\tvalidation_0-rmse:42360.41016\tvalidation_1-rmse:47273.04297\n",
      "[31]\tvalidation_0-rmse:41915.32422\tvalidation_1-rmse:46704.51953\n",
      "[32]\tvalidation_0-rmse:41480.44922\tvalidation_1-rmse:46216.11719\n",
      "[33]\tvalidation_0-rmse:41018.98438\tvalidation_1-rmse:45694.08594\n",
      "[34]\tvalidation_0-rmse:40574.73828\tvalidation_1-rmse:45109.52344\n",
      "[35]\tvalidation_0-rmse:40195.27734\tvalidation_1-rmse:44700.63281\n",
      "[36]\tvalidation_0-rmse:39812.61719\tvalidation_1-rmse:44303.44141\n",
      "[37]\tvalidation_0-rmse:39551.34766\tvalidation_1-rmse:43993.16406\n",
      "[38]\tvalidation_0-rmse:39279.54688\tvalidation_1-rmse:43694.08984\n",
      "[39]\tvalidation_0-rmse:38868.78125\tvalidation_1-rmse:43281.53125\n",
      "[40]\tvalidation_0-rmse:38505.68359\tvalidation_1-rmse:42823.13281\n",
      "[41]\tvalidation_0-rmse:38254.26953\tvalidation_1-rmse:42493.67969\n",
      "[42]\tvalidation_0-rmse:37790.17969\tvalidation_1-rmse:41990.58203\n",
      "[43]\tvalidation_0-rmse:37456.98438\tvalidation_1-rmse:41605.28516\n",
      "[44]\tvalidation_0-rmse:37191.42578\tvalidation_1-rmse:41334.33203\n",
      "[45]\tvalidation_0-rmse:37001.97656\tvalidation_1-rmse:41119.62109\n",
      "[46]\tvalidation_0-rmse:36767.11719\tvalidation_1-rmse:40834.85156\n",
      "[47]\tvalidation_0-rmse:36572.57812\tvalidation_1-rmse:40611.72656\n",
      "[48]\tvalidation_0-rmse:36287.18750\tvalidation_1-rmse:40179.39062\n",
      "[49]\tvalidation_0-rmse:35918.83984\tvalidation_1-rmse:39796.86719\n",
      "[50]\tvalidation_0-rmse:35753.53906\tvalidation_1-rmse:39569.40234\n",
      "[51]\tvalidation_0-rmse:35548.89453\tvalidation_1-rmse:39334.80469\n",
      "[52]\tvalidation_0-rmse:35452.57812\tvalidation_1-rmse:39231.83203\n",
      "[53]\tvalidation_0-rmse:35201.15234\tvalidation_1-rmse:38903.69531\n",
      "[54]\tvalidation_0-rmse:34921.44141\tvalidation_1-rmse:38628.48438\n",
      "[55]\tvalidation_0-rmse:34683.19531\tvalidation_1-rmse:38283.76953\n",
      "[56]\tvalidation_0-rmse:34464.42578\tvalidation_1-rmse:38024.53516\n",
      "[57]\tvalidation_0-rmse:34248.71875\tvalidation_1-rmse:37826.55469\n",
      "[58]\tvalidation_0-rmse:34071.93359\tvalidation_1-rmse:37585.80078\n",
      "[59]\tvalidation_0-rmse:33899.90625\tvalidation_1-rmse:37417.53516\n",
      "[60]\tvalidation_0-rmse:33697.51562\tvalidation_1-rmse:37192.71875\n",
      "[61]\tvalidation_0-rmse:33526.42578\tvalidation_1-rmse:36984.33594\n",
      "[62]\tvalidation_0-rmse:33366.96484\tvalidation_1-rmse:36869.96094\n",
      "[63]\tvalidation_0-rmse:33269.77344\tvalidation_1-rmse:36700.56641\n",
      "[64]\tvalidation_0-rmse:33064.11328\tvalidation_1-rmse:36525.35156\n",
      "[65]\tvalidation_0-rmse:32925.72266\tvalidation_1-rmse:36356.61719\n",
      "[66]\tvalidation_0-rmse:32782.51953\tvalidation_1-rmse:36212.12891\n",
      "[67]\tvalidation_0-rmse:32650.68945\tvalidation_1-rmse:36065.82422\n",
      "[68]\tvalidation_0-rmse:32506.73633\tvalidation_1-rmse:35851.04297\n",
      "[69]\tvalidation_0-rmse:32380.36133\tvalidation_1-rmse:35721.17969\n",
      "[70]\tvalidation_0-rmse:32269.10742\tvalidation_1-rmse:35628.96484\n",
      "[71]\tvalidation_0-rmse:32024.30859\tvalidation_1-rmse:35390.67188\n",
      "[72]\tvalidation_0-rmse:31868.98242\tvalidation_1-rmse:35226.35938\n",
      "[73]\tvalidation_0-rmse:31697.92969\tvalidation_1-rmse:34975.33203\n",
      "[74]\tvalidation_0-rmse:31616.74023\tvalidation_1-rmse:34819.40234\n",
      "[75]\tvalidation_0-rmse:31497.40625\tvalidation_1-rmse:34712.06250\n",
      "[76]\tvalidation_0-rmse:31310.66797\tvalidation_1-rmse:34488.62891\n",
      "[77]\tvalidation_0-rmse:31190.35742\tvalidation_1-rmse:34296.86328\n",
      "[78]\tvalidation_0-rmse:31093.84570\tvalidation_1-rmse:34194.28516\n",
      "[79]\tvalidation_0-rmse:31001.26953\tvalidation_1-rmse:34121.08984\n",
      "[80]\tvalidation_0-rmse:30918.14844\tvalidation_1-rmse:34038.02344\n",
      "[81]\tvalidation_0-rmse:30830.70508\tvalidation_1-rmse:33934.26953\n",
      "[82]\tvalidation_0-rmse:30760.59570\tvalidation_1-rmse:33850.33203\n",
      "[83]\tvalidation_0-rmse:30662.15234\tvalidation_1-rmse:33732.03125\n",
      "[84]\tvalidation_0-rmse:30567.44922\tvalidation_1-rmse:33622.53906\n",
      "[85]\tvalidation_0-rmse:30478.10547\tvalidation_1-rmse:33495.95312\n",
      "[86]\tvalidation_0-rmse:30386.91016\tvalidation_1-rmse:33376.64844\n",
      "[87]\tvalidation_0-rmse:30223.33398\tvalidation_1-rmse:33171.97266\n",
      "[88]\tvalidation_0-rmse:30121.28906\tvalidation_1-rmse:33048.52344\n",
      "[89]\tvalidation_0-rmse:30033.70898\tvalidation_1-rmse:32951.83203\n",
      "[90]\tvalidation_0-rmse:29920.88477\tvalidation_1-rmse:32836.65625\n",
      "[91]\tvalidation_0-rmse:29804.45117\tvalidation_1-rmse:32670.42578\n",
      "[92]\tvalidation_0-rmse:29698.26562\tvalidation_1-rmse:32593.23633\n",
      "[93]\tvalidation_0-rmse:29603.36133\tvalidation_1-rmse:32449.63477\n",
      "[94]\tvalidation_0-rmse:29500.17188\tvalidation_1-rmse:32339.13281\n",
      "[95]\tvalidation_0-rmse:29416.73242\tvalidation_1-rmse:32231.88477\n",
      "[96]\tvalidation_0-rmse:29294.78320\tvalidation_1-rmse:32135.66797\n",
      "[97]\tvalidation_0-rmse:29172.36914\tvalidation_1-rmse:32004.47656\n",
      "[98]\tvalidation_0-rmse:29012.85938\tvalidation_1-rmse:31870.56250\n",
      "[99]\tvalidation_0-rmse:28841.50977\tvalidation_1-rmse:31671.54102\n",
      "[100]\tvalidation_0-rmse:28752.08203\tvalidation_1-rmse:31568.92383\n",
      "[101]\tvalidation_0-rmse:28684.69336\tvalidation_1-rmse:31444.71484\n",
      "[102]\tvalidation_0-rmse:28574.70703\tvalidation_1-rmse:31338.45703\n",
      "[103]\tvalidation_0-rmse:28494.92188\tvalidation_1-rmse:31248.44531\n",
      "[104]\tvalidation_0-rmse:28401.42578\tvalidation_1-rmse:31112.44141\n",
      "[105]\tvalidation_0-rmse:28321.30469\tvalidation_1-rmse:31019.42773\n",
      "[106]\tvalidation_0-rmse:28284.53125\tvalidation_1-rmse:30961.54492\n",
      "[107]\tvalidation_0-rmse:28167.02148\tvalidation_1-rmse:30783.71875\n",
      "[108]\tvalidation_0-rmse:28086.38086\tvalidation_1-rmse:30663.55078\n",
      "[109]\tvalidation_0-rmse:28000.50781\tvalidation_1-rmse:30582.04297\n",
      "[110]\tvalidation_0-rmse:27937.07422\tvalidation_1-rmse:30499.65625\n",
      "[111]\tvalidation_0-rmse:27872.60742\tvalidation_1-rmse:30406.64062\n",
      "[112]\tvalidation_0-rmse:27816.81641\tvalidation_1-rmse:30341.38867\n",
      "[113]\tvalidation_0-rmse:27734.12109\tvalidation_1-rmse:30297.02148\n",
      "[114]\tvalidation_0-rmse:27668.62695\tvalidation_1-rmse:30192.09570\n",
      "[115]\tvalidation_0-rmse:27600.11719\tvalidation_1-rmse:30063.63477\n",
      "[116]\tvalidation_0-rmse:27533.01172\tvalidation_1-rmse:29960.24414\n",
      "[117]\tvalidation_0-rmse:27465.51758\tvalidation_1-rmse:29844.70508\n",
      "[118]\tvalidation_0-rmse:27405.03516\tvalidation_1-rmse:29756.12109\n",
      "[119]\tvalidation_0-rmse:27332.96680\tvalidation_1-rmse:29670.57227\n",
      "[120]\tvalidation_0-rmse:27245.45703\tvalidation_1-rmse:29606.29688\n",
      "[121]\tvalidation_0-rmse:27178.29102\tvalidation_1-rmse:29549.77539\n",
      "[122]\tvalidation_0-rmse:27111.69336\tvalidation_1-rmse:29455.16016\n",
      "[123]\tvalidation_0-rmse:27029.47656\tvalidation_1-rmse:29326.24805\n",
      "[124]\tvalidation_0-rmse:26979.56641\tvalidation_1-rmse:29264.82812\n",
      "[125]\tvalidation_0-rmse:26923.79102\tvalidation_1-rmse:29171.67383\n",
      "[126]\tvalidation_0-rmse:26854.21094\tvalidation_1-rmse:29064.31836\n",
      "[127]\tvalidation_0-rmse:26777.51953\tvalidation_1-rmse:28968.75391\n",
      "[128]\tvalidation_0-rmse:26736.56445\tvalidation_1-rmse:28906.27930\n",
      "[129]\tvalidation_0-rmse:26692.80664\tvalidation_1-rmse:28826.85547\n",
      "[130]\tvalidation_0-rmse:26642.44727\tvalidation_1-rmse:28729.31445\n",
      "[131]\tvalidation_0-rmse:26569.63867\tvalidation_1-rmse:28606.84766\n",
      "[132]\tvalidation_0-rmse:26472.11914\tvalidation_1-rmse:28507.93555\n",
      "[133]\tvalidation_0-rmse:26432.54688\tvalidation_1-rmse:28462.05664\n",
      "[134]\tvalidation_0-rmse:26378.23438\tvalidation_1-rmse:28417.90430\n",
      "[135]\tvalidation_0-rmse:26322.60547\tvalidation_1-rmse:28349.49805\n",
      "[136]\tvalidation_0-rmse:26275.57617\tvalidation_1-rmse:28276.30469\n",
      "[137]\tvalidation_0-rmse:26233.00586\tvalidation_1-rmse:28238.41406\n",
      "[138]\tvalidation_0-rmse:26210.69141\tvalidation_1-rmse:28145.16406\n",
      "[139]\tvalidation_0-rmse:26159.86719\tvalidation_1-rmse:28067.78516\n",
      "[140]\tvalidation_0-rmse:26132.97852\tvalidation_1-rmse:28016.90039\n",
      "[141]\tvalidation_0-rmse:26105.35156\tvalidation_1-rmse:27949.00586\n",
      "[142]\tvalidation_0-rmse:26056.06250\tvalidation_1-rmse:27873.18750\n",
      "[143]\tvalidation_0-rmse:26006.09961\tvalidation_1-rmse:27834.23242\n",
      "[144]\tvalidation_0-rmse:25945.99219\tvalidation_1-rmse:27761.33203\n",
      "[145]\tvalidation_0-rmse:25898.48828\tvalidation_1-rmse:27707.08203\n",
      "[146]\tvalidation_0-rmse:25853.53711\tvalidation_1-rmse:27660.53125\n",
      "[147]\tvalidation_0-rmse:25830.58594\tvalidation_1-rmse:27623.73633\n",
      "[148]\tvalidation_0-rmse:25803.59570\tvalidation_1-rmse:27568.67578\n",
      "[149]\tvalidation_0-rmse:25769.10938\tvalidation_1-rmse:27553.15625\n",
      "[150]\tvalidation_0-rmse:25715.37109\tvalidation_1-rmse:27471.65234\n",
      "[151]\tvalidation_0-rmse:25642.74609\tvalidation_1-rmse:27366.59375\n",
      "[152]\tvalidation_0-rmse:25598.24023\tvalidation_1-rmse:27323.88281\n",
      "[153]\tvalidation_0-rmse:25521.04688\tvalidation_1-rmse:27221.10742\n",
      "[154]\tvalidation_0-rmse:25476.50391\tvalidation_1-rmse:27138.84961\n",
      "[155]\tvalidation_0-rmse:25436.64062\tvalidation_1-rmse:27102.06250\n",
      "[156]\tvalidation_0-rmse:25388.43164\tvalidation_1-rmse:27061.85547\n",
      "[157]\tvalidation_0-rmse:25365.77148\tvalidation_1-rmse:27051.96289\n",
      "[158]\tvalidation_0-rmse:25328.54102\tvalidation_1-rmse:26991.07227\n",
      "[159]\tvalidation_0-rmse:25293.10742\tvalidation_1-rmse:26962.48633\n",
      "[160]\tvalidation_0-rmse:25253.17383\tvalidation_1-rmse:26903.31641\n",
      "[161]\tvalidation_0-rmse:25213.17383\tvalidation_1-rmse:26850.25781\n",
      "[162]\tvalidation_0-rmse:25156.84180\tvalidation_1-rmse:26766.39062\n",
      "[163]\tvalidation_0-rmse:25119.27148\tvalidation_1-rmse:26717.78516\n",
      "[164]\tvalidation_0-rmse:25075.75195\tvalidation_1-rmse:26655.07617\n",
      "[165]\tvalidation_0-rmse:25018.21094\tvalidation_1-rmse:26573.35742\n",
      "[166]\tvalidation_0-rmse:24971.35938\tvalidation_1-rmse:26519.24805\n",
      "[167]\tvalidation_0-rmse:24898.39844\tvalidation_1-rmse:26430.36328\n",
      "[168]\tvalidation_0-rmse:24849.76758\tvalidation_1-rmse:26349.06055\n",
      "[169]\tvalidation_0-rmse:24833.07422\tvalidation_1-rmse:26295.15039\n",
      "[170]\tvalidation_0-rmse:24789.23047\tvalidation_1-rmse:26237.90820\n",
      "[171]\tvalidation_0-rmse:24757.19531\tvalidation_1-rmse:26206.21289\n",
      "[172]\tvalidation_0-rmse:24710.33008\tvalidation_1-rmse:26144.75195\n",
      "[173]\tvalidation_0-rmse:24676.28320\tvalidation_1-rmse:26088.92578\n",
      "[174]\tvalidation_0-rmse:24661.11523\tvalidation_1-rmse:26093.89258\n",
      "[175]\tvalidation_0-rmse:24599.13086\tvalidation_1-rmse:26005.54102\n",
      "[176]\tvalidation_0-rmse:24571.48438\tvalidation_1-rmse:25982.45508\n",
      "[177]\tvalidation_0-rmse:24532.12891\tvalidation_1-rmse:25917.99219\n",
      "[178]\tvalidation_0-rmse:24476.87305\tvalidation_1-rmse:25819.67578\n",
      "[179]\tvalidation_0-rmse:24399.30664\tvalidation_1-rmse:25720.61914\n",
      "[180]\tvalidation_0-rmse:24358.69922\tvalidation_1-rmse:25667.69727\n",
      "[181]\tvalidation_0-rmse:24330.26953\tvalidation_1-rmse:25629.42773\n",
      "[182]\tvalidation_0-rmse:24298.87695\tvalidation_1-rmse:25577.64258\n",
      "[183]\tvalidation_0-rmse:24281.24023\tvalidation_1-rmse:25526.71094\n",
      "[184]\tvalidation_0-rmse:24258.96094\tvalidation_1-rmse:25461.45703\n",
      "[185]\tvalidation_0-rmse:24211.10547\tvalidation_1-rmse:25385.69727\n",
      "[186]\tvalidation_0-rmse:24183.36133\tvalidation_1-rmse:25353.29297\n",
      "[187]\tvalidation_0-rmse:24165.42383\tvalidation_1-rmse:25317.61133\n",
      "[188]\tvalidation_0-rmse:24138.30078\tvalidation_1-rmse:25286.71484\n",
      "[189]\tvalidation_0-rmse:24084.40039\tvalidation_1-rmse:25245.50391\n",
      "[190]\tvalidation_0-rmse:24068.98828\tvalidation_1-rmse:25204.39648\n",
      "[191]\tvalidation_0-rmse:24014.23242\tvalidation_1-rmse:25117.74219\n",
      "[192]\tvalidation_0-rmse:23984.96289\tvalidation_1-rmse:25093.22070\n",
      "[193]\tvalidation_0-rmse:23933.24023\tvalidation_1-rmse:25032.43164\n",
      "[194]\tvalidation_0-rmse:23906.50391\tvalidation_1-rmse:25000.61719\n",
      "[195]\tvalidation_0-rmse:23882.46680\tvalidation_1-rmse:24948.57812\n",
      "[196]\tvalidation_0-rmse:23853.23828\tvalidation_1-rmse:24906.55664\n",
      "[197]\tvalidation_0-rmse:23803.43750\tvalidation_1-rmse:24850.62500\n",
      "[198]\tvalidation_0-rmse:23774.11914\tvalidation_1-rmse:24814.27148\n",
      "[199]\tvalidation_0-rmse:23726.19922\tvalidation_1-rmse:24734.16797\n",
      "[200]\tvalidation_0-rmse:23678.62695\tvalidation_1-rmse:24686.58984\n",
      "[201]\tvalidation_0-rmse:23632.76758\tvalidation_1-rmse:24627.75586\n",
      "[202]\tvalidation_0-rmse:23600.04297\tvalidation_1-rmse:24594.69922\n",
      "[203]\tvalidation_0-rmse:23570.43359\tvalidation_1-rmse:24530.75195\n",
      "[204]\tvalidation_0-rmse:23534.21680\tvalidation_1-rmse:24519.14453\n",
      "[205]\tvalidation_0-rmse:23493.99609\tvalidation_1-rmse:24481.26367\n",
      "[206]\tvalidation_0-rmse:23464.54102\tvalidation_1-rmse:24449.79492\n",
      "[207]\tvalidation_0-rmse:23419.07422\tvalidation_1-rmse:24412.23633\n",
      "[208]\tvalidation_0-rmse:23374.82812\tvalidation_1-rmse:24351.02930\n",
      "[209]\tvalidation_0-rmse:23314.75781\tvalidation_1-rmse:24288.08203\n",
      "[210]\tvalidation_0-rmse:23295.49805\tvalidation_1-rmse:24254.55078\n",
      "[211]\tvalidation_0-rmse:23252.81250\tvalidation_1-rmse:24222.79297\n",
      "[212]\tvalidation_0-rmse:23241.88281\tvalidation_1-rmse:24218.11328\n",
      "[213]\tvalidation_0-rmse:23208.18164\tvalidation_1-rmse:24185.40625\n",
      "[214]\tvalidation_0-rmse:23172.08789\tvalidation_1-rmse:24136.26953\n",
      "[215]\tvalidation_0-rmse:23138.12695\tvalidation_1-rmse:24123.32617\n",
      "[216]\tvalidation_0-rmse:23119.55664\tvalidation_1-rmse:24093.02734\n",
      "[217]\tvalidation_0-rmse:23081.05273\tvalidation_1-rmse:24047.42188\n",
      "[218]\tvalidation_0-rmse:23053.13672\tvalidation_1-rmse:24019.97656\n",
      "[219]\tvalidation_0-rmse:23028.18750\tvalidation_1-rmse:23972.12305\n",
      "[220]\tvalidation_0-rmse:22986.94727\tvalidation_1-rmse:23925.10742\n",
      "[221]\tvalidation_0-rmse:22950.61328\tvalidation_1-rmse:23898.74023\n",
      "[222]\tvalidation_0-rmse:22924.98242\tvalidation_1-rmse:23842.62305\n",
      "[223]\tvalidation_0-rmse:22894.60938\tvalidation_1-rmse:23837.85156\n",
      "[224]\tvalidation_0-rmse:22851.67188\tvalidation_1-rmse:23808.11523\n",
      "[225]\tvalidation_0-rmse:22836.88672\tvalidation_1-rmse:23760.77930\n",
      "[226]\tvalidation_0-rmse:22803.79297\tvalidation_1-rmse:23733.88672\n",
      "[227]\tvalidation_0-rmse:22752.24023\tvalidation_1-rmse:23663.96094\n",
      "[228]\tvalidation_0-rmse:22694.51367\tvalidation_1-rmse:23591.28906\n",
      "[229]\tvalidation_0-rmse:22658.21484\tvalidation_1-rmse:23537.64453\n",
      "[230]\tvalidation_0-rmse:22634.13867\tvalidation_1-rmse:23514.07422\n",
      "[231]\tvalidation_0-rmse:22595.64844\tvalidation_1-rmse:23459.48633\n",
      "[232]\tvalidation_0-rmse:22572.60938\tvalidation_1-rmse:23418.80469\n",
      "[233]\tvalidation_0-rmse:22538.30469\tvalidation_1-rmse:23377.79688\n",
      "[234]\tvalidation_0-rmse:22506.78125\tvalidation_1-rmse:23310.94531\n",
      "[235]\tvalidation_0-rmse:22458.93945\tvalidation_1-rmse:23278.86523\n",
      "[236]\tvalidation_0-rmse:22431.40820\tvalidation_1-rmse:23234.41211\n",
      "[237]\tvalidation_0-rmse:22391.17773\tvalidation_1-rmse:23215.56055\n",
      "[238]\tvalidation_0-rmse:22361.82812\tvalidation_1-rmse:23199.10742\n",
      "[239]\tvalidation_0-rmse:22330.33398\tvalidation_1-rmse:23149.09961\n",
      "[240]\tvalidation_0-rmse:22308.45898\tvalidation_1-rmse:23141.19922\n",
      "[241]\tvalidation_0-rmse:22288.04297\tvalidation_1-rmse:23111.42188\n",
      "[242]\tvalidation_0-rmse:22259.98047\tvalidation_1-rmse:23075.92188\n",
      "[243]\tvalidation_0-rmse:22220.23047\tvalidation_1-rmse:23015.80469\n",
      "[244]\tvalidation_0-rmse:22185.26953\tvalidation_1-rmse:22993.87891\n",
      "[245]\tvalidation_0-rmse:22146.27539\tvalidation_1-rmse:22945.07617\n",
      "[246]\tvalidation_0-rmse:22127.42578\tvalidation_1-rmse:22908.75391\n",
      "[247]\tvalidation_0-rmse:22084.34961\tvalidation_1-rmse:22841.38477\n",
      "[248]\tvalidation_0-rmse:22058.18555\tvalidation_1-rmse:22803.03906\n",
      "[249]\tvalidation_0-rmse:22033.13477\tvalidation_1-rmse:22742.13281\n",
      "[250]\tvalidation_0-rmse:22009.20898\tvalidation_1-rmse:22715.09570\n",
      "[251]\tvalidation_0-rmse:21977.78906\tvalidation_1-rmse:22671.31445\n",
      "[252]\tvalidation_0-rmse:21949.45898\tvalidation_1-rmse:22638.13672\n",
      "[253]\tvalidation_0-rmse:21901.83398\tvalidation_1-rmse:22597.40820\n",
      "[254]\tvalidation_0-rmse:21871.06641\tvalidation_1-rmse:22556.13281\n",
      "[255]\tvalidation_0-rmse:21852.09180\tvalidation_1-rmse:22516.36133\n",
      "[256]\tvalidation_0-rmse:21821.70898\tvalidation_1-rmse:22493.58008\n",
      "[257]\tvalidation_0-rmse:21801.88477\tvalidation_1-rmse:22462.80273\n",
      "[258]\tvalidation_0-rmse:21763.57422\tvalidation_1-rmse:22421.10547\n",
      "[259]\tvalidation_0-rmse:21739.25391\tvalidation_1-rmse:22397.56250\n",
      "[260]\tvalidation_0-rmse:21699.71094\tvalidation_1-rmse:22365.59180\n",
      "[261]\tvalidation_0-rmse:21682.36523\tvalidation_1-rmse:22336.29297\n",
      "[262]\tvalidation_0-rmse:21661.64844\tvalidation_1-rmse:22282.68164\n",
      "[263]\tvalidation_0-rmse:21623.56641\tvalidation_1-rmse:22220.30078\n",
      "[264]\tvalidation_0-rmse:21592.50781\tvalidation_1-rmse:22174.72656\n",
      "[265]\tvalidation_0-rmse:21561.24219\tvalidation_1-rmse:22129.90234\n",
      "[266]\tvalidation_0-rmse:21536.45898\tvalidation_1-rmse:22074.78125\n",
      "[267]\tvalidation_0-rmse:21507.54297\tvalidation_1-rmse:22030.52344\n",
      "[268]\tvalidation_0-rmse:21489.84570\tvalidation_1-rmse:22027.80664\n",
      "[269]\tvalidation_0-rmse:21464.29688\tvalidation_1-rmse:22008.35742\n",
      "[270]\tvalidation_0-rmse:21424.54883\tvalidation_1-rmse:21949.77734\n",
      "[271]\tvalidation_0-rmse:21402.26367\tvalidation_1-rmse:21920.92969\n",
      "[272]\tvalidation_0-rmse:21378.39648\tvalidation_1-rmse:21900.94336\n",
      "[273]\tvalidation_0-rmse:21357.55859\tvalidation_1-rmse:21860.41797\n",
      "[274]\tvalidation_0-rmse:21340.31250\tvalidation_1-rmse:21829.47461\n",
      "[275]\tvalidation_0-rmse:21311.17188\tvalidation_1-rmse:21816.11523\n",
      "[276]\tvalidation_0-rmse:21288.76562\tvalidation_1-rmse:21786.23438\n",
      "[277]\tvalidation_0-rmse:21263.98633\tvalidation_1-rmse:21751.53125\n",
      "[278]\tvalidation_0-rmse:21237.52539\tvalidation_1-rmse:21703.48633\n",
      "[279]\tvalidation_0-rmse:21206.79102\tvalidation_1-rmse:21663.38281\n",
      "[280]\tvalidation_0-rmse:21162.04883\tvalidation_1-rmse:21620.20508\n",
      "[281]\tvalidation_0-rmse:21141.29297\tvalidation_1-rmse:21595.64453\n",
      "[282]\tvalidation_0-rmse:21115.42188\tvalidation_1-rmse:21591.53906\n",
      "[283]\tvalidation_0-rmse:21094.75000\tvalidation_1-rmse:21561.07422\n",
      "[284]\tvalidation_0-rmse:21083.83398\tvalidation_1-rmse:21543.57227\n",
      "[285]\tvalidation_0-rmse:21041.82617\tvalidation_1-rmse:21511.87500\n",
      "[286]\tvalidation_0-rmse:21033.62695\tvalidation_1-rmse:21485.40234\n",
      "[287]\tvalidation_0-rmse:21010.41992\tvalidation_1-rmse:21461.09570\n",
      "[288]\tvalidation_0-rmse:20975.76367\tvalidation_1-rmse:21414.59180\n",
      "[289]\tvalidation_0-rmse:20941.70117\tvalidation_1-rmse:21380.29688\n",
      "[290]\tvalidation_0-rmse:20915.28320\tvalidation_1-rmse:21341.54688\n",
      "[291]\tvalidation_0-rmse:20899.53320\tvalidation_1-rmse:21341.01562\n",
      "[292]\tvalidation_0-rmse:20874.93945\tvalidation_1-rmse:21323.24219\n",
      "[293]\tvalidation_0-rmse:20861.98828\tvalidation_1-rmse:21321.77539\n",
      "[294]\tvalidation_0-rmse:20835.50781\tvalidation_1-rmse:21279.27344\n",
      "[295]\tvalidation_0-rmse:20820.92578\tvalidation_1-rmse:21270.25391\n",
      "[296]\tvalidation_0-rmse:20761.56055\tvalidation_1-rmse:21233.82227\n",
      "[297]\tvalidation_0-rmse:20743.80078\tvalidation_1-rmse:21224.49414\n",
      "[298]\tvalidation_0-rmse:20731.56836\tvalidation_1-rmse:21189.95312\n",
      "[299]\tvalidation_0-rmse:20705.91992\tvalidation_1-rmse:21172.14844\n",
      "[300]\tvalidation_0-rmse:20693.98242\tvalidation_1-rmse:21148.12891\n",
      "[301]\tvalidation_0-rmse:20657.28320\tvalidation_1-rmse:21112.84766\n",
      "[302]\tvalidation_0-rmse:20647.27539\tvalidation_1-rmse:21078.85547\n",
      "[303]\tvalidation_0-rmse:20621.44141\tvalidation_1-rmse:21044.04883\n",
      "[304]\tvalidation_0-rmse:20604.99023\tvalidation_1-rmse:21016.24023\n",
      "[305]\tvalidation_0-rmse:20593.13672\tvalidation_1-rmse:20986.67383\n",
      "[306]\tvalidation_0-rmse:20556.94727\tvalidation_1-rmse:20943.49609\n",
      "[307]\tvalidation_0-rmse:20536.23633\tvalidation_1-rmse:20909.57812\n",
      "[308]\tvalidation_0-rmse:20512.25195\tvalidation_1-rmse:20895.16406\n",
      "[309]\tvalidation_0-rmse:20470.26367\tvalidation_1-rmse:20863.03516\n",
      "[310]\tvalidation_0-rmse:20447.60156\tvalidation_1-rmse:20838.26367\n",
      "[311]\tvalidation_0-rmse:20440.90625\tvalidation_1-rmse:20832.38086\n",
      "[312]\tvalidation_0-rmse:20416.49023\tvalidation_1-rmse:20800.12891\n",
      "[313]\tvalidation_0-rmse:20392.47070\tvalidation_1-rmse:20777.83398\n",
      "[314]\tvalidation_0-rmse:20367.22070\tvalidation_1-rmse:20730.85547\n",
      "[315]\tvalidation_0-rmse:20340.72656\tvalidation_1-rmse:20687.14258\n",
      "[316]\tvalidation_0-rmse:20322.62500\tvalidation_1-rmse:20658.11133\n",
      "[317]\tvalidation_0-rmse:20303.66992\tvalidation_1-rmse:20645.71094\n",
      "[318]\tvalidation_0-rmse:20283.56641\tvalidation_1-rmse:20649.13281\n",
      "[319]\tvalidation_0-rmse:20264.32812\tvalidation_1-rmse:20632.70703\n",
      "[320]\tvalidation_0-rmse:20251.59766\tvalidation_1-rmse:20634.96680\n",
      "[321]\tvalidation_0-rmse:20232.53125\tvalidation_1-rmse:20617.42383\n",
      "[322]\tvalidation_0-rmse:20208.64844\tvalidation_1-rmse:20596.10938\n",
      "[323]\tvalidation_0-rmse:20196.96289\tvalidation_1-rmse:20588.42188\n",
      "[324]\tvalidation_0-rmse:20167.61523\tvalidation_1-rmse:20549.25781\n",
      "[325]\tvalidation_0-rmse:20158.93945\tvalidation_1-rmse:20515.56055\n",
      "[326]\tvalidation_0-rmse:20123.82031\tvalidation_1-rmse:20464.81641\n",
      "[327]\tvalidation_0-rmse:20106.26953\tvalidation_1-rmse:20449.49609\n",
      "[328]\tvalidation_0-rmse:20091.42969\tvalidation_1-rmse:20425.35352\n",
      "[329]\tvalidation_0-rmse:20075.66016\tvalidation_1-rmse:20407.86133\n",
      "[330]\tvalidation_0-rmse:20055.69531\tvalidation_1-rmse:20394.35352\n",
      "[331]\tvalidation_0-rmse:20057.25195\tvalidation_1-rmse:20392.08594\n",
      "[332]\tvalidation_0-rmse:20034.09180\tvalidation_1-rmse:20375.03711\n",
      "[333]\tvalidation_0-rmse:20013.32031\tvalidation_1-rmse:20346.30664\n",
      "[334]\tvalidation_0-rmse:19996.85547\tvalidation_1-rmse:20318.71875\n",
      "[335]\tvalidation_0-rmse:19969.20898\tvalidation_1-rmse:20293.89648\n",
      "[336]\tvalidation_0-rmse:19948.32617\tvalidation_1-rmse:20267.06055\n",
      "[337]\tvalidation_0-rmse:19919.92773\tvalidation_1-rmse:20227.28906\n",
      "[338]\tvalidation_0-rmse:19900.04102\tvalidation_1-rmse:20215.96289\n",
      "[339]\tvalidation_0-rmse:19863.74219\tvalidation_1-rmse:20162.82617\n",
      "[340]\tvalidation_0-rmse:19843.97070\tvalidation_1-rmse:20134.67188\n",
      "[341]\tvalidation_0-rmse:19825.40625\tvalidation_1-rmse:20131.90625\n",
      "[342]\tvalidation_0-rmse:19804.62695\tvalidation_1-rmse:20110.01367\n",
      "[343]\tvalidation_0-rmse:19768.77734\tvalidation_1-rmse:20078.04492\n",
      "[344]\tvalidation_0-rmse:19750.97070\tvalidation_1-rmse:20058.73828\n",
      "[345]\tvalidation_0-rmse:19745.75977\tvalidation_1-rmse:20026.27148\n",
      "[346]\tvalidation_0-rmse:19715.39648\tvalidation_1-rmse:20033.60742\n",
      "[347]\tvalidation_0-rmse:19695.52930\tvalidation_1-rmse:20024.72461\n",
      "[348]\tvalidation_0-rmse:19677.45508\tvalidation_1-rmse:20025.21289\n",
      "[349]\tvalidation_0-rmse:19656.20508\tvalidation_1-rmse:19987.84180\n",
      "[350]\tvalidation_0-rmse:19636.48438\tvalidation_1-rmse:19996.86719\n",
      "[351]\tvalidation_0-rmse:19621.50391\tvalidation_1-rmse:19960.58594\n",
      "[352]\tvalidation_0-rmse:19602.87695\tvalidation_1-rmse:19927.93750\n",
      "[353]\tvalidation_0-rmse:19590.18164\tvalidation_1-rmse:19915.25977\n",
      "[354]\tvalidation_0-rmse:19576.24219\tvalidation_1-rmse:19893.92578\n",
      "[355]\tvalidation_0-rmse:19558.61914\tvalidation_1-rmse:19890.51172\n",
      "[356]\tvalidation_0-rmse:19553.77539\tvalidation_1-rmse:19882.68555\n",
      "[357]\tvalidation_0-rmse:19530.39258\tvalidation_1-rmse:19854.81641\n",
      "[358]\tvalidation_0-rmse:19515.29883\tvalidation_1-rmse:19828.25195\n",
      "[359]\tvalidation_0-rmse:19490.10742\tvalidation_1-rmse:19782.02344\n",
      "[360]\tvalidation_0-rmse:19475.98828\tvalidation_1-rmse:19758.13672\n",
      "[361]\tvalidation_0-rmse:19459.92969\tvalidation_1-rmse:19734.87305\n",
      "[362]\tvalidation_0-rmse:19440.55273\tvalidation_1-rmse:19729.36719\n",
      "[363]\tvalidation_0-rmse:19425.51758\tvalidation_1-rmse:19691.03516\n",
      "[364]\tvalidation_0-rmse:19419.25000\tvalidation_1-rmse:19690.04688\n",
      "[365]\tvalidation_0-rmse:19406.71875\tvalidation_1-rmse:19663.22266\n",
      "[366]\tvalidation_0-rmse:19400.00195\tvalidation_1-rmse:19640.38867\n",
      "[367]\tvalidation_0-rmse:19366.40820\tvalidation_1-rmse:19610.33398\n",
      "[368]\tvalidation_0-rmse:19327.42383\tvalidation_1-rmse:19573.50195\n",
      "[369]\tvalidation_0-rmse:19298.83398\tvalidation_1-rmse:19568.37891\n"
     ]
    },
    {
     "data": {
      "text/plain": [
       "XGBRegressor(base_score=0.5, booster='gbtree',\n",
       "             colsample_bylevel=0.44823929459082695, colsample_bynode=1,\n",
       "             colsample_bytree=0.24874872968444184, gamma=2.0373680414872807e-05,\n",
       "             gpu_id=-1, importance_type='gain', interaction_constraints='',\n",
       "             learning_rate=0.35931481390434145, max_delta_step=0, max_depth=42,\n",
       "             min_child_weight=4, missing=nan, monotone_constraints='()',\n",
       "             n_estimators=370, n_jobs=16, num_parallel_tree=1, random_state=0,\n",
       "             reg_alpha=0.0016294360251939137, reg_lambda=586,\n",
       "             scale_pos_weight=350, subsample=0.5062353603770533,\n",
       "             tree_method='exact', validate_parameters=1, verbosity=None)"
      ]
     },
     "execution_count": 22,
     "metadata": {},
     "output_type": "execute_result"
    }
   ],
   "source": [
    "clf.fit(X, y, eval_set = [(X_train, y_train), (X_val, y_val)], early_stopping_rounds = 30, verbose = True)"
   ]
  },
  {
   "cell_type": "code",
   "execution_count": 23,
   "metadata": {},
   "outputs": [
    {
     "data": {
      "text/html": [
       "<div>\n",
       "<style scoped>\n",
       "    .dataframe tbody tr th:only-of-type {\n",
       "        vertical-align: middle;\n",
       "    }\n",
       "\n",
       "    .dataframe tbody tr th {\n",
       "        vertical-align: top;\n",
       "    }\n",
       "\n",
       "    .dataframe thead th {\n",
       "        text-align: right;\n",
       "    }\n",
       "</style>\n",
       "<table border=\"1\" class=\"dataframe\">\n",
       "  <thead>\n",
       "    <tr style=\"text-align: right;\">\n",
       "      <th></th>\n",
       "      <th>Colname</th>\n",
       "      <th>score</th>\n",
       "    </tr>\n",
       "  </thead>\n",
       "  <tbody>\n",
       "    <tr>\n",
       "      <th>52</th>\n",
       "      <td>KitchenQual</td>\n",
       "      <td>0.096244</td>\n",
       "    </tr>\n",
       "    <tr>\n",
       "      <th>60</th>\n",
       "      <td>GarageCars</td>\n",
       "      <td>0.086521</td>\n",
       "    </tr>\n",
       "    <tr>\n",
       "      <th>48</th>\n",
       "      <td>FullBath</td>\n",
       "      <td>0.082374</td>\n",
       "    </tr>\n",
       "    <tr>\n",
       "      <th>45</th>\n",
       "      <td>GrLivArea</td>\n",
       "      <td>0.064644</td>\n",
       "    </tr>\n",
       "    <tr>\n",
       "      <th>16</th>\n",
       "      <td>OverallQual</td>\n",
       "      <td>0.063396</td>\n",
       "    </tr>\n",
       "    <tr>\n",
       "      <th>...</th>\n",
       "      <td>...</td>\n",
       "      <td>...</td>\n",
       "    </tr>\n",
       "    <tr>\n",
       "      <th>20</th>\n",
       "      <td>RoofStyle</td>\n",
       "      <td>0.001578</td>\n",
       "    </tr>\n",
       "    <tr>\n",
       "      <th>4</th>\n",
       "      <td>Street</td>\n",
       "      <td>0.000000</td>\n",
       "    </tr>\n",
       "    <tr>\n",
       "      <th>30</th>\n",
       "      <td>BsmtCond</td>\n",
       "      <td>0.000000</td>\n",
       "    </tr>\n",
       "    <tr>\n",
       "      <th>70</th>\n",
       "      <td>PoolArea</td>\n",
       "      <td>0.000000</td>\n",
       "    </tr>\n",
       "    <tr>\n",
       "      <th>8</th>\n",
       "      <td>Utilities</td>\n",
       "      <td>0.000000</td>\n",
       "    </tr>\n",
       "  </tbody>\n",
       "</table>\n",
       "<p>79 rows × 2 columns</p>\n",
       "</div>"
      ],
      "text/plain": [
       "        Colname     score\n",
       "52  KitchenQual  0.096244\n",
       "60   GarageCars  0.086521\n",
       "48     FullBath  0.082374\n",
       "45    GrLivArea  0.064644\n",
       "16  OverallQual  0.063396\n",
       "..          ...       ...\n",
       "20    RoofStyle  0.001578\n",
       "4        Street  0.000000\n",
       "30     BsmtCond  0.000000\n",
       "70     PoolArea  0.000000\n",
       "8     Utilities  0.000000\n",
       "\n",
       "[79 rows x 2 columns]"
      ]
     },
     "execution_count": 23,
     "metadata": {},
     "output_type": "execute_result"
    }
   ],
   "source": [
    "fi = pd.DataFrame({'Colname' : [x for x in X.columns], 'score' : clf.feature_importances_})\n",
    "fi = fi.sort_values(by = 'score', ascending = False)\n",
    "fi"
   ]
  },
  {
   "cell_type": "code",
   "execution_count": 24,
   "metadata": {},
   "outputs": [
    {
     "data": {
      "image/png": "[encoded data removed]",
      "text/plain": [
       "<Figure size 1440x720 with 1 Axes>"
      ]
     },
     "metadata": {
      "needs_background": "light"
     },
     "output_type": "display_data"
    }
   ],
   "source": [
    "fig, ax = plt.subplots(figsize = [20,10])\n",
    "xgb.plot_importance(clf,ax = ax)\n",
    "plt.show()"
   ]
  },
  {
   "cell_type": "code",
   "execution_count": 80,
   "metadata": {},
   "outputs": [
    {
     "data": {
      "text/html": [
       "<div>\n",
       "<style scoped>\n",
       "    .dataframe tbody tr th:only-of-type {\n",
       "        vertical-align: middle;\n",
       "    }\n",
       "\n",
       "    .dataframe tbody tr th {\n",
       "        vertical-align: top;\n",
       "    }\n",
       "\n",
       "    .dataframe thead th {\n",
       "        text-align: right;\n",
       "    }\n",
       "</style>\n",
       "<table border=\"1\" class=\"dataframe\">\n",
       "  <thead>\n",
       "    <tr style=\"text-align: right;\">\n",
       "      <th></th>\n",
       "      <th>MSSubClass</th>\n",
       "      <th>MSZoning</th>\n",
       "      <th>LotArea</th>\n",
       "      <th>LandContour</th>\n",
       "      <th>LandSlope</th>\n",
       "      <th>Neighborhood</th>\n",
       "      <th>Condition1</th>\n",
       "      <th>Condition2</th>\n",
       "      <th>OverallQual</th>\n",
       "      <th>OverallCond</th>\n",
       "      <th>...</th>\n",
       "      <th>GarageFinish</th>\n",
       "      <th>GarageCars</th>\n",
       "      <th>GarageArea</th>\n",
       "      <th>GarageCond</th>\n",
       "      <th>PavedDrive</th>\n",
       "      <th>OpenPorchSF</th>\n",
       "      <th>MiscFeature</th>\n",
       "      <th>MoSold</th>\n",
       "      <th>SaleCondition</th>\n",
       "      <th>SalePrice</th>\n",
       "    </tr>\n",
       "    <tr>\n",
       "      <th>Id</th>\n",
       "      <th></th>\n",
       "      <th></th>\n",
       "      <th></th>\n",
       "      <th></th>\n",
       "      <th></th>\n",
       "      <th></th>\n",
       "      <th></th>\n",
       "      <th></th>\n",
       "      <th></th>\n",
       "      <th></th>\n",
       "      <th></th>\n",
       "      <th></th>\n",
       "      <th></th>\n",
       "      <th></th>\n",
       "      <th></th>\n",
       "      <th></th>\n",
       "      <th></th>\n",
       "      <th></th>\n",
       "      <th></th>\n",
       "      <th></th>\n",
       "      <th></th>\n",
       "    </tr>\n",
       "  </thead>\n",
       "  <tbody>\n",
       "    <tr>\n",
       "      <th>1</th>\n",
       "      <td>5</td>\n",
       "      <td>3</td>\n",
       "      <td>8450</td>\n",
       "      <td>3</td>\n",
       "      <td>0</td>\n",
       "      <td>5</td>\n",
       "      <td>2</td>\n",
       "      <td>2</td>\n",
       "      <td>7</td>\n",
       "      <td>5</td>\n",
       "      <td>...</td>\n",
       "      <td>2</td>\n",
       "      <td>2</td>\n",
       "      <td>548</td>\n",
       "      <td>3</td>\n",
       "      <td>2</td>\n",
       "      <td>61</td>\n",
       "      <td>1</td>\n",
       "      <td>2</td>\n",
       "      <td>4</td>\n",
       "      <td>208500</td>\n",
       "    </tr>\n",
       "    <tr>\n",
       "      <th>2</th>\n",
       "      <td>0</td>\n",
       "      <td>3</td>\n",
       "      <td>9600</td>\n",
       "      <td>3</td>\n",
       "      <td>0</td>\n",
       "      <td>24</td>\n",
       "      <td>1</td>\n",
       "      <td>2</td>\n",
       "      <td>6</td>\n",
       "      <td>8</td>\n",
       "      <td>...</td>\n",
       "      <td>2</td>\n",
       "      <td>2</td>\n",
       "      <td>460</td>\n",
       "      <td>3</td>\n",
       "      <td>2</td>\n",
       "      <td>0</td>\n",
       "      <td>1</td>\n",
       "      <td>5</td>\n",
       "      <td>4</td>\n",
       "      <td>181500</td>\n",
       "    </tr>\n",
       "    <tr>\n",
       "      <th>3</th>\n",
       "      <td>5</td>\n",
       "      <td>3</td>\n",
       "      <td>11250</td>\n",
       "      <td>3</td>\n",
       "      <td>0</td>\n",
       "      <td>5</td>\n",
       "      <td>2</td>\n",
       "      <td>2</td>\n",
       "      <td>7</td>\n",
       "      <td>5</td>\n",
       "      <td>...</td>\n",
       "      <td>2</td>\n",
       "      <td>2</td>\n",
       "      <td>608</td>\n",
       "      <td>3</td>\n",
       "      <td>2</td>\n",
       "      <td>42</td>\n",
       "      <td>1</td>\n",
       "      <td>9</td>\n",
       "      <td>4</td>\n",
       "      <td>223500</td>\n",
       "    </tr>\n",
       "    <tr>\n",
       "      <th>4</th>\n",
       "      <td>6</td>\n",
       "      <td>3</td>\n",
       "      <td>9550</td>\n",
       "      <td>3</td>\n",
       "      <td>0</td>\n",
       "      <td>6</td>\n",
       "      <td>2</td>\n",
       "      <td>2</td>\n",
       "      <td>7</td>\n",
       "      <td>5</td>\n",
       "      <td>...</td>\n",
       "      <td>1</td>\n",
       "      <td>3</td>\n",
       "      <td>642</td>\n",
       "      <td>3</td>\n",
       "      <td>2</td>\n",
       "      <td>35</td>\n",
       "      <td>1</td>\n",
       "      <td>2</td>\n",
       "      <td>0</td>\n",
       "      <td>140000</td>\n",
       "    </tr>\n",
       "    <tr>\n",
       "      <th>5</th>\n",
       "      <td>5</td>\n",
       "      <td>3</td>\n",
       "      <td>14260</td>\n",
       "      <td>3</td>\n",
       "      <td>0</td>\n",
       "      <td>15</td>\n",
       "      <td>2</td>\n",
       "      <td>2</td>\n",
       "      <td>8</td>\n",
       "      <td>5</td>\n",
       "      <td>...</td>\n",
       "      <td>2</td>\n",
       "      <td>3</td>\n",
       "      <td>836</td>\n",
       "      <td>3</td>\n",
       "      <td>2</td>\n",
       "      <td>84</td>\n",
       "      <td>1</td>\n",
       "      <td>12</td>\n",
       "      <td>4</td>\n",
       "      <td>250000</td>\n",
       "    </tr>\n",
       "    <tr>\n",
       "      <th>...</th>\n",
       "      <td>...</td>\n",
       "      <td>...</td>\n",
       "      <td>...</td>\n",
       "      <td>...</td>\n",
       "      <td>...</td>\n",
       "      <td>...</td>\n",
       "      <td>...</td>\n",
       "      <td>...</td>\n",
       "      <td>...</td>\n",
       "      <td>...</td>\n",
       "      <td>...</td>\n",
       "      <td>...</td>\n",
       "      <td>...</td>\n",
       "      <td>...</td>\n",
       "      <td>...</td>\n",
       "      <td>...</td>\n",
       "      <td>...</td>\n",
       "      <td>...</td>\n",
       "      <td>...</td>\n",
       "      <td>...</td>\n",
       "      <td>...</td>\n",
       "    </tr>\n",
       "    <tr>\n",
       "      <th>1456</th>\n",
       "      <td>5</td>\n",
       "      <td>3</td>\n",
       "      <td>7917</td>\n",
       "      <td>3</td>\n",
       "      <td>0</td>\n",
       "      <td>8</td>\n",
       "      <td>2</td>\n",
       "      <td>2</td>\n",
       "      <td>6</td>\n",
       "      <td>5</td>\n",
       "      <td>...</td>\n",
       "      <td>2</td>\n",
       "      <td>2</td>\n",
       "      <td>460</td>\n",
       "      <td>3</td>\n",
       "      <td>2</td>\n",
       "      <td>40</td>\n",
       "      <td>1</td>\n",
       "      <td>8</td>\n",
       "      <td>4</td>\n",
       "      <td>175000</td>\n",
       "    </tr>\n",
       "    <tr>\n",
       "      <th>1457</th>\n",
       "      <td>0</td>\n",
       "      <td>3</td>\n",
       "      <td>13175</td>\n",
       "      <td>3</td>\n",
       "      <td>0</td>\n",
       "      <td>14</td>\n",
       "      <td>2</td>\n",
       "      <td>2</td>\n",
       "      <td>6</td>\n",
       "      <td>6</td>\n",
       "      <td>...</td>\n",
       "      <td>1</td>\n",
       "      <td>2</td>\n",
       "      <td>500</td>\n",
       "      <td>3</td>\n",
       "      <td>2</td>\n",
       "      <td>0</td>\n",
       "      <td>1</td>\n",
       "      <td>2</td>\n",
       "      <td>4</td>\n",
       "      <td>210000</td>\n",
       "    </tr>\n",
       "    <tr>\n",
       "      <th>1458</th>\n",
       "      <td>6</td>\n",
       "      <td>3</td>\n",
       "      <td>9042</td>\n",
       "      <td>3</td>\n",
       "      <td>0</td>\n",
       "      <td>6</td>\n",
       "      <td>2</td>\n",
       "      <td>2</td>\n",
       "      <td>7</td>\n",
       "      <td>9</td>\n",
       "      <td>...</td>\n",
       "      <td>2</td>\n",
       "      <td>1</td>\n",
       "      <td>252</td>\n",
       "      <td>3</td>\n",
       "      <td>2</td>\n",
       "      <td>60</td>\n",
       "      <td>3</td>\n",
       "      <td>5</td>\n",
       "      <td>4</td>\n",
       "      <td>266500</td>\n",
       "    </tr>\n",
       "    <tr>\n",
       "      <th>1459</th>\n",
       "      <td>0</td>\n",
       "      <td>3</td>\n",
       "      <td>9717</td>\n",
       "      <td>3</td>\n",
       "      <td>0</td>\n",
       "      <td>12</td>\n",
       "      <td>2</td>\n",
       "      <td>2</td>\n",
       "      <td>5</td>\n",
       "      <td>6</td>\n",
       "      <td>...</td>\n",
       "      <td>1</td>\n",
       "      <td>1</td>\n",
       "      <td>240</td>\n",
       "      <td>3</td>\n",
       "      <td>2</td>\n",
       "      <td>0</td>\n",
       "      <td>1</td>\n",
       "      <td>4</td>\n",
       "      <td>4</td>\n",
       "      <td>142125</td>\n",
       "    </tr>\n",
       "    <tr>\n",
       "      <th>1460</th>\n",
       "      <td>0</td>\n",
       "      <td>3</td>\n",
       "      <td>9937</td>\n",
       "      <td>3</td>\n",
       "      <td>0</td>\n",
       "      <td>7</td>\n",
       "      <td>2</td>\n",
       "      <td>2</td>\n",
       "      <td>5</td>\n",
       "      <td>6</td>\n",
       "      <td>...</td>\n",
       "      <td>3</td>\n",
       "      <td>1</td>\n",
       "      <td>276</td>\n",
       "      <td>3</td>\n",
       "      <td>2</td>\n",
       "      <td>68</td>\n",
       "      <td>1</td>\n",
       "      <td>6</td>\n",
       "      <td>4</td>\n",
       "      <td>147500</td>\n",
       "    </tr>\n",
       "  </tbody>\n",
       "</table>\n",
       "<p>1460 rows × 48 columns</p>\n",
       "</div>"
      ],
      "text/plain": [
       "      MSSubClass  MSZoning  LotArea  LandContour  LandSlope  Neighborhood  \\\n",
       "Id                                                                          \n",
       "1              5         3     8450            3          0             5   \n",
       "2              0         3     9600            3          0            24   \n",
       "3              5         3    11250            3          0             5   \n",
       "4              6         3     9550            3          0             6   \n",
       "5              5         3    14260            3          0            15   \n",
       "...          ...       ...      ...          ...        ...           ...   \n",
       "1456           5         3     7917            3          0             8   \n",
       "1457           0         3    13175            3          0            14   \n",
       "1458           6         3     9042            3          0             6   \n",
       "1459           0         3     9717            3          0            12   \n",
       "1460           0         3     9937            3          0             7   \n",
       "\n",
       "      Condition1  Condition2  OverallQual  OverallCond  ...  GarageFinish  \\\n",
       "Id                                                      ...                 \n",
       "1              2           2            7            5  ...             2   \n",
       "2              1           2            6            8  ...             2   \n",
       "3              2           2            7            5  ...             2   \n",
       "4              2           2            7            5  ...             1   \n",
       "5              2           2            8            5  ...             2   \n",
       "...          ...         ...          ...          ...  ...           ...   \n",
       "1456           2           2            6            5  ...             2   \n",
       "1457           2           2            6            6  ...             1   \n",
       "1458           2           2            7            9  ...             2   \n",
       "1459           2           2            5            6  ...             1   \n",
       "1460           2           2            5            6  ...             3   \n",
       "\n",
       "      GarageCars  GarageArea  GarageCond  PavedDrive  OpenPorchSF  \\\n",
       "Id                                                                  \n",
       "1              2         548           3           2           61   \n",
       "2              2         460           3           2            0   \n",
       "3              2         608           3           2           42   \n",
       "4              3         642           3           2           35   \n",
       "5              3         836           3           2           84   \n",
       "...          ...         ...         ...         ...          ...   \n",
       "1456           2         460           3           2           40   \n",
       "1457           2         500           3           2            0   \n",
       "1458           1         252           3           2           60   \n",
       "1459           1         240           3           2            0   \n",
       "1460           1         276           3           2           68   \n",
       "\n",
       "      MiscFeature  MoSold  SaleCondition  SalePrice  \n",
       "Id                                                   \n",
       "1               1       2              4     208500  \n",
       "2               1       5              4     181500  \n",
       "3               1       9              4     223500  \n",
       "4               1       2              0     140000  \n",
       "5               1      12              4     250000  \n",
       "...           ...     ...            ...        ...  \n",
       "1456            1       8              4     175000  \n",
       "1457            1       2              4     210000  \n",
       "1458            3       5              4     266500  \n",
       "1459            1       4              4     142125  \n",
       "1460            1       6              4     147500  \n",
       "\n",
       "[1460 rows x 48 columns]"
      ]
     },
     "execution_count": 80,
     "metadata": {},
     "output_type": "execute_result"
    }
   ],
   "source": [
    "#optimized Colsample_by_tree :0.448 -> so, i'll take only 60% of columns and will try gain\n",
    "\n",
    "train_2 = train.loc[:,[x for x in train.columns if x in fi.iloc[:int(len(fi) * 0.6),0].values] + ['SalePrice']]\n",
    "train_2"
   ]
  },
  {
   "cell_type": "code",
   "execution_count": 84,
   "metadata": {},
   "outputs": [],
   "source": [
    "X_2, y_2 = train_2.loc[:,[x for x in train_2.columns if x != 'SalePrice']], train_2.SalePrice"
   ]
  },
  {
   "cell_type": "code",
   "execution_count": 85,
   "metadata": {},
   "outputs": [],
   "source": [
    "X_train2, X_val2, y_train2, y_val2 = train_test_split(train_2.loc[:,[x for x in train_2.columns if x != 'SalePrice' ]], train_2.loc[:,'SalePrice'], test_size = 0.3, random_state = 42)"
   ]
  },
  {
   "cell_type": "code",
   "execution_count": 87,
   "metadata": {},
   "outputs": [],
   "source": [
    "Iteration = 100\n",
    "\n",
    "bayes_cv_tuner = BayesSearchCV(\n",
    "    estimator = xgb.XGBRegressor(\n",
    "        n_jobs = 1,\n",
    "        objective = 'reg:squarederror',\n",
    "        eval_metric = 'rmse',\n",
    "        tree_method = 'approx'\n",
    "    ),\n",
    "    search_spaces = {\n",
    "        'learning_rate': (0.01, 1.0, 'log-uniform'),\n",
    "        'min_child_weight': (0, 10),\n",
    "        'colsample_bynode' : (0,1),\n",
    "        'max_depth': (1, 50),\n",
    "        'max_delta_step': (0, 20),\n",
    "        'subsample': (0.01, 1.0, 'uniform'),\n",
    "        'colsample_bytree': (0.01, 1.0, 'uniform'),\n",
    "        'colsample_bylevel': (0.01, 1.0, 'uniform'),\n",
    "        'reg_lambda': (1, 1000, 'log-uniform'),\n",
    "        'reg_alpha': (1e-5, 1.0, 'log-uniform'),\n",
    "        'gamma': (1e-5, 0.5, 'log-uniform'),\n",
    "        'min_child_weight': (0, 5),\n",
    "        'n_estimators': (50, 500),\n",
    "        'scale_pos_weight': (1, 500, 'log-uniform')\n",
    "    },\n",
    "    cv = KFold(\n",
    "        n_splits = 10,\n",
    "        shuffle = True,\n",
    "        random_state = 42\n",
    "    ),\n",
    "    n_jobs = 16,\n",
    "    n_iter = Iteration,\n",
    "    verbose = 0,\n",
    "    refit = True,\n",
    "    random_state = 42\n",
    ")\n",
    "\n",
    "def status_print(optim_result):\n",
    "    all_models = pd.DataFrame(bayes_cv_tuner.cv_results_)\n",
    "    best_params = pd.Series(bayes_cv_tuner.best_params_)\n",
    "    clf_name = bayes_cv_tuner.estimator.__class__.__name__\n",
    "    all_models.to_csv(clf_name + '_cv_result.csv')\n",
    "\n",
    "result = bayes_cv_tuner.fit(X_2, y_2, callback = status_print)"
   ]
  },
  {
   "cell_type": "code",
   "execution_count": 88,
   "metadata": {},
   "outputs": [
    {
     "data": {
      "text/plain": [
       "{'colsample_bylevel': 0.6014463948460074,\n",
       " 'colsample_bynode': 0,\n",
       " 'colsample_bytree': 0.5531341118305938,\n",
       " 'gamma': 0.0001691672894500299,\n",
       " 'learning_rate': 0.5272330669811445,\n",
       " 'max_delta_step': 0,\n",
       " 'max_depth': 40,\n",
       " 'min_child_weight': 5,\n",
       " 'n_estimators': 485,\n",
       " 'reg_alpha': 0.00039277629995977816,\n",
       " 'reg_lambda': 604,\n",
       " 'scale_pos_weight': 487,\n",
       " 'subsample': 0.5370384817264582}"
      ]
     },
     "execution_count": 88,
     "metadata": {},
     "output_type": "execute_result"
    }
   ],
   "source": [
    "params = dict(result.best_params_)\n",
    "params"
   ]
  },
  {
   "cell_type": "code",
   "execution_count": 89,
   "metadata": {},
   "outputs": [
    {
     "data": {
      "text/plain": [
       "0.8790733174811235"
      ]
     },
     "execution_count": 89,
     "metadata": {},
     "output_type": "execute_result"
    }
   ],
   "source": [
    "result.best_score_"
   ]
  },
  {
   "cell_type": "code",
   "execution_count": 90,
   "metadata": {},
   "outputs": [],
   "source": [
    "clf = xgb.XGBRegressor(**params,objective='reg:squarederror')"
   ]
  },
  {
   "cell_type": "code",
   "execution_count": 92,
   "metadata": {
    "scrolled": true
   },
   "outputs": [
    {
     "name": "stdout",
     "output_type": "stream",
     "text": [
      "[0]\tvalidation_0-rmse:149279.18750\tvalidation_1-rmse:151369.15625\n",
      "[1]\tvalidation_0-rmse:118414.89062\tvalidation_1-rmse:121451.28125\n",
      "[2]\tvalidation_0-rmse:99225.10938\tvalidation_1-rmse:103146.57031\n",
      "[3]\tvalidation_0-rmse:88836.64062\tvalidation_1-rmse:93177.77344\n",
      "[4]\tvalidation_0-rmse:81767.71094\tvalidation_1-rmse:86718.32812\n",
      "[5]\tvalidation_0-rmse:76815.39062\tvalidation_1-rmse:82006.39062\n",
      "[6]\tvalidation_0-rmse:74080.93750\tvalidation_1-rmse:79457.73438\n",
      "[7]\tvalidation_0-rmse:70294.09375\tvalidation_1-rmse:75679.17969\n",
      "[8]\tvalidation_0-rmse:65361.55469\tvalidation_1-rmse:70909.60938\n",
      "[9]\tvalidation_0-rmse:62409.88281\tvalidation_1-rmse:67668.92969\n",
      "[10]\tvalidation_0-rmse:59604.07031\tvalidation_1-rmse:64765.66016\n",
      "[11]\tvalidation_0-rmse:57924.40234\tvalidation_1-rmse:63136.12500\n",
      "[12]\tvalidation_0-rmse:55625.56641\tvalidation_1-rmse:60542.09766\n",
      "[13]\tvalidation_0-rmse:53767.17188\tvalidation_1-rmse:58423.38281\n",
      "[14]\tvalidation_0-rmse:53035.37891\tvalidation_1-rmse:57576.91016\n",
      "[15]\tvalidation_0-rmse:51378.61328\tvalidation_1-rmse:55804.53516\n",
      "[16]\tvalidation_0-rmse:50528.43359\tvalidation_1-rmse:54931.33594\n",
      "[17]\tvalidation_0-rmse:49215.69922\tvalidation_1-rmse:53526.12891\n",
      "[18]\tvalidation_0-rmse:48280.27344\tvalidation_1-rmse:52446.10938\n",
      "[19]\tvalidation_0-rmse:46883.11719\tvalidation_1-rmse:50843.49219\n",
      "[20]\tvalidation_0-rmse:46339.58203\tvalidation_1-rmse:50178.92578\n",
      "[21]\tvalidation_0-rmse:45611.76172\tvalidation_1-rmse:49461.24219\n",
      "[22]\tvalidation_0-rmse:44852.53906\tvalidation_1-rmse:48683.21875\n",
      "[23]\tvalidation_0-rmse:44357.31641\tvalidation_1-rmse:48190.78516\n",
      "[24]\tvalidation_0-rmse:44070.21094\tvalidation_1-rmse:47820.85547\n",
      "[25]\tvalidation_0-rmse:43414.04297\tvalidation_1-rmse:46966.89453\n",
      "[26]\tvalidation_0-rmse:42826.42969\tvalidation_1-rmse:46218.32422\n",
      "[27]\tvalidation_0-rmse:42638.94141\tvalidation_1-rmse:45920.58984\n",
      "[28]\tvalidation_0-rmse:42269.33594\tvalidation_1-rmse:45469.41406\n",
      "[29]\tvalidation_0-rmse:41677.96484\tvalidation_1-rmse:44741.90625\n",
      "[30]\tvalidation_0-rmse:41383.15625\tvalidation_1-rmse:44342.57812\n",
      "[31]\tvalidation_0-rmse:41264.05859\tvalidation_1-rmse:44173.82812\n",
      "[32]\tvalidation_0-rmse:41088.47656\tvalidation_1-rmse:43979.84766\n",
      "[33]\tvalidation_0-rmse:40798.47656\tvalidation_1-rmse:43693.68750\n",
      "[34]\tvalidation_0-rmse:40519.98438\tvalidation_1-rmse:43347.09375\n",
      "[35]\tvalidation_0-rmse:40279.66406\tvalidation_1-rmse:43103.46094\n",
      "[36]\tvalidation_0-rmse:39990.22266\tvalidation_1-rmse:42758.16016\n",
      "[37]\tvalidation_0-rmse:39227.10547\tvalidation_1-rmse:41924.62109\n",
      "[38]\tvalidation_0-rmse:39063.47656\tvalidation_1-rmse:41706.56641\n",
      "[39]\tvalidation_0-rmse:38944.01953\tvalidation_1-rmse:41606.54688\n",
      "[40]\tvalidation_0-rmse:38896.27734\tvalidation_1-rmse:41540.01562\n",
      "[41]\tvalidation_0-rmse:38769.19531\tvalidation_1-rmse:41292.50391\n",
      "[42]\tvalidation_0-rmse:38613.14453\tvalidation_1-rmse:41023.17578\n",
      "[43]\tvalidation_0-rmse:38174.99609\tvalidation_1-rmse:40516.14844\n",
      "[44]\tvalidation_0-rmse:37989.33984\tvalidation_1-rmse:40300.90234\n",
      "[45]\tvalidation_0-rmse:37815.37109\tvalidation_1-rmse:40096.83203\n",
      "[46]\tvalidation_0-rmse:37719.57812\tvalidation_1-rmse:39971.46484\n",
      "[47]\tvalidation_0-rmse:37341.30469\tvalidation_1-rmse:39549.19922\n",
      "[48]\tvalidation_0-rmse:37087.38672\tvalidation_1-rmse:39184.56641\n",
      "[49]\tvalidation_0-rmse:36860.66016\tvalidation_1-rmse:38925.26562\n",
      "[50]\tvalidation_0-rmse:36788.43750\tvalidation_1-rmse:38854.59766\n",
      "[51]\tvalidation_0-rmse:36552.39844\tvalidation_1-rmse:38596.39062\n",
      "[52]\tvalidation_0-rmse:36547.10938\tvalidation_1-rmse:38586.19922\n",
      "[53]\tvalidation_0-rmse:36246.32031\tvalidation_1-rmse:38240.16797\n",
      "[54]\tvalidation_0-rmse:36108.95312\tvalidation_1-rmse:38018.27344\n",
      "[55]\tvalidation_0-rmse:35989.84375\tvalidation_1-rmse:37901.04688\n",
      "[56]\tvalidation_0-rmse:35714.41406\tvalidation_1-rmse:37607.26562\n",
      "[57]\tvalidation_0-rmse:35503.67578\tvalidation_1-rmse:37367.22656\n",
      "[58]\tvalidation_0-rmse:35370.49609\tvalidation_1-rmse:37133.60547\n",
      "[59]\tvalidation_0-rmse:35238.51562\tvalidation_1-rmse:36924.56250\n",
      "[60]\tvalidation_0-rmse:35080.48828\tvalidation_1-rmse:36867.76562\n",
      "[61]\tvalidation_0-rmse:34979.04297\tvalidation_1-rmse:36690.93750\n",
      "[62]\tvalidation_0-rmse:34884.29297\tvalidation_1-rmse:36599.25391\n",
      "[63]\tvalidation_0-rmse:34710.91797\tvalidation_1-rmse:36394.33984\n",
      "[64]\tvalidation_0-rmse:34579.64844\tvalidation_1-rmse:36198.72266\n",
      "[65]\tvalidation_0-rmse:34462.26562\tvalidation_1-rmse:36065.45703\n",
      "[66]\tvalidation_0-rmse:34279.05078\tvalidation_1-rmse:35857.07812\n",
      "[67]\tvalidation_0-rmse:34249.02734\tvalidation_1-rmse:35811.86719\n",
      "[68]\tvalidation_0-rmse:34078.51172\tvalidation_1-rmse:35578.12109\n",
      "[69]\tvalidation_0-rmse:34050.89062\tvalidation_1-rmse:35536.02344\n",
      "[70]\tvalidation_0-rmse:33867.52734\tvalidation_1-rmse:35384.86328\n",
      "[71]\tvalidation_0-rmse:33779.03906\tvalidation_1-rmse:35206.04297\n",
      "[72]\tvalidation_0-rmse:33718.56250\tvalidation_1-rmse:35086.62109\n",
      "[73]\tvalidation_0-rmse:33706.15234\tvalidation_1-rmse:35053.31250\n",
      "[74]\tvalidation_0-rmse:33628.25391\tvalidation_1-rmse:34914.22266\n",
      "[75]\tvalidation_0-rmse:33536.33594\tvalidation_1-rmse:34793.34766\n",
      "[76]\tvalidation_0-rmse:33488.35547\tvalidation_1-rmse:34746.81641\n",
      "[77]\tvalidation_0-rmse:33262.31641\tvalidation_1-rmse:34443.47266\n",
      "[78]\tvalidation_0-rmse:33186.75391\tvalidation_1-rmse:34396.31641\n",
      "[79]\tvalidation_0-rmse:32967.82031\tvalidation_1-rmse:34232.17188\n",
      "[80]\tvalidation_0-rmse:32857.61328\tvalidation_1-rmse:34078.36328\n",
      "[81]\tvalidation_0-rmse:32777.80469\tvalidation_1-rmse:33935.52344\n",
      "[82]\tvalidation_0-rmse:32744.86328\tvalidation_1-rmse:33875.51562\n",
      "[83]\tvalidation_0-rmse:32693.70898\tvalidation_1-rmse:33840.51172\n",
      "[84]\tvalidation_0-rmse:32658.04688\tvalidation_1-rmse:33780.14062\n",
      "[85]\tvalidation_0-rmse:32571.80273\tvalidation_1-rmse:33622.50781\n",
      "[86]\tvalidation_0-rmse:32559.33203\tvalidation_1-rmse:33575.68750\n",
      "[87]\tvalidation_0-rmse:32376.35742\tvalidation_1-rmse:33348.30078\n",
      "[88]\tvalidation_0-rmse:32318.23633\tvalidation_1-rmse:33251.67578\n",
      "[89]\tvalidation_0-rmse:32303.03711\tvalidation_1-rmse:33237.87500\n",
      "[90]\tvalidation_0-rmse:32278.14844\tvalidation_1-rmse:33204.10938\n",
      "[91]\tvalidation_0-rmse:32209.23438\tvalidation_1-rmse:33136.83203\n",
      "[92]\tvalidation_0-rmse:32096.63477\tvalidation_1-rmse:32973.44531\n",
      "[93]\tvalidation_0-rmse:31981.13867\tvalidation_1-rmse:32869.46875\n",
      "[94]\tvalidation_0-rmse:31926.33984\tvalidation_1-rmse:32816.52734\n",
      "[95]\tvalidation_0-rmse:31838.70508\tvalidation_1-rmse:32731.55078\n",
      "[96]\tvalidation_0-rmse:31743.19336\tvalidation_1-rmse:32623.86133\n",
      "[97]\tvalidation_0-rmse:31688.56836\tvalidation_1-rmse:32580.93555\n",
      "[98]\tvalidation_0-rmse:31598.46875\tvalidation_1-rmse:32469.45312\n",
      "[99]\tvalidation_0-rmse:31557.52344\tvalidation_1-rmse:32362.33203\n",
      "[100]\tvalidation_0-rmse:31554.03125\tvalidation_1-rmse:32301.79102\n",
      "[101]\tvalidation_0-rmse:31447.94727\tvalidation_1-rmse:32128.21289\n",
      "[102]\tvalidation_0-rmse:31398.69531\tvalidation_1-rmse:32072.59375\n",
      "[103]\tvalidation_0-rmse:31362.19336\tvalidation_1-rmse:31998.70508\n",
      "[104]\tvalidation_0-rmse:31283.11719\tvalidation_1-rmse:31858.10156\n",
      "[105]\tvalidation_0-rmse:31210.12500\tvalidation_1-rmse:31773.53125\n",
      "[106]\tvalidation_0-rmse:31211.07812\tvalidation_1-rmse:31779.15234\n",
      "[107]\tvalidation_0-rmse:31133.63477\tvalidation_1-rmse:31667.42969\n",
      "[108]\tvalidation_0-rmse:31065.08008\tvalidation_1-rmse:31553.66406\n",
      "[109]\tvalidation_0-rmse:31006.23047\tvalidation_1-rmse:31539.49219\n",
      "[110]\tvalidation_0-rmse:30985.48438\tvalidation_1-rmse:31493.49219\n",
      "[111]\tvalidation_0-rmse:30948.15234\tvalidation_1-rmse:31432.58398\n",
      "[112]\tvalidation_0-rmse:30916.45898\tvalidation_1-rmse:31348.04297\n",
      "[113]\tvalidation_0-rmse:30840.85547\tvalidation_1-rmse:31303.69141\n",
      "[114]\tvalidation_0-rmse:30738.73242\tvalidation_1-rmse:31163.56250\n",
      "[115]\tvalidation_0-rmse:30641.95117\tvalidation_1-rmse:31034.78320\n",
      "[116]\tvalidation_0-rmse:30620.33203\tvalidation_1-rmse:30969.50391\n",
      "[117]\tvalidation_0-rmse:30564.21680\tvalidation_1-rmse:30909.93359\n",
      "[118]\tvalidation_0-rmse:30539.03906\tvalidation_1-rmse:30835.56836\n",
      "[119]\tvalidation_0-rmse:30488.45117\tvalidation_1-rmse:30786.21484\n",
      "[120]\tvalidation_0-rmse:30467.20703\tvalidation_1-rmse:30762.44531\n",
      "[121]\tvalidation_0-rmse:30436.54297\tvalidation_1-rmse:30741.96484\n",
      "[122]\tvalidation_0-rmse:30404.65820\tvalidation_1-rmse:30698.11914\n",
      "[123]\tvalidation_0-rmse:30370.47461\tvalidation_1-rmse:30656.04297\n",
      "[124]\tvalidation_0-rmse:30352.08008\tvalidation_1-rmse:30605.53125\n",
      "[125]\tvalidation_0-rmse:30306.11328\tvalidation_1-rmse:30542.29688\n",
      "[126]\tvalidation_0-rmse:30213.22461\tvalidation_1-rmse:30470.09375\n",
      "[127]\tvalidation_0-rmse:30209.51562\tvalidation_1-rmse:30456.99023\n",
      "[128]\tvalidation_0-rmse:30164.03711\tvalidation_1-rmse:30376.92969\n",
      "[129]\tvalidation_0-rmse:30019.20898\tvalidation_1-rmse:30272.75195\n",
      "[130]\tvalidation_0-rmse:29971.14258\tvalidation_1-rmse:30207.37695\n",
      "[131]\tvalidation_0-rmse:29924.90430\tvalidation_1-rmse:30153.85742\n",
      "[132]\tvalidation_0-rmse:29823.71289\tvalidation_1-rmse:30070.91211\n",
      "[133]\tvalidation_0-rmse:29825.70312\tvalidation_1-rmse:30069.38867\n",
      "[134]\tvalidation_0-rmse:29772.80859\tvalidation_1-rmse:30030.93359\n",
      "[135]\tvalidation_0-rmse:29756.57617\tvalidation_1-rmse:30006.03906\n",
      "[136]\tvalidation_0-rmse:29674.47852\tvalidation_1-rmse:29934.08398\n",
      "[137]\tvalidation_0-rmse:29623.07031\tvalidation_1-rmse:29855.75586\n",
      "[138]\tvalidation_0-rmse:29612.72266\tvalidation_1-rmse:29794.34375\n",
      "[139]\tvalidation_0-rmse:29579.24805\tvalidation_1-rmse:29742.62695\n",
      "[140]\tvalidation_0-rmse:29549.56250\tvalidation_1-rmse:29718.15820\n",
      "[141]\tvalidation_0-rmse:29498.17969\tvalidation_1-rmse:29685.41211\n",
      "[142]\tvalidation_0-rmse:29440.39648\tvalidation_1-rmse:29595.47852\n",
      "[143]\tvalidation_0-rmse:29373.11328\tvalidation_1-rmse:29558.27148\n",
      "[144]\tvalidation_0-rmse:29348.04688\tvalidation_1-rmse:29511.65820\n",
      "[145]\tvalidation_0-rmse:29267.33594\tvalidation_1-rmse:29407.19727\n",
      "[146]\tvalidation_0-rmse:29262.03711\tvalidation_1-rmse:29403.21875\n",
      "[147]\tvalidation_0-rmse:29134.84570\tvalidation_1-rmse:29338.96094\n",
      "[148]\tvalidation_0-rmse:29113.87891\tvalidation_1-rmse:29284.95312\n",
      "[149]\tvalidation_0-rmse:29118.01172\tvalidation_1-rmse:29299.03320\n",
      "[150]\tvalidation_0-rmse:29060.70508\tvalidation_1-rmse:29239.30859\n",
      "[151]\tvalidation_0-rmse:29055.23438\tvalidation_1-rmse:29210.44922\n",
      "[152]\tvalidation_0-rmse:29044.52148\tvalidation_1-rmse:29204.48242\n",
      "[153]\tvalidation_0-rmse:29034.67773\tvalidation_1-rmse:29196.98633\n",
      "[154]\tvalidation_0-rmse:29009.96094\tvalidation_1-rmse:29171.84570\n",
      "[155]\tvalidation_0-rmse:28922.04297\tvalidation_1-rmse:29065.41992\n",
      "[156]\tvalidation_0-rmse:28913.68359\tvalidation_1-rmse:29036.53711\n",
      "[157]\tvalidation_0-rmse:28890.16602\tvalidation_1-rmse:29004.12891\n",
      "[158]\tvalidation_0-rmse:28879.81445\tvalidation_1-rmse:28962.86133\n",
      "[159]\tvalidation_0-rmse:28849.14062\tvalidation_1-rmse:28915.42578\n",
      "[160]\tvalidation_0-rmse:28826.99023\tvalidation_1-rmse:28904.10156\n",
      "[161]\tvalidation_0-rmse:28816.36328\tvalidation_1-rmse:28913.22266\n",
      "[162]\tvalidation_0-rmse:28818.06836\tvalidation_1-rmse:28905.05859\n",
      "[163]\tvalidation_0-rmse:28809.68945\tvalidation_1-rmse:28911.23242\n",
      "[164]\tvalidation_0-rmse:28804.75586\tvalidation_1-rmse:28879.94336\n",
      "[165]\tvalidation_0-rmse:28762.88281\tvalidation_1-rmse:28820.47656\n",
      "[166]\tvalidation_0-rmse:28749.31836\tvalidation_1-rmse:28794.49219\n",
      "[167]\tvalidation_0-rmse:28696.98633\tvalidation_1-rmse:28675.09375\n",
      "[168]\tvalidation_0-rmse:28670.15820\tvalidation_1-rmse:28674.12891\n",
      "[169]\tvalidation_0-rmse:28669.75977\tvalidation_1-rmse:28667.45117\n",
      "[170]\tvalidation_0-rmse:28643.76367\tvalidation_1-rmse:28629.43359\n",
      "[171]\tvalidation_0-rmse:28573.57812\tvalidation_1-rmse:28550.88477\n",
      "[172]\tvalidation_0-rmse:28564.12891\tvalidation_1-rmse:28556.12695\n",
      "[173]\tvalidation_0-rmse:28560.35352\tvalidation_1-rmse:28517.99805\n",
      "[174]\tvalidation_0-rmse:28537.50391\tvalidation_1-rmse:28496.09961\n",
      "[175]\tvalidation_0-rmse:28510.55078\tvalidation_1-rmse:28483.73633\n",
      "[176]\tvalidation_0-rmse:28478.15430\tvalidation_1-rmse:28428.12695\n",
      "[177]\tvalidation_0-rmse:28476.50586\tvalidation_1-rmse:28419.47656\n",
      "[178]\tvalidation_0-rmse:28482.46484\tvalidation_1-rmse:28414.67773\n",
      "[179]\tvalidation_0-rmse:28485.79297\tvalidation_1-rmse:28413.78516\n",
      "[180]\tvalidation_0-rmse:28449.24609\tvalidation_1-rmse:28362.64844\n",
      "[181]\tvalidation_0-rmse:28443.66602\tvalidation_1-rmse:28363.35938\n",
      "[182]\tvalidation_0-rmse:28360.13281\tvalidation_1-rmse:28302.54297\n",
      "[183]\tvalidation_0-rmse:28269.05664\tvalidation_1-rmse:28183.63477\n",
      "[184]\tvalidation_0-rmse:28266.58789\tvalidation_1-rmse:28164.59570\n",
      "[185]\tvalidation_0-rmse:28219.10352\tvalidation_1-rmse:28094.41406\n",
      "[186]\tvalidation_0-rmse:28170.62891\tvalidation_1-rmse:27998.47656\n",
      "[187]\tvalidation_0-rmse:28151.37305\tvalidation_1-rmse:27956.25195\n",
      "[188]\tvalidation_0-rmse:28152.77930\tvalidation_1-rmse:27962.20898\n",
      "[189]\tvalidation_0-rmse:28147.28320\tvalidation_1-rmse:27942.06445\n",
      "[190]\tvalidation_0-rmse:28146.91992\tvalidation_1-rmse:27941.03906\n",
      "[191]\tvalidation_0-rmse:28146.04297\tvalidation_1-rmse:27937.10742\n",
      "[192]\tvalidation_0-rmse:28119.85742\tvalidation_1-rmse:27912.70117\n",
      "[193]\tvalidation_0-rmse:28116.27344\tvalidation_1-rmse:27916.13867\n",
      "[194]\tvalidation_0-rmse:28098.64258\tvalidation_1-rmse:27896.32031\n",
      "[195]\tvalidation_0-rmse:28087.81055\tvalidation_1-rmse:27878.11719\n",
      "[196]\tvalidation_0-rmse:28056.20898\tvalidation_1-rmse:27875.14062\n",
      "[197]\tvalidation_0-rmse:28036.68555\tvalidation_1-rmse:27849.24023\n",
      "[198]\tvalidation_0-rmse:28012.38867\tvalidation_1-rmse:27840.59570\n",
      "[199]\tvalidation_0-rmse:27963.69141\tvalidation_1-rmse:27816.95117\n",
      "[200]\tvalidation_0-rmse:27954.65234\tvalidation_1-rmse:27812.31641\n",
      "[201]\tvalidation_0-rmse:27934.33984\tvalidation_1-rmse:27779.59375\n",
      "[202]\tvalidation_0-rmse:27921.08008\tvalidation_1-rmse:27761.53516\n",
      "[203]\tvalidation_0-rmse:27904.09570\tvalidation_1-rmse:27750.33008\n",
      "[204]\tvalidation_0-rmse:27866.94141\tvalidation_1-rmse:27696.47656\n",
      "[205]\tvalidation_0-rmse:27867.10156\tvalidation_1-rmse:27698.44727\n",
      "[206]\tvalidation_0-rmse:27863.42773\tvalidation_1-rmse:27689.38867\n",
      "[207]\tvalidation_0-rmse:27780.20703\tvalidation_1-rmse:27603.59766\n",
      "[208]\tvalidation_0-rmse:27715.71094\tvalidation_1-rmse:27529.34766\n",
      "[209]\tvalidation_0-rmse:27680.39258\tvalidation_1-rmse:27476.82031\n",
      "[210]\tvalidation_0-rmse:27674.54688\tvalidation_1-rmse:27481.06836\n",
      "[211]\tvalidation_0-rmse:27655.28906\tvalidation_1-rmse:27418.55664\n",
      "[212]\tvalidation_0-rmse:27653.10547\tvalidation_1-rmse:27425.42578\n",
      "[213]\tvalidation_0-rmse:27610.45703\tvalidation_1-rmse:27392.84766\n",
      "[214]\tvalidation_0-rmse:27580.14844\tvalidation_1-rmse:27343.34766\n",
      "[215]\tvalidation_0-rmse:27569.16211\tvalidation_1-rmse:27333.23438\n",
      "[216]\tvalidation_0-rmse:27529.64844\tvalidation_1-rmse:27323.53906\n",
      "[217]\tvalidation_0-rmse:27434.07422\tvalidation_1-rmse:27233.52344\n",
      "[218]\tvalidation_0-rmse:27440.57227\tvalidation_1-rmse:27247.54492\n",
      "[219]\tvalidation_0-rmse:27427.42773\tvalidation_1-rmse:27186.08984\n",
      "[220]\tvalidation_0-rmse:27416.75195\tvalidation_1-rmse:27162.38672\n",
      "[221]\tvalidation_0-rmse:27378.13086\tvalidation_1-rmse:27152.53320\n",
      "[222]\tvalidation_0-rmse:27375.91406\tvalidation_1-rmse:27141.83398\n",
      "[223]\tvalidation_0-rmse:27364.29102\tvalidation_1-rmse:27130.31445\n",
      "[224]\tvalidation_0-rmse:27362.72070\tvalidation_1-rmse:27125.57422\n",
      "[225]\tvalidation_0-rmse:27359.35156\tvalidation_1-rmse:27122.28906\n",
      "[226]\tvalidation_0-rmse:27322.23438\tvalidation_1-rmse:27081.47461\n",
      "[227]\tvalidation_0-rmse:27253.92969\tvalidation_1-rmse:27011.30469\n",
      "[228]\tvalidation_0-rmse:27246.57617\tvalidation_1-rmse:27002.66406\n",
      "[229]\tvalidation_0-rmse:27214.10547\tvalidation_1-rmse:27006.02539\n",
      "[230]\tvalidation_0-rmse:27210.26953\tvalidation_1-rmse:27000.39062\n",
      "[231]\tvalidation_0-rmse:27178.47266\tvalidation_1-rmse:26947.13477\n",
      "[232]\tvalidation_0-rmse:27168.87305\tvalidation_1-rmse:26935.61914\n",
      "[233]\tvalidation_0-rmse:27113.64844\tvalidation_1-rmse:26908.77148\n",
      "[234]\tvalidation_0-rmse:27107.81250\tvalidation_1-rmse:26896.16211\n",
      "[235]\tvalidation_0-rmse:27077.47852\tvalidation_1-rmse:26849.73438\n",
      "[236]\tvalidation_0-rmse:27052.33594\tvalidation_1-rmse:26807.05273\n",
      "[237]\tvalidation_0-rmse:27040.18555\tvalidation_1-rmse:26803.05664\n",
      "[238]\tvalidation_0-rmse:27039.97656\tvalidation_1-rmse:26815.61133\n",
      "[239]\tvalidation_0-rmse:27029.81055\tvalidation_1-rmse:26805.52734\n",
      "[240]\tvalidation_0-rmse:27023.11719\tvalidation_1-rmse:26818.48047\n",
      "[241]\tvalidation_0-rmse:26982.33008\tvalidation_1-rmse:26808.94727\n",
      "[242]\tvalidation_0-rmse:26945.77148\tvalidation_1-rmse:26776.75977\n",
      "[243]\tvalidation_0-rmse:26929.78320\tvalidation_1-rmse:26714.96094\n",
      "[244]\tvalidation_0-rmse:26919.84180\tvalidation_1-rmse:26697.66211\n",
      "[245]\tvalidation_0-rmse:26895.71484\tvalidation_1-rmse:26656.36133\n",
      "[246]\tvalidation_0-rmse:26874.94336\tvalidation_1-rmse:26631.34961\n",
      "[247]\tvalidation_0-rmse:26879.56055\tvalidation_1-rmse:26628.86523\n",
      "[248]\tvalidation_0-rmse:26875.78320\tvalidation_1-rmse:26628.79102\n",
      "[249]\tvalidation_0-rmse:26889.19922\tvalidation_1-rmse:26619.61133\n",
      "[250]\tvalidation_0-rmse:26885.84180\tvalidation_1-rmse:26623.89453\n",
      "[251]\tvalidation_0-rmse:26857.15625\tvalidation_1-rmse:26586.13672\n",
      "[252]\tvalidation_0-rmse:26847.37305\tvalidation_1-rmse:26547.83398\n",
      "[253]\tvalidation_0-rmse:26820.68359\tvalidation_1-rmse:26515.48633\n",
      "[254]\tvalidation_0-rmse:26814.58594\tvalidation_1-rmse:26493.91992\n",
      "[255]\tvalidation_0-rmse:26810.80664\tvalidation_1-rmse:26488.47266\n",
      "[256]\tvalidation_0-rmse:26753.97852\tvalidation_1-rmse:26438.90820\n",
      "[257]\tvalidation_0-rmse:26742.47852\tvalidation_1-rmse:26410.09961\n",
      "[258]\tvalidation_0-rmse:26715.23242\tvalidation_1-rmse:26411.38477\n",
      "[259]\tvalidation_0-rmse:26698.33594\tvalidation_1-rmse:26398.06836\n",
      "[260]\tvalidation_0-rmse:26638.00781\tvalidation_1-rmse:26344.29688\n",
      "[261]\tvalidation_0-rmse:26632.47266\tvalidation_1-rmse:26347.79492\n",
      "[262]\tvalidation_0-rmse:26628.24805\tvalidation_1-rmse:26321.33008\n",
      "[263]\tvalidation_0-rmse:26621.60938\tvalidation_1-rmse:26297.48047\n",
      "[264]\tvalidation_0-rmse:26609.57617\tvalidation_1-rmse:26293.84766\n",
      "[265]\tvalidation_0-rmse:26601.18555\tvalidation_1-rmse:26282.55664\n",
      "[266]\tvalidation_0-rmse:26589.19141\tvalidation_1-rmse:26248.25000\n",
      "[267]\tvalidation_0-rmse:26553.37695\tvalidation_1-rmse:26196.87109\n",
      "[268]\tvalidation_0-rmse:26551.35352\tvalidation_1-rmse:26176.46484\n",
      "[269]\tvalidation_0-rmse:26548.76562\tvalidation_1-rmse:26188.27930\n",
      "[270]\tvalidation_0-rmse:26493.77344\tvalidation_1-rmse:26121.82617\n",
      "[271]\tvalidation_0-rmse:26456.22070\tvalidation_1-rmse:26095.30664\n",
      "[272]\tvalidation_0-rmse:26440.20508\tvalidation_1-rmse:26043.53320\n",
      "[273]\tvalidation_0-rmse:26427.37891\tvalidation_1-rmse:26005.37695\n",
      "[274]\tvalidation_0-rmse:26389.76562\tvalidation_1-rmse:25970.50195\n",
      "[275]\tvalidation_0-rmse:26355.35352\tvalidation_1-rmse:25964.50781\n",
      "[276]\tvalidation_0-rmse:26347.28516\tvalidation_1-rmse:25919.73047\n",
      "[277]\tvalidation_0-rmse:26348.34766\tvalidation_1-rmse:25924.26562\n",
      "[278]\tvalidation_0-rmse:26336.28516\tvalidation_1-rmse:25902.99023\n",
      "[279]\tvalidation_0-rmse:26317.69531\tvalidation_1-rmse:25890.89453\n",
      "[280]\tvalidation_0-rmse:26300.09375\tvalidation_1-rmse:25868.53125\n",
      "[281]\tvalidation_0-rmse:26279.31445\tvalidation_1-rmse:25842.29297\n",
      "[282]\tvalidation_0-rmse:26239.87891\tvalidation_1-rmse:25798.85547\n",
      "[283]\tvalidation_0-rmse:26227.53516\tvalidation_1-rmse:25787.57422\n",
      "[284]\tvalidation_0-rmse:26226.19336\tvalidation_1-rmse:25773.30273\n",
      "[285]\tvalidation_0-rmse:26225.33984\tvalidation_1-rmse:25769.65039\n",
      "[286]\tvalidation_0-rmse:26197.70508\tvalidation_1-rmse:25718.22266\n",
      "[287]\tvalidation_0-rmse:26199.35352\tvalidation_1-rmse:25722.41016\n",
      "[288]\tvalidation_0-rmse:26184.85352\tvalidation_1-rmse:25691.89258\n",
      "[289]\tvalidation_0-rmse:26184.02148\tvalidation_1-rmse:25684.41406\n",
      "[290]\tvalidation_0-rmse:26123.49414\tvalidation_1-rmse:25616.04688\n",
      "[291]\tvalidation_0-rmse:26089.78516\tvalidation_1-rmse:25571.19727\n",
      "[292]\tvalidation_0-rmse:26043.61133\tvalidation_1-rmse:25546.45898\n",
      "[293]\tvalidation_0-rmse:26034.26758\tvalidation_1-rmse:25526.47461\n",
      "[294]\tvalidation_0-rmse:26027.25195\tvalidation_1-rmse:25506.30664\n",
      "[295]\tvalidation_0-rmse:25999.58984\tvalidation_1-rmse:25463.95898\n",
      "[296]\tvalidation_0-rmse:25970.54297\tvalidation_1-rmse:25454.30078\n",
      "[297]\tvalidation_0-rmse:25963.68555\tvalidation_1-rmse:25440.51172\n",
      "[298]\tvalidation_0-rmse:25918.06445\tvalidation_1-rmse:25383.55664\n",
      "[299]\tvalidation_0-rmse:25911.98242\tvalidation_1-rmse:25388.90430\n",
      "[300]\tvalidation_0-rmse:25915.20898\tvalidation_1-rmse:25389.69141\n",
      "[301]\tvalidation_0-rmse:25911.85352\tvalidation_1-rmse:25380.10938\n",
      "[302]\tvalidation_0-rmse:25899.27930\tvalidation_1-rmse:25364.04102\n",
      "[303]\tvalidation_0-rmse:25874.68945\tvalidation_1-rmse:25363.44922\n",
      "[304]\tvalidation_0-rmse:25871.74414\tvalidation_1-rmse:25348.49219\n",
      "[305]\tvalidation_0-rmse:25869.50586\tvalidation_1-rmse:25344.24414\n",
      "[306]\tvalidation_0-rmse:25852.36914\tvalidation_1-rmse:25304.36328\n",
      "[307]\tvalidation_0-rmse:25841.77930\tvalidation_1-rmse:25317.09961\n",
      "[308]\tvalidation_0-rmse:25771.39258\tvalidation_1-rmse:25212.62891\n",
      "[309]\tvalidation_0-rmse:25753.09961\tvalidation_1-rmse:25177.41016\n",
      "[310]\tvalidation_0-rmse:25749.64453\tvalidation_1-rmse:25164.59766\n",
      "[311]\tvalidation_0-rmse:25729.01758\tvalidation_1-rmse:25162.16016\n",
      "[312]\tvalidation_0-rmse:25705.71094\tvalidation_1-rmse:25133.74414\n",
      "[313]\tvalidation_0-rmse:25706.21484\tvalidation_1-rmse:25102.40625\n",
      "[314]\tvalidation_0-rmse:25677.70312\tvalidation_1-rmse:25069.99023\n",
      "[315]\tvalidation_0-rmse:25620.33203\tvalidation_1-rmse:24993.96680\n",
      "[316]\tvalidation_0-rmse:25619.80664\tvalidation_1-rmse:24988.28320\n",
      "[317]\tvalidation_0-rmse:25604.22461\tvalidation_1-rmse:24961.06055\n",
      "[318]\tvalidation_0-rmse:25587.43164\tvalidation_1-rmse:24990.31836\n",
      "[319]\tvalidation_0-rmse:25571.92578\tvalidation_1-rmse:24976.07227\n",
      "[320]\tvalidation_0-rmse:25564.89648\tvalidation_1-rmse:24983.98047\n",
      "[321]\tvalidation_0-rmse:25565.40234\tvalidation_1-rmse:24983.54102\n",
      "[322]\tvalidation_0-rmse:25547.89258\tvalidation_1-rmse:24969.17188\n",
      "[323]\tvalidation_0-rmse:25520.29492\tvalidation_1-rmse:24960.81445\n",
      "[324]\tvalidation_0-rmse:25499.08789\tvalidation_1-rmse:24923.57617\n",
      "[325]\tvalidation_0-rmse:25494.86914\tvalidation_1-rmse:24913.93555\n",
      "[326]\tvalidation_0-rmse:25473.48438\tvalidation_1-rmse:24890.16602\n",
      "[327]\tvalidation_0-rmse:25459.91992\tvalidation_1-rmse:24865.71680\n",
      "[328]\tvalidation_0-rmse:25434.09180\tvalidation_1-rmse:24837.47656\n",
      "[329]\tvalidation_0-rmse:25411.75977\tvalidation_1-rmse:24800.38867\n",
      "[330]\tvalidation_0-rmse:25416.59766\tvalidation_1-rmse:24780.99414\n",
      "[331]\tvalidation_0-rmse:25410.42773\tvalidation_1-rmse:24774.40039\n",
      "[332]\tvalidation_0-rmse:25409.12891\tvalidation_1-rmse:24763.12305\n",
      "[333]\tvalidation_0-rmse:25407.29883\tvalidation_1-rmse:24759.91406\n",
      "[334]\tvalidation_0-rmse:25380.53711\tvalidation_1-rmse:24725.70898\n",
      "[335]\tvalidation_0-rmse:25378.65625\tvalidation_1-rmse:24712.34375\n",
      "[336]\tvalidation_0-rmse:25355.08008\tvalidation_1-rmse:24678.99609\n",
      "[337]\tvalidation_0-rmse:25343.55469\tvalidation_1-rmse:24631.49805\n",
      "[338]\tvalidation_0-rmse:25344.04297\tvalidation_1-rmse:24634.96094\n",
      "[339]\tvalidation_0-rmse:25343.95703\tvalidation_1-rmse:24634.68555\n",
      "[340]\tvalidation_0-rmse:25317.93359\tvalidation_1-rmse:24603.79883\n",
      "[341]\tvalidation_0-rmse:25306.74219\tvalidation_1-rmse:24602.40625\n",
      "[342]\tvalidation_0-rmse:25294.65039\tvalidation_1-rmse:24575.91211\n",
      "[343]\tvalidation_0-rmse:25293.11523\tvalidation_1-rmse:24571.62500\n",
      "[344]\tvalidation_0-rmse:25287.92188\tvalidation_1-rmse:24555.08789\n",
      "[345]\tvalidation_0-rmse:25275.71875\tvalidation_1-rmse:24529.00781\n",
      "[346]\tvalidation_0-rmse:25274.95312\tvalidation_1-rmse:24526.46094\n",
      "[347]\tvalidation_0-rmse:25257.25977\tvalidation_1-rmse:24520.25000\n",
      "[348]\tvalidation_0-rmse:25246.63086\tvalidation_1-rmse:24533.28516\n",
      "[349]\tvalidation_0-rmse:25239.69531\tvalidation_1-rmse:24507.81445\n",
      "[350]\tvalidation_0-rmse:25240.21680\tvalidation_1-rmse:24509.43555\n",
      "[351]\tvalidation_0-rmse:25221.85156\tvalidation_1-rmse:24437.90039\n",
      "[352]\tvalidation_0-rmse:25153.94141\tvalidation_1-rmse:24375.07227\n",
      "[353]\tvalidation_0-rmse:25116.24414\tvalidation_1-rmse:24318.98242\n",
      "[354]\tvalidation_0-rmse:25108.93359\tvalidation_1-rmse:24306.06641\n",
      "[355]\tvalidation_0-rmse:25106.06836\tvalidation_1-rmse:24299.83789\n",
      "[356]\tvalidation_0-rmse:25101.87891\tvalidation_1-rmse:24271.70898\n",
      "[357]\tvalidation_0-rmse:25106.48828\tvalidation_1-rmse:24251.60938\n",
      "[358]\tvalidation_0-rmse:25102.51953\tvalidation_1-rmse:24190.77734\n",
      "[359]\tvalidation_0-rmse:25086.58594\tvalidation_1-rmse:24197.58789\n",
      "[360]\tvalidation_0-rmse:25079.76758\tvalidation_1-rmse:24197.31250\n",
      "[361]\tvalidation_0-rmse:25076.89453\tvalidation_1-rmse:24173.26562\n",
      "[362]\tvalidation_0-rmse:25072.93945\tvalidation_1-rmse:24175.57227\n",
      "[363]\tvalidation_0-rmse:25062.55273\tvalidation_1-rmse:24156.73047\n",
      "[364]\tvalidation_0-rmse:25062.55859\tvalidation_1-rmse:24156.50781\n",
      "[365]\tvalidation_0-rmse:25064.40430\tvalidation_1-rmse:24156.09570\n",
      "[366]\tvalidation_0-rmse:25038.46484\tvalidation_1-rmse:24126.55664\n",
      "[367]\tvalidation_0-rmse:25027.96875\tvalidation_1-rmse:24114.12695\n",
      "[368]\tvalidation_0-rmse:25011.35156\tvalidation_1-rmse:24089.33789\n",
      "[369]\tvalidation_0-rmse:25001.41211\tvalidation_1-rmse:24105.67188\n",
      "[370]\tvalidation_0-rmse:24975.04297\tvalidation_1-rmse:24105.86328\n",
      "[371]\tvalidation_0-rmse:24974.31055\tvalidation_1-rmse:24104.69336\n",
      "[372]\tvalidation_0-rmse:24974.55273\tvalidation_1-rmse:24105.36523\n",
      "[373]\tvalidation_0-rmse:24959.22266\tvalidation_1-rmse:24084.04297\n",
      "[374]\tvalidation_0-rmse:24933.66211\tvalidation_1-rmse:24026.15820\n",
      "[375]\tvalidation_0-rmse:24905.05664\tvalidation_1-rmse:23989.43750\n",
      "[376]\tvalidation_0-rmse:24891.21094\tvalidation_1-rmse:23997.06836\n",
      "[377]\tvalidation_0-rmse:24864.23633\tvalidation_1-rmse:24000.02148\n",
      "[378]\tvalidation_0-rmse:24864.39258\tvalidation_1-rmse:24000.74219\n",
      "[379]\tvalidation_0-rmse:24864.82812\tvalidation_1-rmse:24002.06445\n",
      "[380]\tvalidation_0-rmse:24850.30078\tvalidation_1-rmse:23938.97656\n",
      "[381]\tvalidation_0-rmse:24833.73242\tvalidation_1-rmse:23929.17188\n",
      "[382]\tvalidation_0-rmse:24800.81445\tvalidation_1-rmse:23872.43164\n",
      "[383]\tvalidation_0-rmse:24801.14648\tvalidation_1-rmse:23876.20117\n",
      "[384]\tvalidation_0-rmse:24802.13867\tvalidation_1-rmse:23878.51953\n",
      "[385]\tvalidation_0-rmse:24802.03516\tvalidation_1-rmse:23878.29883\n",
      "[386]\tvalidation_0-rmse:24763.29102\tvalidation_1-rmse:23827.86133\n",
      "[387]\tvalidation_0-rmse:24738.76758\tvalidation_1-rmse:23813.41797\n",
      "[388]\tvalidation_0-rmse:24721.37695\tvalidation_1-rmse:23804.23242\n",
      "[389]\tvalidation_0-rmse:24698.74805\tvalidation_1-rmse:23776.03125\n",
      "[390]\tvalidation_0-rmse:24682.64258\tvalidation_1-rmse:23750.00195\n",
      "[391]\tvalidation_0-rmse:24679.52539\tvalidation_1-rmse:23743.57031\n",
      "[392]\tvalidation_0-rmse:24660.99609\tvalidation_1-rmse:23710.33398\n",
      "[393]\tvalidation_0-rmse:24628.08008\tvalidation_1-rmse:23695.94727\n",
      "[394]\tvalidation_0-rmse:24628.01172\tvalidation_1-rmse:23696.48242\n",
      "[395]\tvalidation_0-rmse:24630.44922\tvalidation_1-rmse:23696.26953\n",
      "[396]\tvalidation_0-rmse:24631.53711\tvalidation_1-rmse:23692.65820\n",
      "[397]\tvalidation_0-rmse:24619.25391\tvalidation_1-rmse:23675.73828\n",
      "[398]\tvalidation_0-rmse:24618.05664\tvalidation_1-rmse:23676.32617\n",
      "[399]\tvalidation_0-rmse:24605.27344\tvalidation_1-rmse:23649.16016\n",
      "[400]\tvalidation_0-rmse:24589.59961\tvalidation_1-rmse:23620.47266\n",
      "[401]\tvalidation_0-rmse:24589.27539\tvalidation_1-rmse:23620.63281\n",
      "[402]\tvalidation_0-rmse:24563.28125\tvalidation_1-rmse:23592.92773\n",
      "[403]\tvalidation_0-rmse:24549.27734\tvalidation_1-rmse:23592.39648\n",
      "[404]\tvalidation_0-rmse:24513.44922\tvalidation_1-rmse:23548.21094\n",
      "[405]\tvalidation_0-rmse:24492.09375\tvalidation_1-rmse:23515.15234\n",
      "[406]\tvalidation_0-rmse:24485.40625\tvalidation_1-rmse:23514.06250\n",
      "[407]\tvalidation_0-rmse:24483.88477\tvalidation_1-rmse:23517.53516\n",
      "[408]\tvalidation_0-rmse:24476.81055\tvalidation_1-rmse:23519.16406\n",
      "[409]\tvalidation_0-rmse:24470.39062\tvalidation_1-rmse:23511.79297\n",
      "[410]\tvalidation_0-rmse:24455.05273\tvalidation_1-rmse:23482.24805\n",
      "[411]\tvalidation_0-rmse:24455.84961\tvalidation_1-rmse:23488.79883\n",
      "[412]\tvalidation_0-rmse:24449.65234\tvalidation_1-rmse:23490.87109\n",
      "[413]\tvalidation_0-rmse:24414.52539\tvalidation_1-rmse:23464.44531\n",
      "[414]\tvalidation_0-rmse:24411.55664\tvalidation_1-rmse:23459.42188\n",
      "[415]\tvalidation_0-rmse:24394.98633\tvalidation_1-rmse:23413.49023\n",
      "[416]\tvalidation_0-rmse:24374.41602\tvalidation_1-rmse:23400.86719\n",
      "[417]\tvalidation_0-rmse:24366.82227\tvalidation_1-rmse:23410.06836\n",
      "[418]\tvalidation_0-rmse:24357.18555\tvalidation_1-rmse:23408.73633\n",
      "[419]\tvalidation_0-rmse:24344.41602\tvalidation_1-rmse:23390.83008\n",
      "[420]\tvalidation_0-rmse:24344.61133\tvalidation_1-rmse:23386.13086\n",
      "[421]\tvalidation_0-rmse:24329.26562\tvalidation_1-rmse:23385.59180\n",
      "[422]\tvalidation_0-rmse:24330.90430\tvalidation_1-rmse:23388.98047\n",
      "[423]\tvalidation_0-rmse:24299.80664\tvalidation_1-rmse:23380.27930\n",
      "[424]\tvalidation_0-rmse:24276.17188\tvalidation_1-rmse:23357.14453\n",
      "[425]\tvalidation_0-rmse:24238.98047\tvalidation_1-rmse:23304.20117\n",
      "[426]\tvalidation_0-rmse:24237.79492\tvalidation_1-rmse:23275.95898\n",
      "[427]\tvalidation_0-rmse:24227.32812\tvalidation_1-rmse:23251.26953\n",
      "[428]\tvalidation_0-rmse:24200.70703\tvalidation_1-rmse:23236.91602\n",
      "[429]\tvalidation_0-rmse:24188.22461\tvalidation_1-rmse:23257.29102\n",
      "[430]\tvalidation_0-rmse:24154.45508\tvalidation_1-rmse:23187.89844\n",
      "[431]\tvalidation_0-rmse:24153.47266\tvalidation_1-rmse:23188.14844\n",
      "[432]\tvalidation_0-rmse:24152.69141\tvalidation_1-rmse:23186.93750\n",
      "[433]\tvalidation_0-rmse:24155.51953\tvalidation_1-rmse:23165.75000\n",
      "[434]\tvalidation_0-rmse:24140.23633\tvalidation_1-rmse:23162.19922\n",
      "[435]\tvalidation_0-rmse:24134.72461\tvalidation_1-rmse:23155.21094\n",
      "[436]\tvalidation_0-rmse:24123.08594\tvalidation_1-rmse:23126.22852\n",
      "[437]\tvalidation_0-rmse:24130.70898\tvalidation_1-rmse:23092.37109\n",
      "[438]\tvalidation_0-rmse:24130.57227\tvalidation_1-rmse:23088.65039\n",
      "[439]\tvalidation_0-rmse:24127.14648\tvalidation_1-rmse:23084.75195\n",
      "[440]\tvalidation_0-rmse:24121.96680\tvalidation_1-rmse:23068.86719\n",
      "[441]\tvalidation_0-rmse:24091.34961\tvalidation_1-rmse:23071.46289\n",
      "[442]\tvalidation_0-rmse:24086.57227\tvalidation_1-rmse:23041.89062\n",
      "[443]\tvalidation_0-rmse:24085.93945\tvalidation_1-rmse:23026.60938\n",
      "[444]\tvalidation_0-rmse:24088.18945\tvalidation_1-rmse:23017.81836\n",
      "[445]\tvalidation_0-rmse:24070.95703\tvalidation_1-rmse:23048.10352\n",
      "[446]\tvalidation_0-rmse:24033.66992\tvalidation_1-rmse:22993.10938\n",
      "[447]\tvalidation_0-rmse:24026.75781\tvalidation_1-rmse:23001.66016\n",
      "[448]\tvalidation_0-rmse:24013.16211\tvalidation_1-rmse:22958.95898\n",
      "[449]\tvalidation_0-rmse:24013.33789\tvalidation_1-rmse:22959.78906\n",
      "[450]\tvalidation_0-rmse:24004.28711\tvalidation_1-rmse:22955.07812\n",
      "[451]\tvalidation_0-rmse:24015.04492\tvalidation_1-rmse:22924.85938\n",
      "[452]\tvalidation_0-rmse:24002.19141\tvalidation_1-rmse:22903.27148\n",
      "[453]\tvalidation_0-rmse:23938.96680\tvalidation_1-rmse:22842.62695\n",
      "[454]\tvalidation_0-rmse:23937.16406\tvalidation_1-rmse:22837.74609\n",
      "[455]\tvalidation_0-rmse:23924.04102\tvalidation_1-rmse:22847.21484\n",
      "[456]\tvalidation_0-rmse:23942.71875\tvalidation_1-rmse:22816.39258\n",
      "[457]\tvalidation_0-rmse:23895.16406\tvalidation_1-rmse:22805.23242\n",
      "[458]\tvalidation_0-rmse:23866.44922\tvalidation_1-rmse:22752.36133\n",
      "[459]\tvalidation_0-rmse:23844.24609\tvalidation_1-rmse:22712.44922\n",
      "[460]\tvalidation_0-rmse:23837.51758\tvalidation_1-rmse:22715.63672\n",
      "[461]\tvalidation_0-rmse:23828.25391\tvalidation_1-rmse:22695.45508\n",
      "[462]\tvalidation_0-rmse:23807.75195\tvalidation_1-rmse:22655.63086\n",
      "[463]\tvalidation_0-rmse:23807.22266\tvalidation_1-rmse:22655.34961\n",
      "[464]\tvalidation_0-rmse:23804.99023\tvalidation_1-rmse:22657.23633\n",
      "[465]\tvalidation_0-rmse:23800.05469\tvalidation_1-rmse:22650.71289\n",
      "[466]\tvalidation_0-rmse:23778.20898\tvalidation_1-rmse:22607.49219\n",
      "[467]\tvalidation_0-rmse:23745.74023\tvalidation_1-rmse:22579.42383\n",
      "[468]\tvalidation_0-rmse:23743.95117\tvalidation_1-rmse:22543.12695\n",
      "[469]\tvalidation_0-rmse:23743.95508\tvalidation_1-rmse:22542.06445\n",
      "[470]\tvalidation_0-rmse:23735.75391\tvalidation_1-rmse:22524.71484\n",
      "[471]\tvalidation_0-rmse:23735.95117\tvalidation_1-rmse:22525.76758\n",
      "[472]\tvalidation_0-rmse:23713.51562\tvalidation_1-rmse:22534.78320\n",
      "[473]\tvalidation_0-rmse:23705.86523\tvalidation_1-rmse:22501.92383\n",
      "[474]\tvalidation_0-rmse:23700.71484\tvalidation_1-rmse:22477.03516\n",
      "[475]\tvalidation_0-rmse:23660.44922\tvalidation_1-rmse:22425.76953\n",
      "[476]\tvalidation_0-rmse:23623.81836\tvalidation_1-rmse:22381.38086\n",
      "[477]\tvalidation_0-rmse:23623.72461\tvalidation_1-rmse:22379.97852\n",
      "[478]\tvalidation_0-rmse:23620.24414\tvalidation_1-rmse:22370.54102\n",
      "[479]\tvalidation_0-rmse:23622.77734\tvalidation_1-rmse:22374.16211\n",
      "[480]\tvalidation_0-rmse:23600.70703\tvalidation_1-rmse:22357.11328\n",
      "[481]\tvalidation_0-rmse:23575.26758\tvalidation_1-rmse:22343.97656\n",
      "[482]\tvalidation_0-rmse:23554.39648\tvalidation_1-rmse:22352.48438\n",
      "[483]\tvalidation_0-rmse:23561.54102\tvalidation_1-rmse:22341.65039\n",
      "[484]\tvalidation_0-rmse:23557.01953\tvalidation_1-rmse:22313.23047\n"
     ]
    },
    {
     "data": {
      "text/plain": [
       "XGBRegressor(base_score=0.5, booster='gbtree',\n",
       "             colsample_bylevel=0.6014463948460074, colsample_bynode=0,\n",
       "             colsample_bytree=0.5531341118305938, gamma=0.0001691672894500299,\n",
       "             gpu_id=-1, importance_type='gain', interaction_constraints='',\n",
       "             learning_rate=0.5272330669811445, max_delta_step=0, max_depth=40,\n",
       "             min_child_weight=5, missing=nan, monotone_constraints='()',\n",
       "             n_estimators=485, n_jobs=16, num_parallel_tree=1, random_state=0,\n",
       "             reg_alpha=0.00039277629995977816, reg_lambda=604,\n",
       "             scale_pos_weight=487, subsample=0.5370384817264582,\n",
       "             tree_method='exact', validate_parameters=1, verbosity=None)"
      ]
     },
     "execution_count": 92,
     "metadata": {},
     "output_type": "execute_result"
    }
   ],
   "source": [
    "clf.fit(X_2, y_2, eval_set = [(X_train2, y_train2), (X_val2, y_val2)], early_stopping_rounds = 30, verbose = True)"
   ]
  },
  {
   "cell_type": "code",
   "execution_count": 93,
   "metadata": {},
   "outputs": [],
   "source": [
    "test_house = pd.read_csv('test.csv', index_col='Id')"
   ]
  },
  {
   "cell_type": "code",
   "execution_count": 94,
   "metadata": {},
   "outputs": [
    {
     "data": {
      "text/html": [
       "<div>\n",
       "<style scoped>\n",
       "    .dataframe tbody tr th:only-of-type {\n",
       "        vertical-align: middle;\n",
       "    }\n",
       "\n",
       "    .dataframe tbody tr th {\n",
       "        vertical-align: top;\n",
       "    }\n",
       "\n",
       "    .dataframe thead th {\n",
       "        text-align: right;\n",
       "    }\n",
       "</style>\n",
       "<table border=\"1\" class=\"dataframe\">\n",
       "  <thead>\n",
       "    <tr style=\"text-align: right;\">\n",
       "      <th></th>\n",
       "      <th>MSSubClass</th>\n",
       "      <th>MSZoning</th>\n",
       "      <th>LotFrontage</th>\n",
       "      <th>LotArea</th>\n",
       "      <th>Street</th>\n",
       "      <th>Alley</th>\n",
       "      <th>LotShape</th>\n",
       "      <th>LandContour</th>\n",
       "      <th>Utilities</th>\n",
       "      <th>LotConfig</th>\n",
       "      <th>...</th>\n",
       "      <th>ScreenPorch</th>\n",
       "      <th>PoolArea</th>\n",
       "      <th>PoolQC</th>\n",
       "      <th>Fence</th>\n",
       "      <th>MiscFeature</th>\n",
       "      <th>MiscVal</th>\n",
       "      <th>MoSold</th>\n",
       "      <th>YrSold</th>\n",
       "      <th>SaleType</th>\n",
       "      <th>SaleCondition</th>\n",
       "    </tr>\n",
       "    <tr>\n",
       "      <th>Id</th>\n",
       "      <th></th>\n",
       "      <th></th>\n",
       "      <th></th>\n",
       "      <th></th>\n",
       "      <th></th>\n",
       "      <th></th>\n",
       "      <th></th>\n",
       "      <th></th>\n",
       "      <th></th>\n",
       "      <th></th>\n",
       "      <th></th>\n",
       "      <th></th>\n",
       "      <th></th>\n",
       "      <th></th>\n",
       "      <th></th>\n",
       "      <th></th>\n",
       "      <th></th>\n",
       "      <th></th>\n",
       "      <th></th>\n",
       "      <th></th>\n",
       "      <th></th>\n",
       "    </tr>\n",
       "  </thead>\n",
       "  <tbody>\n",
       "    <tr>\n",
       "      <th>1461</th>\n",
       "      <td>20</td>\n",
       "      <td>RH</td>\n",
       "      <td>80.0</td>\n",
       "      <td>11622</td>\n",
       "      <td>Pave</td>\n",
       "      <td>NaN</td>\n",
       "      <td>Reg</td>\n",
       "      <td>Lvl</td>\n",
       "      <td>AllPub</td>\n",
       "      <td>Inside</td>\n",
       "      <td>...</td>\n",
       "      <td>120</td>\n",
       "      <td>0</td>\n",
       "      <td>NaN</td>\n",
       "      <td>MnPrv</td>\n",
       "      <td>NaN</td>\n",
       "      <td>0</td>\n",
       "      <td>6</td>\n",
       "      <td>2010</td>\n",
       "      <td>WD</td>\n",
       "      <td>Normal</td>\n",
       "    </tr>\n",
       "    <tr>\n",
       "      <th>1462</th>\n",
       "      <td>20</td>\n",
       "      <td>RL</td>\n",
       "      <td>81.0</td>\n",
       "      <td>14267</td>\n",
       "      <td>Pave</td>\n",
       "      <td>NaN</td>\n",
       "      <td>IR1</td>\n",
       "      <td>Lvl</td>\n",
       "      <td>AllPub</td>\n",
       "      <td>Corner</td>\n",
       "      <td>...</td>\n",
       "      <td>0</td>\n",
       "      <td>0</td>\n",
       "      <td>NaN</td>\n",
       "      <td>NaN</td>\n",
       "      <td>Gar2</td>\n",
       "      <td>12500</td>\n",
       "      <td>6</td>\n",
       "      <td>2010</td>\n",
       "      <td>WD</td>\n",
       "      <td>Normal</td>\n",
       "    </tr>\n",
       "    <tr>\n",
       "      <th>1463</th>\n",
       "      <td>60</td>\n",
       "      <td>RL</td>\n",
       "      <td>74.0</td>\n",
       "      <td>13830</td>\n",
       "      <td>Pave</td>\n",
       "      <td>NaN</td>\n",
       "      <td>IR1</td>\n",
       "      <td>Lvl</td>\n",
       "      <td>AllPub</td>\n",
       "      <td>Inside</td>\n",
       "      <td>...</td>\n",
       "      <td>0</td>\n",
       "      <td>0</td>\n",
       "      <td>NaN</td>\n",
       "      <td>MnPrv</td>\n",
       "      <td>NaN</td>\n",
       "      <td>0</td>\n",
       "      <td>3</td>\n",
       "      <td>2010</td>\n",
       "      <td>WD</td>\n",
       "      <td>Normal</td>\n",
       "    </tr>\n",
       "    <tr>\n",
       "      <th>1464</th>\n",
       "      <td>60</td>\n",
       "      <td>RL</td>\n",
       "      <td>78.0</td>\n",
       "      <td>9978</td>\n",
       "      <td>Pave</td>\n",
       "      <td>NaN</td>\n",
       "      <td>IR1</td>\n",
       "      <td>Lvl</td>\n",
       "      <td>AllPub</td>\n",
       "      <td>Inside</td>\n",
       "      <td>...</td>\n",
       "      <td>0</td>\n",
       "      <td>0</td>\n",
       "      <td>NaN</td>\n",
       "      <td>NaN</td>\n",
       "      <td>NaN</td>\n",
       "      <td>0</td>\n",
       "      <td>6</td>\n",
       "      <td>2010</td>\n",
       "      <td>WD</td>\n",
       "      <td>Normal</td>\n",
       "    </tr>\n",
       "    <tr>\n",
       "      <th>1465</th>\n",
       "      <td>120</td>\n",
       "      <td>RL</td>\n",
       "      <td>43.0</td>\n",
       "      <td>5005</td>\n",
       "      <td>Pave</td>\n",
       "      <td>NaN</td>\n",
       "      <td>IR1</td>\n",
       "      <td>HLS</td>\n",
       "      <td>AllPub</td>\n",
       "      <td>Inside</td>\n",
       "      <td>...</td>\n",
       "      <td>144</td>\n",
       "      <td>0</td>\n",
       "      <td>NaN</td>\n",
       "      <td>NaN</td>\n",
       "      <td>NaN</td>\n",
       "      <td>0</td>\n",
       "      <td>1</td>\n",
       "      <td>2010</td>\n",
       "      <td>WD</td>\n",
       "      <td>Normal</td>\n",
       "    </tr>\n",
       "    <tr>\n",
       "      <th>...</th>\n",
       "      <td>...</td>\n",
       "      <td>...</td>\n",
       "      <td>...</td>\n",
       "      <td>...</td>\n",
       "      <td>...</td>\n",
       "      <td>...</td>\n",
       "      <td>...</td>\n",
       "      <td>...</td>\n",
       "      <td>...</td>\n",
       "      <td>...</td>\n",
       "      <td>...</td>\n",
       "      <td>...</td>\n",
       "      <td>...</td>\n",
       "      <td>...</td>\n",
       "      <td>...</td>\n",
       "      <td>...</td>\n",
       "      <td>...</td>\n",
       "      <td>...</td>\n",
       "      <td>...</td>\n",
       "      <td>...</td>\n",
       "      <td>...</td>\n",
       "    </tr>\n",
       "    <tr>\n",
       "      <th>2915</th>\n",
       "      <td>160</td>\n",
       "      <td>RM</td>\n",
       "      <td>21.0</td>\n",
       "      <td>1936</td>\n",
       "      <td>Pave</td>\n",
       "      <td>NaN</td>\n",
       "      <td>Reg</td>\n",
       "      <td>Lvl</td>\n",
       "      <td>AllPub</td>\n",
       "      <td>Inside</td>\n",
       "      <td>...</td>\n",
       "      <td>0</td>\n",
       "      <td>0</td>\n",
       "      <td>NaN</td>\n",
       "      <td>NaN</td>\n",
       "      <td>NaN</td>\n",
       "      <td>0</td>\n",
       "      <td>6</td>\n",
       "      <td>2006</td>\n",
       "      <td>WD</td>\n",
       "      <td>Normal</td>\n",
       "    </tr>\n",
       "    <tr>\n",
       "      <th>2916</th>\n",
       "      <td>160</td>\n",
       "      <td>RM</td>\n",
       "      <td>21.0</td>\n",
       "      <td>1894</td>\n",
       "      <td>Pave</td>\n",
       "      <td>NaN</td>\n",
       "      <td>Reg</td>\n",
       "      <td>Lvl</td>\n",
       "      <td>AllPub</td>\n",
       "      <td>Inside</td>\n",
       "      <td>...</td>\n",
       "      <td>0</td>\n",
       "      <td>0</td>\n",
       "      <td>NaN</td>\n",
       "      <td>NaN</td>\n",
       "      <td>NaN</td>\n",
       "      <td>0</td>\n",
       "      <td>4</td>\n",
       "      <td>2006</td>\n",
       "      <td>WD</td>\n",
       "      <td>Abnorml</td>\n",
       "    </tr>\n",
       "    <tr>\n",
       "      <th>2917</th>\n",
       "      <td>20</td>\n",
       "      <td>RL</td>\n",
       "      <td>160.0</td>\n",
       "      <td>20000</td>\n",
       "      <td>Pave</td>\n",
       "      <td>NaN</td>\n",
       "      <td>Reg</td>\n",
       "      <td>Lvl</td>\n",
       "      <td>AllPub</td>\n",
       "      <td>Inside</td>\n",
       "      <td>...</td>\n",
       "      <td>0</td>\n",
       "      <td>0</td>\n",
       "      <td>NaN</td>\n",
       "      <td>NaN</td>\n",
       "      <td>NaN</td>\n",
       "      <td>0</td>\n",
       "      <td>9</td>\n",
       "      <td>2006</td>\n",
       "      <td>WD</td>\n",
       "      <td>Abnorml</td>\n",
       "    </tr>\n",
       "    <tr>\n",
       "      <th>2918</th>\n",
       "      <td>85</td>\n",
       "      <td>RL</td>\n",
       "      <td>62.0</td>\n",
       "      <td>10441</td>\n",
       "      <td>Pave</td>\n",
       "      <td>NaN</td>\n",
       "      <td>Reg</td>\n",
       "      <td>Lvl</td>\n",
       "      <td>AllPub</td>\n",
       "      <td>Inside</td>\n",
       "      <td>...</td>\n",
       "      <td>0</td>\n",
       "      <td>0</td>\n",
       "      <td>NaN</td>\n",
       "      <td>MnPrv</td>\n",
       "      <td>Shed</td>\n",
       "      <td>700</td>\n",
       "      <td>7</td>\n",
       "      <td>2006</td>\n",
       "      <td>WD</td>\n",
       "      <td>Normal</td>\n",
       "    </tr>\n",
       "    <tr>\n",
       "      <th>2919</th>\n",
       "      <td>60</td>\n",
       "      <td>RL</td>\n",
       "      <td>74.0</td>\n",
       "      <td>9627</td>\n",
       "      <td>Pave</td>\n",
       "      <td>NaN</td>\n",
       "      <td>Reg</td>\n",
       "      <td>Lvl</td>\n",
       "      <td>AllPub</td>\n",
       "      <td>Inside</td>\n",
       "      <td>...</td>\n",
       "      <td>0</td>\n",
       "      <td>0</td>\n",
       "      <td>NaN</td>\n",
       "      <td>NaN</td>\n",
       "      <td>NaN</td>\n",
       "      <td>0</td>\n",
       "      <td>11</td>\n",
       "      <td>2006</td>\n",
       "      <td>WD</td>\n",
       "      <td>Normal</td>\n",
       "    </tr>\n",
       "  </tbody>\n",
       "</table>\n",
       "<p>1459 rows × 79 columns</p>\n",
       "</div>"
      ],
      "text/plain": [
       "      MSSubClass MSZoning  LotFrontage  LotArea Street Alley LotShape  \\\n",
       "Id                                                                      \n",
       "1461          20       RH         80.0    11622   Pave   NaN      Reg   \n",
       "1462          20       RL         81.0    14267   Pave   NaN      IR1   \n",
       "1463          60       RL         74.0    13830   Pave   NaN      IR1   \n",
       "1464          60       RL         78.0     9978   Pave   NaN      IR1   \n",
       "1465         120       RL         43.0     5005   Pave   NaN      IR1   \n",
       "...          ...      ...          ...      ...    ...   ...      ...   \n",
       "2915         160       RM         21.0     1936   Pave   NaN      Reg   \n",
       "2916         160       RM         21.0     1894   Pave   NaN      Reg   \n",
       "2917          20       RL        160.0    20000   Pave   NaN      Reg   \n",
       "2918          85       RL         62.0    10441   Pave   NaN      Reg   \n",
       "2919          60       RL         74.0     9627   Pave   NaN      Reg   \n",
       "\n",
       "     LandContour Utilities LotConfig  ... ScreenPorch PoolArea PoolQC  Fence  \\\n",
       "Id                                    ...                                      \n",
       "1461         Lvl    AllPub    Inside  ...         120        0    NaN  MnPrv   \n",
       "1462         Lvl    AllPub    Corner  ...           0        0    NaN    NaN   \n",
       "1463         Lvl    AllPub    Inside  ...           0        0    NaN  MnPrv   \n",
       "1464         Lvl    AllPub    Inside  ...           0        0    NaN    NaN   \n",
       "1465         HLS    AllPub    Inside  ...         144        0    NaN    NaN   \n",
       "...          ...       ...       ...  ...         ...      ...    ...    ...   \n",
       "2915         Lvl    AllPub    Inside  ...           0        0    NaN    NaN   \n",
       "2916         Lvl    AllPub    Inside  ...           0        0    NaN    NaN   \n",
       "2917         Lvl    AllPub    Inside  ...           0        0    NaN    NaN   \n",
       "2918         Lvl    AllPub    Inside  ...           0        0    NaN  MnPrv   \n",
       "2919         Lvl    AllPub    Inside  ...           0        0    NaN    NaN   \n",
       "\n",
       "     MiscFeature MiscVal  MoSold  YrSold  SaleType  SaleCondition  \n",
       "Id                                                                 \n",
       "1461         NaN       0       6    2010        WD         Normal  \n",
       "1462        Gar2   12500       6    2010        WD         Normal  \n",
       "1463         NaN       0       3    2010        WD         Normal  \n",
       "1464         NaN       0       6    2010        WD         Normal  \n",
       "1465         NaN       0       1    2010        WD         Normal  \n",
       "...          ...     ...     ...     ...       ...            ...  \n",
       "2915         NaN       0       6    2006        WD         Normal  \n",
       "2916         NaN       0       4    2006        WD        Abnorml  \n",
       "2917         NaN       0       9    2006        WD        Abnorml  \n",
       "2918        Shed     700       7    2006        WD         Normal  \n",
       "2919         NaN       0      11    2006        WD         Normal  \n",
       "\n",
       "[1459 rows x 79 columns]"
      ]
     },
     "execution_count": 94,
     "metadata": {},
     "output_type": "execute_result"
    }
   ],
   "source": [
    "test_house"
   ]
  },
  {
   "cell_type": "code",
   "execution_count": 95,
   "metadata": {},
   "outputs": [],
   "source": [
    "X_test = preprocessing1(test_house)"
   ]
  },
  {
   "cell_type": "code",
   "execution_count": 98,
   "metadata": {},
   "outputs": [],
   "source": [
    "SalePrice = clf.predict(X_test.loc[:,[x for x in X_test.columns if x in train_2.columns]])"
   ]
  },
  {
   "cell_type": "code",
   "execution_count": 99,
   "metadata": {},
   "outputs": [],
   "source": [
    "sub = pd.DataFrame({'Id' : X_test.index, 'SalePrice' : SalePrice})"
   ]
  },
  {
   "cell_type": "code",
   "execution_count": 100,
   "metadata": {},
   "outputs": [],
   "source": [
    "sub.to_csv('submit.csv', index = False)"
   ]
  },
  {
   "cell_type": "markdown",
   "metadata": {},
   "source": [
    "result  \n",
    "score : 0.14131  \n",
    "rank : 6515/13425  "
   ]
  }
 ],
 "metadata": {
  "kernelspec": {
   "display_name": "Python 3",
   "language": "python",
   "name": "python3"
  },
  "language_info": {
   "codemirror_mode": {
    "name": "ipython",
    "version": 3
   },
   "file_extension": ".py",
   "mimetype": "text/x-python",
   "name": "python",
   "nbconvert_exporter": "python",
   "pygments_lexer": "ipython3",
   "version": "3.8.5"
  }
 },
 "nbformat": 4,
 "nbformat_minor": 4
}
