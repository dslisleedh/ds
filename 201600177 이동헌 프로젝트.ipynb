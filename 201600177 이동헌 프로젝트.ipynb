{
 "cells": [
  {
   "cell_type": "markdown",
   "metadata": {},
   "source": [
    "<h1><center> 미국 경찰 총격데이터 분석 </center></h1>\n",
    "<h3><div style = \"text-align : right\">201600177 문헌정보학과 이동헌</div></h3>"
   ]
  },
  {
   "cell_type": "markdown",
   "metadata": {},
   "source": [
    "<h4>서론</h4>  \n",
    " 데이터분석 과제를 실행하기 위해 전공, 취미 등 다양한 분야와 공공데이터포털, kaggle 등 많은 경로로 데이터를 찾아보던 중 한 데이터가 내 눈에 띄었다.  \n",
    " \n",
    " \n",
    " [Kaggle : US Police Shootings](https://www.kaggle.com/ahsen1330/us-police-shootings/)  \n",
    " \n",
    " 이 데이터를 보자 얼마전 읽었던 말콤 글래드웰의 \"타인의 해석\"이라는 책에서 저자가 주장한 내용이 생각났다.\n",
    " \n",
    " >'샌드라 블랜드 사건은 인종문제도, 무능하거나 나쁜 경찰의 문제도 아닌 사람의 소통에 관한 문제다.'    \n",
    "\n",
    "\n",
    "저자는 사람간의 투명성문제, 캔자스 시티의 범죄소탕 사례 등을 예로 들며 샌드라 블랜드 사건이 경찰이 사람을 의심하게 만드는 제도와 사람간의 오해가 쌓이고 쌓여 생긴 문제라고 해석했다. 그의 논거를 따라가며 마침내 결론을 읽을 때 나도 그의 주장이 어느정도 맞다고 동의하게 되었으며, 마침 최근에도 흑인에 대한 경찰의 총격사건이 화두로 올랐기에 이 데이터세트를 고를수밖에 없었다. 이를 위해 이번 프로젝트는 소수인종, 즉 히스패닉이나 흑인, 아시안들이 같은 조건하에서 경찰에게 과잉진압을 당할 확률이 높은지 알아봄으로써 앞서 소개했던 저자의 주장이 샌드라 블랜드 사건뿐만이 아닌 전체적으로 일반화 될 수 있을지 검증하는것을 목표로 할것이다. 또한 CRISP-DM을 최대한 따라감으로써 최대한 실제 프로젝트와 유사하게 진행할 것이다."
   ]
  },
  {
   "cell_type": "markdown",
   "metadata": {},
   "source": [
    "<h4>도메인에 대한 이해</h4>\n",
    "\n",
    " 우선 경찰이 어느 상황에서 무기를 사용할 수 있으며 총격을 가하는지부터 명확하게 정의하고 넘어가야 특정 상황에서 경찰이 과잉진압을 했다라고 말할 수 있을것이다. 이를 위해 우선 데이터셋의 무대가 되는 미국의 공무원의 정당방위 살인에 대해서 알아보자. 정당방위 살인에 대해 가장 잘 설명해둔 캘리포니아 주법 Sec.196을 인용하겠다.\n",
    " \n",
    " >196. 다음과 같은 상황에서 공무원이 그들의 명령을 수행하거나 도움을 제공하는 행동에서 행해진 살인은 정당화될수 있다.\n",
    " >> (a) 사법부에 의해 인정될 때  \n",
    " >> (b) 공무원이 835a에 따라 무력행사를 행하다 살인이 발생했을 때\n",
    " \n",
    " >835a. ...(중략)...\n",
    " >>> (2) ... 사람의 생명을 구하기 위해서만 공무원이 무력집행을 사용하게 하는 것이 사법부의 의도이다.  \n",
    " \n",
    " > ...\n",
    " \n",
    " >> (c) (1)과 (b)조에도 불구하고 공무원이 상황에 대한 전체적 판단 후 다음 근거들을 기반으로 치명적인 무력집행이 필요하다 합리적으로 믿고 사용한 경우 정당화 될 수 있다.\n",
    " >>>> (A) 공무원이나 다른 사람에게 임박한 죽음의 위협이나 심각한 부상을 방어하기 위해.  \n",
    " >>>> (B) 즉시 체포되지 않으면 다른사람에게 심각한 부상이나 살인을 저지를것이라 합리적으로 믿는경우 ...(중략)...\n",
    " \n",
    "즉 1.사법부에 의해서 인정되거나 2.요주의 용의자가 도망칠때, 3.상대가 즉시 타인에게 심각한 상해 이상을 입힐 수 있는 경우 치명적 무력행사, 즉 총기발포가 가능하고 요약할 수 있다. 이번 분석에서는 이러한 상황에 맞지 않을때 경찰이 발포한 경우를 과잉진압이라 정의할 것다.\n",
    "\n",
    "또한 흥미로운 구문을 발견했다.\n",
    ">835a.(a)(5) 신체적, 정신적 혹은 지능적 발달장애가 있는 개인은 명령을 이해하거나 수행하는데 문제가 있을 수 있어서 더 높은 수준의 무력진압을 경험할 가능성이 높다. ...(중략)\n",
    "\n",
    "장애인의 경우 더 거칠게 다뤄질수 있다는 구문이다. 이것 또한 실제로 그러한지 데이터 분석을 통해 알아보자."
   ]
  },
  {
   "cell_type": "markdown",
   "metadata": {},
   "source": [
    "<h4>데이터에 대한 이해</h4>\n",
    "\n",
    "US Police Shooting Dataset은 다음과 같은 column으로 구성되어있다."
   ]
  },
  {
   "cell_type": "code",
   "execution_count": 2,
   "metadata": {},
   "outputs": [
    {
     "data": {
      "text/plain": [
       "Index(['name', 'date', 'manner_of_death', 'armed', 'age', 'gender', 'race',\n",
       "       'city', 'state', 'signs_of_mental_illness', 'threat_level', 'flee',\n",
       "       'body_camera', 'arms_category'],\n",
       "      dtype='object')"
      ]
     },
     "execution_count": 2,
     "metadata": {},
     "output_type": "execute_result"
    }
   ],
   "source": [
    "import pandas as pd\n",
    "import numpy as np\n",
    "\n",
    "shootings = pd.read_csv('shootings.csv', parse_dates=['date'], index_col=0,)\n",
    "shootings = shootings.sort_index(ascending=True)\n",
    "shootings.columns"
   ]
  },
  {
   "cell_type": "markdown",
   "metadata": {},
   "source": [
    "|컬럼명|설명|\n",
    "|:--:|:--|\n",
    "|id|사건 식별자|\n",
    "|name|발포자 이름|\n",
    "|date|년-월-일 포맷|\n",
    "|manner_of_death|어떻게 살해당했는가? ex)총격,테이저건|\n",
    "|armed|무장|\n",
    "|age|피격자의 나이|\n",
    "|gender|피격자의 성별|\n",
    "|race|피격자의 |\n",
    "|city|사건발생도시|\n",
    "|state|사건발생주|\n",
    "|signs_of_mental_illness|피격자가 정신이상의 징후가 있었나?|\n",
    "|threat_level|위협 수준|\n",
    "|flee|도주 여부|\n",
    "|body_camera|바디캠이 켜져있었는지 여부|\n",
    "|arms_category|무장 카테고리|\n"
   ]
  },
  {
   "cell_type": "code",
   "execution_count": 3,
   "metadata": {},
   "outputs": [
    {
     "data": {
      "text/html": [
       "<div>\n",
       "<style scoped>\n",
       "    .dataframe tbody tr th:only-of-type {\n",
       "        vertical-align: middle;\n",
       "    }\n",
       "\n",
       "    .dataframe tbody tr th {\n",
       "        vertical-align: top;\n",
       "    }\n",
       "\n",
       "    .dataframe thead th {\n",
       "        text-align: right;\n",
       "    }\n",
       "</style>\n",
       "<table border=\"1\" class=\"dataframe\">\n",
       "  <thead>\n",
       "    <tr style=\"text-align: right;\">\n",
       "      <th></th>\n",
       "      <th>name</th>\n",
       "      <th>date</th>\n",
       "      <th>manner_of_death</th>\n",
       "      <th>armed</th>\n",
       "      <th>age</th>\n",
       "      <th>gender</th>\n",
       "      <th>race</th>\n",
       "      <th>city</th>\n",
       "      <th>state</th>\n",
       "      <th>signs_of_mental_illness</th>\n",
       "      <th>threat_level</th>\n",
       "      <th>flee</th>\n",
       "      <th>body_camera</th>\n",
       "      <th>arms_category</th>\n",
       "    </tr>\n",
       "    <tr>\n",
       "      <th>id</th>\n",
       "      <th></th>\n",
       "      <th></th>\n",
       "      <th></th>\n",
       "      <th></th>\n",
       "      <th></th>\n",
       "      <th></th>\n",
       "      <th></th>\n",
       "      <th></th>\n",
       "      <th></th>\n",
       "      <th></th>\n",
       "      <th></th>\n",
       "      <th></th>\n",
       "      <th></th>\n",
       "      <th></th>\n",
       "    </tr>\n",
       "  </thead>\n",
       "  <tbody>\n",
       "    <tr>\n",
       "      <th>3</th>\n",
       "      <td>Tim Elliot</td>\n",
       "      <td>2015-01-02</td>\n",
       "      <td>shot</td>\n",
       "      <td>gun</td>\n",
       "      <td>53.0</td>\n",
       "      <td>M</td>\n",
       "      <td>Asian</td>\n",
       "      <td>Shelton</td>\n",
       "      <td>WA</td>\n",
       "      <td>True</td>\n",
       "      <td>attack</td>\n",
       "      <td>Not fleeing</td>\n",
       "      <td>False</td>\n",
       "      <td>Guns</td>\n",
       "    </tr>\n",
       "    <tr>\n",
       "      <th>4</th>\n",
       "      <td>Lewis Lee Lembke</td>\n",
       "      <td>2015-01-02</td>\n",
       "      <td>shot</td>\n",
       "      <td>gun</td>\n",
       "      <td>47.0</td>\n",
       "      <td>M</td>\n",
       "      <td>White</td>\n",
       "      <td>Aloha</td>\n",
       "      <td>OR</td>\n",
       "      <td>False</td>\n",
       "      <td>attack</td>\n",
       "      <td>Not fleeing</td>\n",
       "      <td>False</td>\n",
       "      <td>Guns</td>\n",
       "    </tr>\n",
       "    <tr>\n",
       "      <th>5</th>\n",
       "      <td>John Paul Quintero</td>\n",
       "      <td>2015-01-03</td>\n",
       "      <td>shot and Tasered</td>\n",
       "      <td>unarmed</td>\n",
       "      <td>23.0</td>\n",
       "      <td>M</td>\n",
       "      <td>Hispanic</td>\n",
       "      <td>Wichita</td>\n",
       "      <td>KS</td>\n",
       "      <td>False</td>\n",
       "      <td>other</td>\n",
       "      <td>Not fleeing</td>\n",
       "      <td>False</td>\n",
       "      <td>Unarmed</td>\n",
       "    </tr>\n",
       "    <tr>\n",
       "      <th>8</th>\n",
       "      <td>Matthew Hoffman</td>\n",
       "      <td>2015-01-04</td>\n",
       "      <td>shot</td>\n",
       "      <td>toy weapon</td>\n",
       "      <td>32.0</td>\n",
       "      <td>M</td>\n",
       "      <td>White</td>\n",
       "      <td>San Francisco</td>\n",
       "      <td>CA</td>\n",
       "      <td>True</td>\n",
       "      <td>attack</td>\n",
       "      <td>Not fleeing</td>\n",
       "      <td>False</td>\n",
       "      <td>Other unusual objects</td>\n",
       "    </tr>\n",
       "    <tr>\n",
       "      <th>9</th>\n",
       "      <td>Michael Rodriguez</td>\n",
       "      <td>2015-01-04</td>\n",
       "      <td>shot</td>\n",
       "      <td>nail gun</td>\n",
       "      <td>39.0</td>\n",
       "      <td>M</td>\n",
       "      <td>Hispanic</td>\n",
       "      <td>Evans</td>\n",
       "      <td>CO</td>\n",
       "      <td>False</td>\n",
       "      <td>attack</td>\n",
       "      <td>Not fleeing</td>\n",
       "      <td>False</td>\n",
       "      <td>Piercing objects</td>\n",
       "    </tr>\n",
       "  </tbody>\n",
       "</table>\n",
       "</div>"
      ],
      "text/plain": [
       "                  name       date   manner_of_death       armed   age gender  \\\n",
       "id                                                                             \n",
       "3           Tim Elliot 2015-01-02              shot         gun  53.0      M   \n",
       "4     Lewis Lee Lembke 2015-01-02              shot         gun  47.0      M   \n",
       "5   John Paul Quintero 2015-01-03  shot and Tasered     unarmed  23.0      M   \n",
       "8      Matthew Hoffman 2015-01-04              shot  toy weapon  32.0      M   \n",
       "9    Michael Rodriguez 2015-01-04              shot    nail gun  39.0      M   \n",
       "\n",
       "        race           city state  signs_of_mental_illness threat_level  \\\n",
       "id                                                                        \n",
       "3      Asian        Shelton    WA                     True       attack   \n",
       "4      White          Aloha    OR                    False       attack   \n",
       "5   Hispanic        Wichita    KS                    False        other   \n",
       "8      White  San Francisco    CA                     True       attack   \n",
       "9   Hispanic          Evans    CO                    False       attack   \n",
       "\n",
       "           flee  body_camera          arms_category  \n",
       "id                                                   \n",
       "3   Not fleeing        False                   Guns  \n",
       "4   Not fleeing        False                   Guns  \n",
       "5   Not fleeing        False                Unarmed  \n",
       "8   Not fleeing        False  Other unusual objects  \n",
       "9   Not fleeing        False       Piercing objects  "
      ]
     },
     "execution_count": 3,
     "metadata": {},
     "output_type": "execute_result"
    }
   ],
   "source": [
    "shootings.head()"
   ]
  },
  {
   "cell_type": "code",
   "execution_count": 4,
   "metadata": {},
   "outputs": [
    {
     "name": "stdout",
     "output_type": "stream",
     "text": [
      "<class 'pandas.core.frame.DataFrame'>\n",
      "Int64Index: 4895 entries, 3 to 5925\n",
      "Data columns (total 14 columns):\n",
      " #   Column                   Non-Null Count  Dtype         \n",
      "---  ------                   --------------  -----         \n",
      " 0   name                     4895 non-null   object        \n",
      " 1   date                     4895 non-null   datetime64[ns]\n",
      " 2   manner_of_death          4895 non-null   object        \n",
      " 3   armed                    4895 non-null   object        \n",
      " 4   age                      4895 non-null   float64       \n",
      " 5   gender                   4895 non-null   object        \n",
      " 6   race                     4895 non-null   object        \n",
      " 7   city                     4895 non-null   object        \n",
      " 8   state                    4895 non-null   object        \n",
      " 9   signs_of_mental_illness  4895 non-null   bool          \n",
      " 10  threat_level             4895 non-null   object        \n",
      " 11  flee                     4895 non-null   object        \n",
      " 12  body_camera              4895 non-null   bool          \n",
      " 13  arms_category            4895 non-null   object        \n",
      "dtypes: bool(2), datetime64[ns](1), float64(1), object(10)\n",
      "memory usage: 506.7+ KB\n"
     ]
    }
   ],
   "source": [
    "shootings.info()"
   ]
  },
  {
   "cell_type": "markdown",
   "metadata": {},
   "source": [
    "515kb로 다루기 무리없는 데이터기에 데이터 용량을 축소하는 작업은 실시하지 않을 것이다. 하지만 좀더 분석하기쉽도록 몇몇 열들은 데이터 특성에 맞게 조정을 할것이다.\n",
    "\n",
    "컬럼의 unique갯수가 52개 미만인 object type의 columns의 dtype을 category로 조정하여 추후 분석시 좀더 편하도록 미리 세팅해보자. "
   ]
  },
  {
   "cell_type": "code",
   "execution_count": 5,
   "metadata": {},
   "outputs": [],
   "source": [
    "for n in shootings.columns :\n",
    "    if (shootings[n].nunique() < 52) and (shootings[n].dtype == 'O'):\n",
    "        shootings[n] = shootings[n].astype('category')\n",
    "#컬럼중 unique value 갯수가 < 52이면서 object 타입인 컬럼의 dtype을 category로 바꿔줌.\n",
    "shootings.age = shootings.age.astype(int)\n",
    "#age는 나이기때문에 int로 넣어줌."
   ]
  },
  {
   "cell_type": "code",
   "execution_count": 6,
   "metadata": {},
   "outputs": [
    {
     "name": "stdout",
     "output_type": "stream",
     "text": [
      "<class 'pandas.core.frame.DataFrame'>\n",
      "Int64Index: 4895 entries, 3 to 5925\n",
      "Data columns (total 14 columns):\n",
      " #   Column                   Non-Null Count  Dtype         \n",
      "---  ------                   --------------  -----         \n",
      " 0   name                     4895 non-null   object        \n",
      " 1   date                     4895 non-null   datetime64[ns]\n",
      " 2   manner_of_death          4895 non-null   category      \n",
      " 3   armed                    4895 non-null   object        \n",
      " 4   age                      4895 non-null   int32         \n",
      " 5   gender                   4895 non-null   category      \n",
      " 6   race                     4895 non-null   category      \n",
      " 7   city                     4895 non-null   object        \n",
      " 8   state                    4895 non-null   category      \n",
      " 9   signs_of_mental_illness  4895 non-null   bool          \n",
      " 10  threat_level             4895 non-null   category      \n",
      " 11  flee                     4895 non-null   category      \n",
      " 12  body_camera              4895 non-null   bool          \n",
      " 13  arms_category            4895 non-null   category      \n",
      "dtypes: bool(2), category(7), datetime64[ns](1), int32(1), object(3)\n",
      "memory usage: 257.3+ KB\n"
     ]
    }
   ],
   "source": [
    "shootings.info()"
   ]
  },
  {
   "cell_type": "markdown",
   "metadata": {},
   "source": [
    "주목할 점은 id를 index로 넣고 오름차순으로 sort를 했음에도 불구하고 3부터 시작된다는 것이다.   \n",
    "원본 깃허브나 파생 kaggle들을 확인해도 이 이유를 알 수 없었는데, 아마 data source인 워싱턴 포스트쪽의 db에서 사실이 아닌것으로 확인되어 삭제된것일수 있다.  \n",
    "우리입장에서는 크게 중요한 점이 아니니 데이터를 다루기 쉽게 인덱스를 리셋해버리겠다."
   ]
  },
  {
   "cell_type": "code",
   "execution_count": 7,
   "metadata": {},
   "outputs": [
    {
     "data": {
      "text/html": [
       "<div>\n",
       "<style scoped>\n",
       "    .dataframe tbody tr th:only-of-type {\n",
       "        vertical-align: middle;\n",
       "    }\n",
       "\n",
       "    .dataframe tbody tr th {\n",
       "        vertical-align: top;\n",
       "    }\n",
       "\n",
       "    .dataframe thead th {\n",
       "        text-align: right;\n",
       "    }\n",
       "</style>\n",
       "<table border=\"1\" class=\"dataframe\">\n",
       "  <thead>\n",
       "    <tr style=\"text-align: right;\">\n",
       "      <th></th>\n",
       "      <th>name</th>\n",
       "      <th>date</th>\n",
       "      <th>manner_of_death</th>\n",
       "      <th>armed</th>\n",
       "      <th>age</th>\n",
       "      <th>gender</th>\n",
       "      <th>race</th>\n",
       "      <th>city</th>\n",
       "      <th>state</th>\n",
       "      <th>signs_of_mental_illness</th>\n",
       "      <th>threat_level</th>\n",
       "      <th>flee</th>\n",
       "      <th>body_camera</th>\n",
       "      <th>arms_category</th>\n",
       "    </tr>\n",
       "  </thead>\n",
       "  <tbody>\n",
       "    <tr>\n",
       "      <th>0</th>\n",
       "      <td>Tim Elliot</td>\n",
       "      <td>2015-01-02</td>\n",
       "      <td>shot</td>\n",
       "      <td>gun</td>\n",
       "      <td>53</td>\n",
       "      <td>M</td>\n",
       "      <td>Asian</td>\n",
       "      <td>Shelton</td>\n",
       "      <td>WA</td>\n",
       "      <td>True</td>\n",
       "      <td>attack</td>\n",
       "      <td>Not fleeing</td>\n",
       "      <td>False</td>\n",
       "      <td>Guns</td>\n",
       "    </tr>\n",
       "    <tr>\n",
       "      <th>1</th>\n",
       "      <td>Lewis Lee Lembke</td>\n",
       "      <td>2015-01-02</td>\n",
       "      <td>shot</td>\n",
       "      <td>gun</td>\n",
       "      <td>47</td>\n",
       "      <td>M</td>\n",
       "      <td>White</td>\n",
       "      <td>Aloha</td>\n",
       "      <td>OR</td>\n",
       "      <td>False</td>\n",
       "      <td>attack</td>\n",
       "      <td>Not fleeing</td>\n",
       "      <td>False</td>\n",
       "      <td>Guns</td>\n",
       "    </tr>\n",
       "    <tr>\n",
       "      <th>2</th>\n",
       "      <td>John Paul Quintero</td>\n",
       "      <td>2015-01-03</td>\n",
       "      <td>shot and Tasered</td>\n",
       "      <td>unarmed</td>\n",
       "      <td>23</td>\n",
       "      <td>M</td>\n",
       "      <td>Hispanic</td>\n",
       "      <td>Wichita</td>\n",
       "      <td>KS</td>\n",
       "      <td>False</td>\n",
       "      <td>other</td>\n",
       "      <td>Not fleeing</td>\n",
       "      <td>False</td>\n",
       "      <td>Unarmed</td>\n",
       "    </tr>\n",
       "    <tr>\n",
       "      <th>3</th>\n",
       "      <td>Matthew Hoffman</td>\n",
       "      <td>2015-01-04</td>\n",
       "      <td>shot</td>\n",
       "      <td>toy weapon</td>\n",
       "      <td>32</td>\n",
       "      <td>M</td>\n",
       "      <td>White</td>\n",
       "      <td>San Francisco</td>\n",
       "      <td>CA</td>\n",
       "      <td>True</td>\n",
       "      <td>attack</td>\n",
       "      <td>Not fleeing</td>\n",
       "      <td>False</td>\n",
       "      <td>Other unusual objects</td>\n",
       "    </tr>\n",
       "    <tr>\n",
       "      <th>4</th>\n",
       "      <td>Michael Rodriguez</td>\n",
       "      <td>2015-01-04</td>\n",
       "      <td>shot</td>\n",
       "      <td>nail gun</td>\n",
       "      <td>39</td>\n",
       "      <td>M</td>\n",
       "      <td>Hispanic</td>\n",
       "      <td>Evans</td>\n",
       "      <td>CO</td>\n",
       "      <td>False</td>\n",
       "      <td>attack</td>\n",
       "      <td>Not fleeing</td>\n",
       "      <td>False</td>\n",
       "      <td>Piercing objects</td>\n",
       "    </tr>\n",
       "    <tr>\n",
       "      <th>...</th>\n",
       "      <td>...</td>\n",
       "      <td>...</td>\n",
       "      <td>...</td>\n",
       "      <td>...</td>\n",
       "      <td>...</td>\n",
       "      <td>...</td>\n",
       "      <td>...</td>\n",
       "      <td>...</td>\n",
       "      <td>...</td>\n",
       "      <td>...</td>\n",
       "      <td>...</td>\n",
       "      <td>...</td>\n",
       "      <td>...</td>\n",
       "      <td>...</td>\n",
       "    </tr>\n",
       "    <tr>\n",
       "      <th>4890</th>\n",
       "      <td>Joshua Johnson</td>\n",
       "      <td>2020-04-22</td>\n",
       "      <td>shot</td>\n",
       "      <td>toy weapon</td>\n",
       "      <td>35</td>\n",
       "      <td>M</td>\n",
       "      <td>Black</td>\n",
       "      <td>Houston</td>\n",
       "      <td>TX</td>\n",
       "      <td>False</td>\n",
       "      <td>attack</td>\n",
       "      <td>Foot</td>\n",
       "      <td>False</td>\n",
       "      <td>Other unusual objects</td>\n",
       "    </tr>\n",
       "    <tr>\n",
       "      <th>4891</th>\n",
       "      <td>Hannah Fizer</td>\n",
       "      <td>2020-06-13</td>\n",
       "      <td>shot</td>\n",
       "      <td>unarmed</td>\n",
       "      <td>25</td>\n",
       "      <td>F</td>\n",
       "      <td>White</td>\n",
       "      <td>Sedalia</td>\n",
       "      <td>MO</td>\n",
       "      <td>False</td>\n",
       "      <td>other</td>\n",
       "      <td>Not fleeing</td>\n",
       "      <td>False</td>\n",
       "      <td>Unarmed</td>\n",
       "    </tr>\n",
       "    <tr>\n",
       "      <th>4892</th>\n",
       "      <td>William Slyter</td>\n",
       "      <td>2020-06-13</td>\n",
       "      <td>shot</td>\n",
       "      <td>gun</td>\n",
       "      <td>22</td>\n",
       "      <td>M</td>\n",
       "      <td>White</td>\n",
       "      <td>Kansas City</td>\n",
       "      <td>MO</td>\n",
       "      <td>False</td>\n",
       "      <td>other</td>\n",
       "      <td>Other</td>\n",
       "      <td>False</td>\n",
       "      <td>Guns</td>\n",
       "    </tr>\n",
       "    <tr>\n",
       "      <th>4893</th>\n",
       "      <td>Nicholas Hirsh</td>\n",
       "      <td>2020-06-15</td>\n",
       "      <td>shot</td>\n",
       "      <td>gun</td>\n",
       "      <td>31</td>\n",
       "      <td>M</td>\n",
       "      <td>White</td>\n",
       "      <td>Lawrence</td>\n",
       "      <td>KS</td>\n",
       "      <td>False</td>\n",
       "      <td>attack</td>\n",
       "      <td>Car</td>\n",
       "      <td>False</td>\n",
       "      <td>Guns</td>\n",
       "    </tr>\n",
       "    <tr>\n",
       "      <th>4894</th>\n",
       "      <td>Caine Van Pelt</td>\n",
       "      <td>2020-06-12</td>\n",
       "      <td>shot</td>\n",
       "      <td>gun</td>\n",
       "      <td>23</td>\n",
       "      <td>M</td>\n",
       "      <td>Black</td>\n",
       "      <td>Crown Point</td>\n",
       "      <td>IN</td>\n",
       "      <td>False</td>\n",
       "      <td>attack</td>\n",
       "      <td>Car</td>\n",
       "      <td>False</td>\n",
       "      <td>Guns</td>\n",
       "    </tr>\n",
       "  </tbody>\n",
       "</table>\n",
       "<p>4895 rows × 14 columns</p>\n",
       "</div>"
      ],
      "text/plain": [
       "                    name       date   manner_of_death       armed  age gender  \\\n",
       "0             Tim Elliot 2015-01-02              shot         gun   53      M   \n",
       "1       Lewis Lee Lembke 2015-01-02              shot         gun   47      M   \n",
       "2     John Paul Quintero 2015-01-03  shot and Tasered     unarmed   23      M   \n",
       "3        Matthew Hoffman 2015-01-04              shot  toy weapon   32      M   \n",
       "4      Michael Rodriguez 2015-01-04              shot    nail gun   39      M   \n",
       "...                  ...        ...               ...         ...  ...    ...   \n",
       "4890      Joshua Johnson 2020-04-22              shot  toy weapon   35      M   \n",
       "4891        Hannah Fizer 2020-06-13              shot     unarmed   25      F   \n",
       "4892      William Slyter 2020-06-13              shot         gun   22      M   \n",
       "4893      Nicholas Hirsh 2020-06-15              shot         gun   31      M   \n",
       "4894      Caine Van Pelt 2020-06-12              shot         gun   23      M   \n",
       "\n",
       "          race           city state  signs_of_mental_illness threat_level  \\\n",
       "0        Asian        Shelton    WA                     True       attack   \n",
       "1        White          Aloha    OR                    False       attack   \n",
       "2     Hispanic        Wichita    KS                    False        other   \n",
       "3        White  San Francisco    CA                     True       attack   \n",
       "4     Hispanic          Evans    CO                    False       attack   \n",
       "...        ...            ...   ...                      ...          ...   \n",
       "4890     Black        Houston    TX                    False       attack   \n",
       "4891     White        Sedalia    MO                    False        other   \n",
       "4892     White    Kansas City    MO                    False        other   \n",
       "4893     White       Lawrence    KS                    False       attack   \n",
       "4894     Black    Crown Point    IN                    False       attack   \n",
       "\n",
       "             flee  body_camera          arms_category  \n",
       "0     Not fleeing        False                   Guns  \n",
       "1     Not fleeing        False                   Guns  \n",
       "2     Not fleeing        False                Unarmed  \n",
       "3     Not fleeing        False  Other unusual objects  \n",
       "4     Not fleeing        False       Piercing objects  \n",
       "...           ...          ...                    ...  \n",
       "4890         Foot        False  Other unusual objects  \n",
       "4891  Not fleeing        False                Unarmed  \n",
       "4892        Other        False                   Guns  \n",
       "4893          Car        False                   Guns  \n",
       "4894          Car        False                   Guns  \n",
       "\n",
       "[4895 rows x 14 columns]"
      ]
     },
     "execution_count": 7,
     "metadata": {},
     "output_type": "execute_result"
    }
   ],
   "source": [
    "shootings = shootings.reset_index(drop=True)\n",
    "shootings"
   ]
  },
  {
   "cell_type": "markdown",
   "metadata": {},
   "source": [
    "우선 총격발생 추이를 확인해보자."
   ]
  },
  {
   "cell_type": "code",
   "execution_count": 16,
   "metadata": {},
   "outputs": [
    {
     "name": "stderr",
     "output_type": "stream",
     "text": [
      "<ipython-input-16-770283c111e2>:10: UserWarning: FixedFormatter should only be used together with FixedLocator\n",
      "  g.set_xticklabels(labels = dat.value_counts().sort_index().index.str[2:],\n"
     ]
    },
    {
     "data": {
      "text/plain": [
       "<AxesSubplot:title={'center':'연/월별 경찰 총격 사망자 선그래프'}>"
      ]
     },
     "execution_count": 16,
     "metadata": {},
     "output_type": "execute_result"
    },
    {
     "data": {
      "image/png": "[encoded data removed]",
      "text/plain": [
       "<Figure size 1440x720 with 1 Axes>"
      ]
     },
     "metadata": {
      "needs_background": "light"
     },
     "output_type": "display_data"
    }
   ],
   "source": [
    "import matplotlib.pyplot as plt\n",
    "import seaborn as sns\n",
    "\n",
    "\n",
    "dat = shootings['date'].dt.strftime('%Y/%m')\n",
    "fig,ax = plt.subplots(figsize = [20,10])\n",
    "plt.rcParams['font.family'] = 'Malgun Gothic'\n",
    "g = sns.lineplot(x = dat.value_counts().sort_index().index,\n",
    "                 y = dat.value_counts().sort_index().values)\n",
    "g.set_xticklabels(labels = dat.value_counts().sort_index().index.str[2:],\n",
    "                  rotation = -90)\n",
    "g.set_title('연/월별 경찰 총격 사망자 선그래프')\n",
    "g"
   ]
  },
  {
   "cell_type": "markdown",
   "metadata": {},
   "source": [
    "마지막 20년 6월의 경우 횟수가 20회정도에서 돌기에 어? 총격사건이 많이 줄은것인가? 할 수 있는데 사실 6월12일까지, 즉 절반도 안되는 기간동안 수집했기에 자연히 적어진것이다. \n",
    "\n",
    "\n",
    "17년 12월의경우 총격 사건이 확연히 적어진 것을 볼 수있는데 해당 월의 뉴스를 찾아봐도 28일부터 시리아내전이 발발한것을 빼고는 특별한것을 찾을수 없었기에 이유를 알 순 없었다\n",
    "\n",
    "한번 그루핑을 다르게 해보거나 차분등을 해보면서 여러가지 그래프를 그려보자."
   ]
  },
  {
   "cell_type": "code",
   "execution_count": 105,
   "metadata": {},
   "outputs": [
    {
     "data": {
      "text/plain": [
       "Text(0.5, 1.0, '연 / 분기별 피격자 발생수')"
      ]
     },
     "execution_count": 105,
     "metadata": {},
     "output_type": "execute_result"
    },
    {
     "data": {
      "image/png": "[encoded data removed]",
      "text/plain": [
       "<Figure size 1440x720 with 1 Axes>"
      ]
     },
     "metadata": {
      "needs_background": "light"
     },
     "output_type": "display_data"
    }
   ],
   "source": [
    "import matplotlib.pyplot as plt\n",
    "import seaborn as sns\n",
    "plt.rcParams['font.family'] = 'Malgun Gothic'\n",
    "fig,ax = plt.subplots(figsize = [20,10])\n",
    "\n",
    "def color_from_values(v, p):\n",
    "    normalized = (v - min(v)) / (max(v) - min(v))\n",
    "    indices = np.round(normalized * (len(v) - 1)).astype(np.int64)\n",
    "    palette = sns.color_palette(p, len(v))\n",
    "    return np.array(palette).take(indices, axis = 0)\n",
    "pal = color_from_values(shootings.resample('QS', on = 'date').size(), 'coolwarm')\n",
    "\n",
    "g = sns.barplot(x = shootings.resample('QS', on = 'date').size()[:-1].index,\n",
    "                y = shootings.resample('QS', on = 'date').size()[:-1].values,\n",
    "               palette = pal)\n",
    "g.set_xticklabels(labels = shootings.resample('QS',on = 'date').size()[:-1].index.strftime('%y-%m'),\n",
    "                  rotation = -90)\n",
    "g.set(ylim = (170, 290))\n",
    "g.set_title('연 / 분기별 피격자 발생수')"
   ]
  },
  {
   "cell_type": "code",
   "execution_count": 101,
   "metadata": {},
   "outputs": [
    {
     "data": {
      "text/plain": [
       "Text(0.5, 1.0, '연 / 월별 피격자 발생수 월별차분, 마지막 달 제외')"
      ]
     },
     "execution_count": 101,
     "metadata": {},
     "output_type": "execute_result"
    },
    {
     "name": "stderr",
     "output_type": "stream",
     "text": [
      "C:\\Users\\soymi\\anaconda3\\lib\\site-packages\\matplotlib\\backends\\backend_agg.py:238: RuntimeWarning: Glyph 8722 missing from current font.\n",
      "  font.set_text(s, 0.0, flags=flags)\n",
      "C:\\Users\\soymi\\anaconda3\\lib\\site-packages\\matplotlib\\backends\\backend_agg.py:201: RuntimeWarning: Glyph 8722 missing from current font.\n",
      "  font.set_text(s, 0, flags=flags)\n"
     ]
    },
    {
     "data": {
      "image/png": "[encoded data removed]",
      "text/plain": [
       "<Figure size 1440x720 with 1 Axes>"
      ]
     },
     "metadata": {
      "needs_background": "light"
     },
     "output_type": "display_data"
    }
   ],
   "source": [
    "import matplotlib.pyplot as plt\n",
    "import seaborn as sns\n",
    "plt.rcParams['font.family'] = 'Malgun Gothic'\n",
    "fig,ax = plt.subplots(figsize = [20,10])\n",
    "\n",
    "diff = shootings.resample('M', on = 'date').size().diff()\n",
    "diff.iloc[0] = 0\n",
    "diff = diff[:-1]\n",
    "\n",
    "def color_from_values(v, p):\n",
    "    normalized = (v - min(v)) / (max(v) - min(v))\n",
    "    indices = np.round(normalized * (len(v) - 1)).astype(np.int64)\n",
    "    palette = sns.color_palette(p, len(v))\n",
    "    return np.array(palette).take(indices, axis = 0)\n",
    "pal = color_from_values(diff, 'coolwarm')\n",
    "\n",
    "g = sns.barplot(x = diff.index,\n",
    "               y = diff.values,\n",
    "               palette = pal)\n",
    "g.set_xticklabels(labels = diff.index.strftime('%y-%m'),\n",
    "                 rotation = -90)\n",
    "g.set_title('연 / 월별 피격자 발생수 월별차분, 마지막 달 제외')"
   ]
  },
  {
   "cell_type": "code",
   "execution_count": 102,
   "metadata": {},
   "outputs": [
    {
     "data": {
      "text/plain": [
       "Text(0.5, 1.0, '연 / 분기 피격자 발생수 분기차분, 마지막 달 제외')"
      ]
     },
     "execution_count": 102,
     "metadata": {},
     "output_type": "execute_result"
    },
    {
     "name": "stderr",
     "output_type": "stream",
     "text": [
      "C:\\Users\\soymi\\anaconda3\\lib\\site-packages\\matplotlib\\backends\\backend_agg.py:238: RuntimeWarning: Glyph 8722 missing from current font.\n",
      "  font.set_text(s, 0.0, flags=flags)\n",
      "C:\\Users\\soymi\\anaconda3\\lib\\site-packages\\matplotlib\\backends\\backend_agg.py:201: RuntimeWarning: Glyph 8722 missing from current font.\n",
      "  font.set_text(s, 0, flags=flags)\n"
     ]
    },
    {
     "data": {
      "image/png": "[encoded data removed]",
      "text/plain": [
       "<Figure size 1440x720 with 1 Axes>"
      ]
     },
     "metadata": {
      "needs_background": "light"
     },
     "output_type": "display_data"
    }
   ],
   "source": [
    "import matplotlib.pyplot as plt\n",
    "import seaborn as sns\n",
    "plt.rcParams['font.family'] = 'Malgun Gothic'\n",
    "fig,ax = plt.subplots(figsize = [20,10])\n",
    "\n",
    "diff = shootings.resample('QS', on = 'date').size().diff()\n",
    "diff.iloc[0] = 0\n",
    "diff = diff[:-1]\n",
    "\n",
    "def color_from_values(v, p):\n",
    "    normalized = (v - min(v)) / (max(v) - min(v))\n",
    "    indices = np.round(normalized * (len(v) - 1)).astype(np.int64)\n",
    "    palette = sns.color_palette(p, len(v))\n",
    "    return np.array(palette).take(indices, axis = 0)\n",
    "pal = color_from_values(diff, 'coolwarm')\n",
    "\n",
    "g = sns.barplot(x = diff.index,\n",
    "               y = diff.values,\n",
    "               palette = pal)\n",
    "g.set_xticklabels(labels = diff.index.strftime('%y-%m'),\n",
    "                 rotation = -90)\n",
    "g.set_title('연 / 분기 피격자 발생수 분기차분, 마지막 달 제외')"
   ]
  },
  {
   "cell_type": "markdown",
   "metadata": {},
   "source": [
    "시간별 피격자 데이터로 여러가지 그래프를 그려봤지만 눈에 띄는 특성은 볼 수 없었다."
   ]
  },
  {
   "cell_type": "markdown",
   "metadata": {},
   "source": [
    "다음은 피격된 사람들이 인종별로 어떤 무장을 했는지 알아볼 것이다. 필자가 선택한 데이터셋은 무장이 category별로 분류되어있는 컬럼이 추가되었기에 이 컬럼을 사용할것이다."
   ]
  },
  {
   "cell_type": "code",
   "execution_count": 111,
   "metadata": {},
   "outputs": [
    {
     "data": {
      "text/plain": [
       "Text(0.5, 1.0, '피살자들의 무장 여부')"
      ]
     },
     "execution_count": 111,
     "metadata": {},
     "output_type": "execute_result"
    },
    {
     "data": {
      "image/png": "[encoded data removed]",
      "text/plain": [
       "<Figure size 1440x720 with 1 Axes>"
      ]
     },
     "metadata": {
      "needs_background": "light"
     },
     "output_type": "display_data"
    }
   ],
   "source": [
    "import matplotlib.pyplot as plt\n",
    "import seaborn as sns\n",
    "plt.rcParams['font.family'] = 'Malgun Gothic'\n",
    "\n",
    "\n",
    "fig,ax = plt.subplots(figsize = [20,10])\n",
    "g = sns.countplot(data = shootings,\n",
    "                 y = 'arms_category',\n",
    "                 order = shootings.arms_category.value_counts().sort_values(ascending=True).index)\n",
    "g.set_title('피살자들의 무장 여부')"
   ]
  },
  {
   "cell_type": "markdown",
   "metadata": {},
   "source": [
    "총기가 가장 많고 날카로운것, 미확인, 비무장 등이 뒤따른다. x축을 보면 대부분의 경우 칼이나 총으로 무장하고 있으며 의외로 비무장상태에서 사살당하는 케이스도 많은걸 확인할 수 있다."
   ]
  },
  {
   "cell_type": "markdown",
   "metadata": {},
   "source": [
    "장애인이 비장애인보다 무력진압을 더 당할가능성이 있다 했는데 장애인이 더 무장을 많이해서 그럴수도 있다는 궁금증이 든다. 이 또한 한번 시각화로 확인해보자."
   ]
  },
  {
   "cell_type": "code",
   "execution_count": 116,
   "metadata": {},
   "outputs": [
    {
     "data": {
      "text/plain": [
       "Text(0.5, 1.0, '피살자들의 무장 여부 / 정신이상징후 별로 구분')"
      ]
     },
     "execution_count": 116,
     "metadata": {},
     "output_type": "execute_result"
    },
    {
     "data": {
      "image/png": "[encoded data removed]",
      "text/plain": [
       "<Figure size 1440x720 with 1 Axes>"
      ]
     },
     "metadata": {
      "needs_background": "light"
     },
     "output_type": "display_data"
    }
   ],
   "source": [
    "import matplotlib.pyplot as plt\n",
    "import seaborn as sns\n",
    "plt.rcParams['font.family'] = 'Malgun Gothic'\n",
    "fig,ax = plt.subplots(figsize = [20,10])\n",
    "\n",
    "g = sns.countplot(data = shootings,\n",
    "                 y = 'arms_category',\n",
    "                 order = shootings.arms_category.value_counts().sort_values(ascending=True).index,\n",
    "                 hue = 'signs_of_mental_illness')\n",
    "g.set_title('피살자들의 무장 여부 / 정신이상징후 별로 구분')"
   ]
  },
  {
   "cell_type": "markdown",
   "metadata": {},
   "source": [
    "비율을 고려한다면 장애인들의 경우 sharp objects나 piercing objects, blunts objects가 차지하는 비중이 높은것을 알 수 있다. 정신적인 문제가 있으면 총기나 전자기기를 다루는 능력이 부족하기에 당연하다 볼 수 있다."
   ]
  },
  {
   "cell_type": "markdown",
   "metadata": {},
   "source": [
    "2~30대 백인남성들의 분노가 높아진 상태이며, 트럼프 당선이 그 이유 중 하나라는 글을 본 적이 있었는데 한번 확인해보기위해 인종별로 피살자의 나이 분포를 확인해보자."
   ]
  },
  {
   "cell_type": "code",
   "execution_count": 76,
   "metadata": {},
   "outputs": [
    {
     "data": {
      "text/plain": [
       "<seaborn.axisgrid.FacetGrid at 0x24c7be8db50>"
      ]
     },
     "execution_count": 76,
     "metadata": {},
     "output_type": "execute_result"
    },
    {
     "data": {
      "image/png": "[encoded data removed]",
      "text/plain": [
       "<Figure size 1296x864 with 6 Axes>"
      ]
     },
     "metadata": {
      "needs_background": "light"
     },
     "output_type": "display_data"
    }
   ],
   "source": [
    "import matplotlib.pyplot as plt\n",
    "import seaborn as sns\n",
    "plt.rcParams['font.family'] = 'Malgun Gothic'\n",
    "\n",
    "g = sns.FacetGrid(shootings, col = 'race', hue = 'race', height = 6, col_wrap=3)\n",
    "g.map(sns.kdeplot, 'age')\n",
    "g.fig.subplots_adjust(top=0.9) # adjust the Figure in rp\n",
    "g.fig.suptitle('피살자 인종별 나이 분포')\n",
    "g.map(plt.axvline, x = 20, color = 'yellow', ls = '--')"
   ]
  },
  {
   "cell_type": "markdown",
   "metadata": {},
   "source": [
    "오히려 흑인이나 원주민, 기타에서 20~30대의 비율이 매우 높은 것을 볼 수 있다."
   ]
  },
  {
   "cell_type": "markdown",
   "metadata": {},
   "source": [
    "그다음은 바디카메라 꺼져있을때 과잉진압을 할 가능성이 높은지도 궁금해진다."
   ]
  },
  {
   "cell_type": "code",
   "execution_count": 83,
   "metadata": {},
   "outputs": [
    {
     "data": {
      "text/plain": [
       "[Text(0, 0, 'False\\n6.79%'), Text(1, 0, 'True\\n9.52%')]"
      ]
     },
     "execution_count": 83,
     "metadata": {},
     "output_type": "execute_result"
    },
    {
     "data": {
      "image/png": "[encoded data removed]",
      "text/plain": [
       "<Figure size 1440x720 with 1 Axes>"
      ]
     },
     "metadata": {
      "needs_background": "light"
     },
     "output_type": "display_data"
    }
   ],
   "source": [
    "import matplotlib.pyplot as plt\n",
    "import seaborn as sns\n",
    "plt.rcParams['font.family'] = 'Malgun Gothic'\n",
    "fix, ax = plt.subplots(figsize = [20,10])\n",
    "\n",
    "unarmed_list = (shootings.arms_category == 'Unarmed')\n",
    "body_unarmed = pd.DataFrame({'body_camera' : shootings.body_camera, 'unarmed_bool' : unarmed_list})\n",
    "body = (body_unarmed.groupby(['body_camera','unarmed_bool'])\n",
    "       .size()).reset_index().rename(columns={0:'value'})\n",
    "body = body.assign(body_camera = body.body_camera.astype('object'), unarmed_bool = body.unarmed_bool.astype('object'))\n",
    "\n",
    "g = sns.barplot(x = body.body_camera, y = body.value, hue = body.unarmed_bool, ax =  ax)\n",
    "g.set_title('바디카메라 유무별 피살자 무장여부')\n",
    "g.set_xticklabels([f'False\\n{round((body.iloc[1,2] / (body.iloc[0,2] + body.iloc[1,2]) * 100),2)}%',\n",
    "                   f'True\\n{round((body.iloc[3,2] / (body.iloc[3,2] + body.iloc[2,2]) * 100),2)}%'])"
   ]
  },
  {
   "cell_type": "markdown",
   "metadata": {},
   "source": [
    "비율별로 크게 차이나는것 같지 않다."
   ]
  },
  {
   "cell_type": "markdown",
   "metadata": {},
   "source": [
    "그다음으론 인종 ~ 무장여부(무장 카테고리)로 피벗테이블을 만들어볼것이다. 우리에 목적에 완벽하게 맞는 예시는 아니지만, 어느정도 insight를 제공해줄것이라 생각된다."
   ]
  },
  {
   "cell_type": "code",
   "execution_count": 84,
   "metadata": {},
   "outputs": [
    {
     "data": {
      "text/html": [
       "<style  type=\"text/css\" >\n",
       "#T_f1f4ae9e_bbce_11eb_9c03_d83bbf6a0de1row0_col0,#T_f1f4ae9e_bbce_11eb_9c03_d83bbf6a0de1row0_col1,#T_f1f4ae9e_bbce_11eb_9c03_d83bbf6a0de1row0_col2,#T_f1f4ae9e_bbce_11eb_9c03_d83bbf6a0de1row0_col3,#T_f1f4ae9e_bbce_11eb_9c03_d83bbf6a0de1row0_col4,#T_f1f4ae9e_bbce_11eb_9c03_d83bbf6a0de1row0_col5,#T_f1f4ae9e_bbce_11eb_9c03_d83bbf6a0de1row0_col6,#T_f1f4ae9e_bbce_11eb_9c03_d83bbf6a0de1row0_col7,#T_f1f4ae9e_bbce_11eb_9c03_d83bbf6a0de1row0_col8,#T_f1f4ae9e_bbce_11eb_9c03_d83bbf6a0de1row0_col9,#T_f1f4ae9e_bbce_11eb_9c03_d83bbf6a0de1row0_col10,#T_f1f4ae9e_bbce_11eb_9c03_d83bbf6a0de1row0_col11,#T_f1f4ae9e_bbce_11eb_9c03_d83bbf6a0de1row1_col0,#T_f1f4ae9e_bbce_11eb_9c03_d83bbf6a0de1row1_col1,#T_f1f4ae9e_bbce_11eb_9c03_d83bbf6a0de1row1_col2,#T_f1f4ae9e_bbce_11eb_9c03_d83bbf6a0de1row1_col3,#T_f1f4ae9e_bbce_11eb_9c03_d83bbf6a0de1row1_col4,#T_f1f4ae9e_bbce_11eb_9c03_d83bbf6a0de1row1_col5,#T_f1f4ae9e_bbce_11eb_9c03_d83bbf6a0de1row1_col6,#T_f1f4ae9e_bbce_11eb_9c03_d83bbf6a0de1row1_col7,#T_f1f4ae9e_bbce_11eb_9c03_d83bbf6a0de1row1_col8,#T_f1f4ae9e_bbce_11eb_9c03_d83bbf6a0de1row1_col10,#T_f1f4ae9e_bbce_11eb_9c03_d83bbf6a0de1row1_col11,#T_f1f4ae9e_bbce_11eb_9c03_d83bbf6a0de1row2_col0,#T_f1f4ae9e_bbce_11eb_9c03_d83bbf6a0de1row2_col1,#T_f1f4ae9e_bbce_11eb_9c03_d83bbf6a0de1row2_col2,#T_f1f4ae9e_bbce_11eb_9c03_d83bbf6a0de1row2_col3,#T_f1f4ae9e_bbce_11eb_9c03_d83bbf6a0de1row2_col4,#T_f1f4ae9e_bbce_11eb_9c03_d83bbf6a0de1row2_col5,#T_f1f4ae9e_bbce_11eb_9c03_d83bbf6a0de1row2_col6,#T_f1f4ae9e_bbce_11eb_9c03_d83bbf6a0de1row2_col7,#T_f1f4ae9e_bbce_11eb_9c03_d83bbf6a0de1row2_col8,#T_f1f4ae9e_bbce_11eb_9c03_d83bbf6a0de1row2_col9,#T_f1f4ae9e_bbce_11eb_9c03_d83bbf6a0de1row2_col10,#T_f1f4ae9e_bbce_11eb_9c03_d83bbf6a0de1row2_col11,#T_f1f4ae9e_bbce_11eb_9c03_d83bbf6a0de1row3_col0,#T_f1f4ae9e_bbce_11eb_9c03_d83bbf6a0de1row3_col1,#T_f1f4ae9e_bbce_11eb_9c03_d83bbf6a0de1row3_col2,#T_f1f4ae9e_bbce_11eb_9c03_d83bbf6a0de1row3_col3,#T_f1f4ae9e_bbce_11eb_9c03_d83bbf6a0de1row3_col4,#T_f1f4ae9e_bbce_11eb_9c03_d83bbf6a0de1row3_col5,#T_f1f4ae9e_bbce_11eb_9c03_d83bbf6a0de1row3_col6,#T_f1f4ae9e_bbce_11eb_9c03_d83bbf6a0de1row3_col7,#T_f1f4ae9e_bbce_11eb_9c03_d83bbf6a0de1row3_col8,#T_f1f4ae9e_bbce_11eb_9c03_d83bbf6a0de1row3_col9,#T_f1f4ae9e_bbce_11eb_9c03_d83bbf6a0de1row3_col10,#T_f1f4ae9e_bbce_11eb_9c03_d83bbf6a0de1row3_col11,#T_f1f4ae9e_bbce_11eb_9c03_d83bbf6a0de1row4_col0,#T_f1f4ae9e_bbce_11eb_9c03_d83bbf6a0de1row4_col1,#T_f1f4ae9e_bbce_11eb_9c03_d83bbf6a0de1row4_col2,#T_f1f4ae9e_bbce_11eb_9c03_d83bbf6a0de1row4_col3,#T_f1f4ae9e_bbce_11eb_9c03_d83bbf6a0de1row4_col4,#T_f1f4ae9e_bbce_11eb_9c03_d83bbf6a0de1row4_col5,#T_f1f4ae9e_bbce_11eb_9c03_d83bbf6a0de1row4_col6,#T_f1f4ae9e_bbce_11eb_9c03_d83bbf6a0de1row4_col7,#T_f1f4ae9e_bbce_11eb_9c03_d83bbf6a0de1row4_col8,#T_f1f4ae9e_bbce_11eb_9c03_d83bbf6a0de1row4_col9,#T_f1f4ae9e_bbce_11eb_9c03_d83bbf6a0de1row4_col10,#T_f1f4ae9e_bbce_11eb_9c03_d83bbf6a0de1row4_col11,#T_f1f4ae9e_bbce_11eb_9c03_d83bbf6a0de1row5_col0,#T_f1f4ae9e_bbce_11eb_9c03_d83bbf6a0de1row5_col1,#T_f1f4ae9e_bbce_11eb_9c03_d83bbf6a0de1row5_col2,#T_f1f4ae9e_bbce_11eb_9c03_d83bbf6a0de1row5_col3,#T_f1f4ae9e_bbce_11eb_9c03_d83bbf6a0de1row5_col4,#T_f1f4ae9e_bbce_11eb_9c03_d83bbf6a0de1row5_col5,#T_f1f4ae9e_bbce_11eb_9c03_d83bbf6a0de1row5_col6,#T_f1f4ae9e_bbce_11eb_9c03_d83bbf6a0de1row5_col7,#T_f1f4ae9e_bbce_11eb_9c03_d83bbf6a0de1row5_col8,#T_f1f4ae9e_bbce_11eb_9c03_d83bbf6a0de1row5_col10,#T_f1f4ae9e_bbce_11eb_9c03_d83bbf6a0de1row5_col11{\n",
       "            background-color:  ;\n",
       "        }#T_f1f4ae9e_bbce_11eb_9c03_d83bbf6a0de1row1_col9,#T_f1f4ae9e_bbce_11eb_9c03_d83bbf6a0de1row5_col9{\n",
       "            background-color:  yellow;\n",
       "        }</style><table id=\"T_f1f4ae9e_bbce_11eb_9c03_d83bbf6a0de1\" ><thead>    <tr>        <th class=\"index_name level0\" >arms_category</th>        <th class=\"col_heading level0 col0\" >Blunt instruments</th>        <th class=\"col_heading level0 col1\" >Electrical devices</th>        <th class=\"col_heading level0 col2\" >Explosives</th>        <th class=\"col_heading level0 col3\" >Guns</th>        <th class=\"col_heading level0 col4\" >Hand tools</th>        <th class=\"col_heading level0 col5\" >Multiple</th>        <th class=\"col_heading level0 col6\" >Other unusual objects</th>        <th class=\"col_heading level0 col7\" >Piercing objects</th>        <th class=\"col_heading level0 col8\" >Sharp objects</th>        <th class=\"col_heading level0 col9\" >Unarmed</th>        <th class=\"col_heading level0 col10\" >Unknown</th>        <th class=\"col_heading level0 col11\" >Vehicles</th>    </tr>    <tr>        <th class=\"index_name level0\" >race</th>        <th class=\"blank\" ></th>        <th class=\"blank\" ></th>        <th class=\"blank\" ></th>        <th class=\"blank\" ></th>        <th class=\"blank\" ></th>        <th class=\"blank\" ></th>        <th class=\"blank\" ></th>        <th class=\"blank\" ></th>        <th class=\"blank\" ></th>        <th class=\"blank\" ></th>        <th class=\"blank\" ></th>        <th class=\"blank\" ></th>    </tr></thead><tbody>\n",
       "                <tr>\n",
       "                        <th id=\"T_f1f4ae9e_bbce_11eb_9c03_d83bbf6a0de1level0_row0\" class=\"row_heading level0 row0\" >Asian</th>\n",
       "                        <td id=\"T_f1f4ae9e_bbce_11eb_9c03_d83bbf6a0de1row0_col0\" class=\"data row0 col0\" >5</td>\n",
       "                        <td id=\"T_f1f4ae9e_bbce_11eb_9c03_d83bbf6a0de1row0_col1\" class=\"data row0 col1\" >0</td>\n",
       "                        <td id=\"T_f1f4ae9e_bbce_11eb_9c03_d83bbf6a0de1row0_col2\" class=\"data row0 col2\" >1</td>\n",
       "                        <td id=\"T_f1f4ae9e_bbce_11eb_9c03_d83bbf6a0de1row0_col3\" class=\"data row0 col3\" >35</td>\n",
       "                        <td id=\"T_f1f4ae9e_bbce_11eb_9c03_d83bbf6a0de1row0_col4\" class=\"data row0 col4\" >0</td>\n",
       "                        <td id=\"T_f1f4ae9e_bbce_11eb_9c03_d83bbf6a0de1row0_col5\" class=\"data row0 col5\" >3</td>\n",
       "                        <td id=\"T_f1f4ae9e_bbce_11eb_9c03_d83bbf6a0de1row0_col6\" class=\"data row0 col6\" >2</td>\n",
       "                        <td id=\"T_f1f4ae9e_bbce_11eb_9c03_d83bbf6a0de1row0_col7\" class=\"data row0 col7\" >1</td>\n",
       "                        <td id=\"T_f1f4ae9e_bbce_11eb_9c03_d83bbf6a0de1row0_col8\" class=\"data row0 col8\" >31</td>\n",
       "                        <td id=\"T_f1f4ae9e_bbce_11eb_9c03_d83bbf6a0de1row0_col9\" class=\"data row0 col9\" >7</td>\n",
       "                        <td id=\"T_f1f4ae9e_bbce_11eb_9c03_d83bbf6a0de1row0_col10\" class=\"data row0 col10\" >8</td>\n",
       "                        <td id=\"T_f1f4ae9e_bbce_11eb_9c03_d83bbf6a0de1row0_col11\" class=\"data row0 col11\" >0</td>\n",
       "            </tr>\n",
       "            <tr>\n",
       "                        <th id=\"T_f1f4ae9e_bbce_11eb_9c03_d83bbf6a0de1level0_row1\" class=\"row_heading level0 row1\" >Black</th>\n",
       "                        <td id=\"T_f1f4ae9e_bbce_11eb_9c03_d83bbf6a0de1row1_col0\" class=\"data row1 col0\" >20</td>\n",
       "                        <td id=\"T_f1f4ae9e_bbce_11eb_9c03_d83bbf6a0de1row1_col1\" class=\"data row1 col1\" >9</td>\n",
       "                        <td id=\"T_f1f4ae9e_bbce_11eb_9c03_d83bbf6a0de1row1_col2\" class=\"data row1 col2\" >0</td>\n",
       "                        <td id=\"T_f1f4ae9e_bbce_11eb_9c03_d83bbf6a0de1row1_col3\" class=\"data row1 col3\" >766</td>\n",
       "                        <td id=\"T_f1f4ae9e_bbce_11eb_9c03_d83bbf6a0de1row1_col4\" class=\"data row1 col4\" >1</td>\n",
       "                        <td id=\"T_f1f4ae9e_bbce_11eb_9c03_d83bbf6a0de1row1_col5\" class=\"data row1 col5\" >11</td>\n",
       "                        <td id=\"T_f1f4ae9e_bbce_11eb_9c03_d83bbf6a0de1row1_col6\" class=\"data row1 col6\" >43</td>\n",
       "                        <td id=\"T_f1f4ae9e_bbce_11eb_9c03_d83bbf6a0de1row1_col7\" class=\"data row1 col7\" >4</td>\n",
       "                        <td id=\"T_f1f4ae9e_bbce_11eb_9c03_d83bbf6a0de1row1_col8\" class=\"data row1 col8\" >170</td>\n",
       "                        <td id=\"T_f1f4ae9e_bbce_11eb_9c03_d83bbf6a0de1row1_col9\" class=\"data row1 col9\" >123</td>\n",
       "                        <td id=\"T_f1f4ae9e_bbce_11eb_9c03_d83bbf6a0de1row1_col10\" class=\"data row1 col10\" >108</td>\n",
       "                        <td id=\"T_f1f4ae9e_bbce_11eb_9c03_d83bbf6a0de1row1_col11\" class=\"data row1 col11\" >43</td>\n",
       "            </tr>\n",
       "            <tr>\n",
       "                        <th id=\"T_f1f4ae9e_bbce_11eb_9c03_d83bbf6a0de1level0_row2\" class=\"row_heading level0 row2\" >Hispanic</th>\n",
       "                        <td id=\"T_f1f4ae9e_bbce_11eb_9c03_d83bbf6a0de1row2_col0\" class=\"data row2 col0\" >30</td>\n",
       "                        <td id=\"T_f1f4ae9e_bbce_11eb_9c03_d83bbf6a0de1row2_col1\" class=\"data row2 col1\" >4</td>\n",
       "                        <td id=\"T_f1f4ae9e_bbce_11eb_9c03_d83bbf6a0de1row2_col2\" class=\"data row2 col2\" >1</td>\n",
       "                        <td id=\"T_f1f4ae9e_bbce_11eb_9c03_d83bbf6a0de1row2_col3\" class=\"data row2 col3\" >448</td>\n",
       "                        <td id=\"T_f1f4ae9e_bbce_11eb_9c03_d83bbf6a0de1row2_col4\" class=\"data row2 col4\" >0</td>\n",
       "                        <td id=\"T_f1f4ae9e_bbce_11eb_9c03_d83bbf6a0de1row2_col5\" class=\"data row2 col5\" >13</td>\n",
       "                        <td id=\"T_f1f4ae9e_bbce_11eb_9c03_d83bbf6a0de1row2_col6\" class=\"data row2 col6\" >40</td>\n",
       "                        <td id=\"T_f1f4ae9e_bbce_11eb_9c03_d83bbf6a0de1row2_col7\" class=\"data row2 col7\" >8</td>\n",
       "                        <td id=\"T_f1f4ae9e_bbce_11eb_9c03_d83bbf6a0de1row2_col8\" class=\"data row2 col8\" >189</td>\n",
       "                        <td id=\"T_f1f4ae9e_bbce_11eb_9c03_d83bbf6a0de1row2_col9\" class=\"data row2 col9\" >63</td>\n",
       "                        <td id=\"T_f1f4ae9e_bbce_11eb_9c03_d83bbf6a0de1row2_col10\" class=\"data row2 col10\" >89</td>\n",
       "                        <td id=\"T_f1f4ae9e_bbce_11eb_9c03_d83bbf6a0de1row2_col11\" class=\"data row2 col11\" >17</td>\n",
       "            </tr>\n",
       "            <tr>\n",
       "                        <th id=\"T_f1f4ae9e_bbce_11eb_9c03_d83bbf6a0de1level0_row3\" class=\"row_heading level0 row3\" >Native</th>\n",
       "                        <td id=\"T_f1f4ae9e_bbce_11eb_9c03_d83bbf6a0de1row3_col0\" class=\"data row3 col0\" >2</td>\n",
       "                        <td id=\"T_f1f4ae9e_bbce_11eb_9c03_d83bbf6a0de1row3_col1\" class=\"data row3 col1\" >1</td>\n",
       "                        <td id=\"T_f1f4ae9e_bbce_11eb_9c03_d83bbf6a0de1row3_col2\" class=\"data row3 col2\" >0</td>\n",
       "                        <td id=\"T_f1f4ae9e_bbce_11eb_9c03_d83bbf6a0de1row3_col3\" class=\"data row3 col3\" >41</td>\n",
       "                        <td id=\"T_f1f4ae9e_bbce_11eb_9c03_d83bbf6a0de1row3_col4\" class=\"data row3 col4\" >0</td>\n",
       "                        <td id=\"T_f1f4ae9e_bbce_11eb_9c03_d83bbf6a0de1row3_col5\" class=\"data row3 col5\" >0</td>\n",
       "                        <td id=\"T_f1f4ae9e_bbce_11eb_9c03_d83bbf6a0de1row3_col6\" class=\"data row3 col6\" >1</td>\n",
       "                        <td id=\"T_f1f4ae9e_bbce_11eb_9c03_d83bbf6a0de1row3_col7\" class=\"data row3 col7\" >1</td>\n",
       "                        <td id=\"T_f1f4ae9e_bbce_11eb_9c03_d83bbf6a0de1row3_col8\" class=\"data row3 col8\" >19</td>\n",
       "                        <td id=\"T_f1f4ae9e_bbce_11eb_9c03_d83bbf6a0de1row3_col9\" class=\"data row3 col9\" >4</td>\n",
       "                        <td id=\"T_f1f4ae9e_bbce_11eb_9c03_d83bbf6a0de1row3_col10\" class=\"data row3 col10\" >8</td>\n",
       "                        <td id=\"T_f1f4ae9e_bbce_11eb_9c03_d83bbf6a0de1row3_col11\" class=\"data row3 col11\" >1</td>\n",
       "            </tr>\n",
       "            <tr>\n",
       "                        <th id=\"T_f1f4ae9e_bbce_11eb_9c03_d83bbf6a0de1level0_row4\" class=\"row_heading level0 row4\" >Other</th>\n",
       "                        <td id=\"T_f1f4ae9e_bbce_11eb_9c03_d83bbf6a0de1row4_col0\" class=\"data row4 col0\" >0</td>\n",
       "                        <td id=\"T_f1f4ae9e_bbce_11eb_9c03_d83bbf6a0de1row4_col1\" class=\"data row4 col1\" >0</td>\n",
       "                        <td id=\"T_f1f4ae9e_bbce_11eb_9c03_d83bbf6a0de1row4_col2\" class=\"data row4 col2\" >0</td>\n",
       "                        <td id=\"T_f1f4ae9e_bbce_11eb_9c03_d83bbf6a0de1row4_col3\" class=\"data row4 col3\" >19</td>\n",
       "                        <td id=\"T_f1f4ae9e_bbce_11eb_9c03_d83bbf6a0de1row4_col4\" class=\"data row4 col4\" >0</td>\n",
       "                        <td id=\"T_f1f4ae9e_bbce_11eb_9c03_d83bbf6a0de1row4_col5\" class=\"data row4 col5\" >2</td>\n",
       "                        <td id=\"T_f1f4ae9e_bbce_11eb_9c03_d83bbf6a0de1row4_col6\" class=\"data row4 col6\" >0</td>\n",
       "                        <td id=\"T_f1f4ae9e_bbce_11eb_9c03_d83bbf6a0de1row4_col7\" class=\"data row4 col7\" >1</td>\n",
       "                        <td id=\"T_f1f4ae9e_bbce_11eb_9c03_d83bbf6a0de1row4_col8\" class=\"data row4 col8\" >14</td>\n",
       "                        <td id=\"T_f1f4ae9e_bbce_11eb_9c03_d83bbf6a0de1row4_col9\" class=\"data row4 col9\" >5</td>\n",
       "                        <td id=\"T_f1f4ae9e_bbce_11eb_9c03_d83bbf6a0de1row4_col10\" class=\"data row4 col10\" >5</td>\n",
       "                        <td id=\"T_f1f4ae9e_bbce_11eb_9c03_d83bbf6a0de1row4_col11\" class=\"data row4 col11\" >2</td>\n",
       "            </tr>\n",
       "            <tr>\n",
       "                        <th id=\"T_f1f4ae9e_bbce_11eb_9c03_d83bbf6a0de1level0_row5\" class=\"row_heading level0 row5\" >White</th>\n",
       "                        <td id=\"T_f1f4ae9e_bbce_11eb_9c03_d83bbf6a0de1row5_col0\" class=\"data row5 col0\" >65</td>\n",
       "                        <td id=\"T_f1f4ae9e_bbce_11eb_9c03_d83bbf6a0de1row5_col1\" class=\"data row5 col1\" >10</td>\n",
       "                        <td id=\"T_f1f4ae9e_bbce_11eb_9c03_d83bbf6a0de1row5_col2\" class=\"data row5 col2\" >2</td>\n",
       "                        <td id=\"T_f1f4ae9e_bbce_11eb_9c03_d83bbf6a0de1row5_col3\" class=\"data row5 col3\" >1455</td>\n",
       "                        <td id=\"T_f1f4ae9e_bbce_11eb_9c03_d83bbf6a0de1row5_col4\" class=\"data row5 col4\" >0</td>\n",
       "                        <td id=\"T_f1f4ae9e_bbce_11eb_9c03_d83bbf6a0de1row5_col5\" class=\"data row5 col5\" >25</td>\n",
       "                        <td id=\"T_f1f4ae9e_bbce_11eb_9c03_d83bbf6a0de1row5_col6\" class=\"data row5 col6\" >106</td>\n",
       "                        <td id=\"T_f1f4ae9e_bbce_11eb_9c03_d83bbf6a0de1row5_col7\" class=\"data row5 col7\" >14</td>\n",
       "                        <td id=\"T_f1f4ae9e_bbce_11eb_9c03_d83bbf6a0de1row5_col8\" class=\"data row5 col8\" >395</td>\n",
       "                        <td id=\"T_f1f4ae9e_bbce_11eb_9c03_d83bbf6a0de1row5_col9\" class=\"data row5 col9\" >146</td>\n",
       "                        <td id=\"T_f1f4ae9e_bbce_11eb_9c03_d83bbf6a0de1row5_col10\" class=\"data row5 col10\" >200</td>\n",
       "                        <td id=\"T_f1f4ae9e_bbce_11eb_9c03_d83bbf6a0de1row5_col11\" class=\"data row5 col11\" >58</td>\n",
       "            </tr>\n",
       "    </tbody></table>"
      ],
      "text/plain": [
       "<pandas.io.formats.style.Styler at 0x24c75882af0>"
      ]
     },
     "execution_count": 84,
     "metadata": {},
     "output_type": "execute_result"
    }
   ],
   "source": [
    "def highlights(x):\n",
    "    df1 = x.copy()\n",
    "    df1.loc[:,:] = 'background-color: '\n",
    "    df1.loc['Black','Unarmed'] = 'background-color: yellow'\n",
    "    df1.loc['White','Unarmed'] = 'background-color: yellow'\n",
    "    return df1\n",
    "\n",
    "pd.crosstab(shootings.race, shootings.arms_category).style.apply(highlights, axis = None)"
   ]
  },
  {
   "cell_type": "code",
   "execution_count": 85,
   "metadata": {},
   "outputs": [
    {
     "data": {
      "text/plain": [
       "1.9075500770416025"
      ]
     },
     "execution_count": 85,
     "metadata": {},
     "output_type": "execute_result"
    }
   ],
   "source": [
    "shootings['race'].isin(['White']).sum() / shootings['race'].isin(['Black']).sum()\n",
    "# 백인 사망자 수 / 흑인 사망자 수 "
   ]
  },
  {
   "cell_type": "markdown",
   "metadata": {},
   "source": [
    "백인 피살자의 수가 2배정도 많지만, 비무장상태에서 사살당한경우는 크게 차이나지않는다. 하지만 속단하기 이른것이, 위협수준과 도주여부가 고려되지 않았다는 점이다.\n",
    "\n",
    "그럼 인종별로 위협수준이 공격이 아님, 비무장상태만 row로 남긴뒤 인종~도주여부로 확인해보자."
   ]
  },
  {
   "cell_type": "code",
   "execution_count": 49,
   "metadata": {},
   "outputs": [
    {
     "data": {
      "text/html": [
       "<style  type=\"text/css\" >\n",
       "#T_4063a625_bbb1_11eb_9de1_d83bbf6a0de1row0_col0,#T_4063a625_bbb1_11eb_9de1_d83bbf6a0de1row0_col1,#T_4063a625_bbb1_11eb_9de1_d83bbf6a0de1row0_col2,#T_4063a625_bbb1_11eb_9de1_d83bbf6a0de1row0_col3,#T_4063a625_bbb1_11eb_9de1_d83bbf6a0de1row1_col0,#T_4063a625_bbb1_11eb_9de1_d83bbf6a0de1row1_col1,#T_4063a625_bbb1_11eb_9de1_d83bbf6a0de1row1_col3,#T_4063a625_bbb1_11eb_9de1_d83bbf6a0de1row2_col0,#T_4063a625_bbb1_11eb_9de1_d83bbf6a0de1row2_col1,#T_4063a625_bbb1_11eb_9de1_d83bbf6a0de1row2_col2,#T_4063a625_bbb1_11eb_9de1_d83bbf6a0de1row2_col3,#T_4063a625_bbb1_11eb_9de1_d83bbf6a0de1row3_col0,#T_4063a625_bbb1_11eb_9de1_d83bbf6a0de1row3_col1,#T_4063a625_bbb1_11eb_9de1_d83bbf6a0de1row3_col2,#T_4063a625_bbb1_11eb_9de1_d83bbf6a0de1row3_col3,#T_4063a625_bbb1_11eb_9de1_d83bbf6a0de1row4_col0,#T_4063a625_bbb1_11eb_9de1_d83bbf6a0de1row4_col1,#T_4063a625_bbb1_11eb_9de1_d83bbf6a0de1row4_col2,#T_4063a625_bbb1_11eb_9de1_d83bbf6a0de1row4_col3,#T_4063a625_bbb1_11eb_9de1_d83bbf6a0de1row5_col0,#T_4063a625_bbb1_11eb_9de1_d83bbf6a0de1row5_col1,#T_4063a625_bbb1_11eb_9de1_d83bbf6a0de1row5_col3{\n",
       "            background-color:  ;\n",
       "        }#T_4063a625_bbb1_11eb_9de1_d83bbf6a0de1row1_col2,#T_4063a625_bbb1_11eb_9de1_d83bbf6a0de1row5_col2{\n",
       "            background-color:  yellow;\n",
       "        }</style><table id=\"T_4063a625_bbb1_11eb_9de1_d83bbf6a0de1\" ><thead>    <tr>        <th class=\"index_name level0\" >flee</th>        <th class=\"col_heading level0 col0\" >Car</th>        <th class=\"col_heading level0 col1\" >Foot</th>        <th class=\"col_heading level0 col2\" >Not fleeing</th>        <th class=\"col_heading level0 col3\" >Other</th>    </tr>    <tr>        <th class=\"index_name level0\" >race</th>        <th class=\"blank\" ></th>        <th class=\"blank\" ></th>        <th class=\"blank\" ></th>        <th class=\"blank\" ></th>    </tr></thead><tbody>\n",
       "                <tr>\n",
       "                        <th id=\"T_4063a625_bbb1_11eb_9de1_d83bbf6a0de1level0_row0\" class=\"row_heading level0 row0\" >Asian</th>\n",
       "                        <td id=\"T_4063a625_bbb1_11eb_9de1_d83bbf6a0de1row0_col0\" class=\"data row0 col0\" >2</td>\n",
       "                        <td id=\"T_4063a625_bbb1_11eb_9de1_d83bbf6a0de1row0_col1\" class=\"data row0 col1\" >1</td>\n",
       "                        <td id=\"T_4063a625_bbb1_11eb_9de1_d83bbf6a0de1row0_col2\" class=\"data row0 col2\" >3</td>\n",
       "                        <td id=\"T_4063a625_bbb1_11eb_9de1_d83bbf6a0de1row0_col3\" class=\"data row0 col3\" >0</td>\n",
       "            </tr>\n",
       "            <tr>\n",
       "                        <th id=\"T_4063a625_bbb1_11eb_9de1_d83bbf6a0de1level0_row1\" class=\"row_heading level0 row1\" >Black</th>\n",
       "                        <td id=\"T_4063a625_bbb1_11eb_9de1_d83bbf6a0de1row1_col0\" class=\"data row1 col0\" >18</td>\n",
       "                        <td id=\"T_4063a625_bbb1_11eb_9de1_d83bbf6a0de1row1_col1\" class=\"data row1 col1\" >16</td>\n",
       "                        <td id=\"T_4063a625_bbb1_11eb_9de1_d83bbf6a0de1row1_col2\" class=\"data row1 col2\" >31</td>\n",
       "                        <td id=\"T_4063a625_bbb1_11eb_9de1_d83bbf6a0de1row1_col3\" class=\"data row1 col3\" >7</td>\n",
       "            </tr>\n",
       "            <tr>\n",
       "                        <th id=\"T_4063a625_bbb1_11eb_9de1_d83bbf6a0de1level0_row2\" class=\"row_heading level0 row2\" >Hispanic</th>\n",
       "                        <td id=\"T_4063a625_bbb1_11eb_9de1_d83bbf6a0de1row2_col0\" class=\"data row2 col0\" >17</td>\n",
       "                        <td id=\"T_4063a625_bbb1_11eb_9de1_d83bbf6a0de1row2_col1\" class=\"data row2 col1\" >9</td>\n",
       "                        <td id=\"T_4063a625_bbb1_11eb_9de1_d83bbf6a0de1row2_col2\" class=\"data row2 col2\" >19</td>\n",
       "                        <td id=\"T_4063a625_bbb1_11eb_9de1_d83bbf6a0de1row2_col3\" class=\"data row2 col3\" >3</td>\n",
       "            </tr>\n",
       "            <tr>\n",
       "                        <th id=\"T_4063a625_bbb1_11eb_9de1_d83bbf6a0de1level0_row3\" class=\"row_heading level0 row3\" >Native</th>\n",
       "                        <td id=\"T_4063a625_bbb1_11eb_9de1_d83bbf6a0de1row3_col0\" class=\"data row3 col0\" >0</td>\n",
       "                        <td id=\"T_4063a625_bbb1_11eb_9de1_d83bbf6a0de1row3_col1\" class=\"data row3 col1\" >2</td>\n",
       "                        <td id=\"T_4063a625_bbb1_11eb_9de1_d83bbf6a0de1row3_col2\" class=\"data row3 col2\" >1</td>\n",
       "                        <td id=\"T_4063a625_bbb1_11eb_9de1_d83bbf6a0de1row3_col3\" class=\"data row3 col3\" >0</td>\n",
       "            </tr>\n",
       "            <tr>\n",
       "                        <th id=\"T_4063a625_bbb1_11eb_9de1_d83bbf6a0de1level0_row4\" class=\"row_heading level0 row4\" >Other</th>\n",
       "                        <td id=\"T_4063a625_bbb1_11eb_9de1_d83bbf6a0de1row4_col0\" class=\"data row4 col0\" >0</td>\n",
       "                        <td id=\"T_4063a625_bbb1_11eb_9de1_d83bbf6a0de1row4_col1\" class=\"data row4 col1\" >0</td>\n",
       "                        <td id=\"T_4063a625_bbb1_11eb_9de1_d83bbf6a0de1row4_col2\" class=\"data row4 col2\" >3</td>\n",
       "                        <td id=\"T_4063a625_bbb1_11eb_9de1_d83bbf6a0de1row4_col3\" class=\"data row4 col3\" >0</td>\n",
       "            </tr>\n",
       "            <tr>\n",
       "                        <th id=\"T_4063a625_bbb1_11eb_9de1_d83bbf6a0de1level0_row5\" class=\"row_heading level0 row5\" >White</th>\n",
       "                        <td id=\"T_4063a625_bbb1_11eb_9de1_d83bbf6a0de1row5_col0\" class=\"data row5 col0\" >24</td>\n",
       "                        <td id=\"T_4063a625_bbb1_11eb_9de1_d83bbf6a0de1row5_col1\" class=\"data row5 col1\" >12</td>\n",
       "                        <td id=\"T_4063a625_bbb1_11eb_9de1_d83bbf6a0de1row5_col2\" class=\"data row5 col2\" >45</td>\n",
       "                        <td id=\"T_4063a625_bbb1_11eb_9de1_d83bbf6a0de1row5_col3\" class=\"data row5 col3\" >2</td>\n",
       "            </tr>\n",
       "    </tbody></table>"
      ],
      "text/plain": [
       "<pandas.io.formats.style.Styler at 0x24c75c1f280>"
      ]
     },
     "execution_count": 49,
     "metadata": {},
     "output_type": "execute_result"
    }
   ],
   "source": [
    "def highlights(x):\n",
    "    df1 = x.copy()\n",
    "    df1.loc[:,:] = 'background-color: '\n",
    "    df1.loc['Black','Not fleeing'] = 'background-color: yellow'\n",
    "    df1.loc['White','Not fleeing'] = 'background-color: yellow'\n",
    "    return df1\n",
    "\n",
    "atk_armed = shootings.query('threat_level not in \"attack\" and armed in \"unarmed\"')\n",
    "pd.crosstab(atk_armed.race, atk_armed.flee).style.apply(highlights, axis = None)"
   ]
  },
  {
   "cell_type": "markdown",
   "metadata": {},
   "source": [
    "이번엔 1.5배정도 차이난다. 차이가 안난다하기는 애매하고 또 난다하기도 애매한 수치다. 하지만 중요한것은 이 차이가 *통계적으로 유의한가*이다.  "
   ]
  },
  {
   "cell_type": "code",
   "execution_count": 53,
   "metadata": {},
   "outputs": [
    {
     "data": {
      "text/html": [
       "<style  type=\"text/css\" >\n",
       "#T_5ea28f9e_bbb1_11eb_9150_d83bbf6a0de1row0_col0,#T_5ea28f9e_bbb1_11eb_9150_d83bbf6a0de1row0_col1,#T_5ea28f9e_bbb1_11eb_9150_d83bbf6a0de1row0_col3,#T_5ea28f9e_bbb1_11eb_9150_d83bbf6a0de1row1_col0,#T_5ea28f9e_bbb1_11eb_9150_d83bbf6a0de1row1_col1,#T_5ea28f9e_bbb1_11eb_9150_d83bbf6a0de1row1_col3{\n",
       "            background-color:  ;\n",
       "        }#T_5ea28f9e_bbb1_11eb_9150_d83bbf6a0de1row0_col2,#T_5ea28f9e_bbb1_11eb_9150_d83bbf6a0de1row1_col2{\n",
       "            background-color:  yellow;\n",
       "        }</style><table id=\"T_5ea28f9e_bbb1_11eb_9150_d83bbf6a0de1\" ><thead>    <tr>        <th class=\"index_name level0\" >flee</th>        <th class=\"col_heading level0 col0\" >Car</th>        <th class=\"col_heading level0 col1\" >Foot</th>        <th class=\"col_heading level0 col2\" >Not fleeing</th>        <th class=\"col_heading level0 col3\" >Other</th>    </tr>    <tr>        <th class=\"index_name level0\" >signs_of_mental_illness</th>        <th class=\"blank\" ></th>        <th class=\"blank\" ></th>        <th class=\"blank\" ></th>        <th class=\"blank\" ></th>    </tr></thead><tbody>\n",
       "                <tr>\n",
       "                        <th id=\"T_5ea28f9e_bbb1_11eb_9150_d83bbf6a0de1level0_row0\" class=\"row_heading level0 row0\" >False</th>\n",
       "                        <td id=\"T_5ea28f9e_bbb1_11eb_9150_d83bbf6a0de1row0_col0\" class=\"data row0 col0\" >57</td>\n",
       "                        <td id=\"T_5ea28f9e_bbb1_11eb_9150_d83bbf6a0de1row0_col1\" class=\"data row0 col1\" >34</td>\n",
       "                        <td id=\"T_5ea28f9e_bbb1_11eb_9150_d83bbf6a0de1row0_col2\" class=\"data row0 col2\" >79</td>\n",
       "                        <td id=\"T_5ea28f9e_bbb1_11eb_9150_d83bbf6a0de1row0_col3\" class=\"data row0 col3\" >10</td>\n",
       "            </tr>\n",
       "            <tr>\n",
       "                        <th id=\"T_5ea28f9e_bbb1_11eb_9150_d83bbf6a0de1level0_row1\" class=\"row_heading level0 row1\" >True</th>\n",
       "                        <td id=\"T_5ea28f9e_bbb1_11eb_9150_d83bbf6a0de1row1_col0\" class=\"data row1 col0\" >4</td>\n",
       "                        <td id=\"T_5ea28f9e_bbb1_11eb_9150_d83bbf6a0de1row1_col1\" class=\"data row1 col1\" >6</td>\n",
       "                        <td id=\"T_5ea28f9e_bbb1_11eb_9150_d83bbf6a0de1row1_col2\" class=\"data row1 col2\" >23</td>\n",
       "                        <td id=\"T_5ea28f9e_bbb1_11eb_9150_d83bbf6a0de1row1_col3\" class=\"data row1 col3\" >2</td>\n",
       "            </tr>\n",
       "    </tbody></table>"
      ],
      "text/plain": [
       "<pandas.io.formats.style.Styler at 0x24c71e49e80>"
      ]
     },
     "execution_count": 53,
     "metadata": {},
     "output_type": "execute_result"
    }
   ],
   "source": [
    "def highlights(x):\n",
    "    df1 = x.copy()\n",
    "    df1.loc[:,:] = 'background-color: '\n",
    "    df1.loc[1,'Not fleeing'] = 'background-color: yellow'\n",
    "    df1.loc[0,'Not fleeing'] = 'background-color: yellow'\n",
    "    return df1\n",
    "\n",
    "sign_armed = shootings.query('threat_level not in \"attack\" and armed in \"unarmed\"')\n",
    "pd.crosstab(sign_armed.signs_of_mental_illness, sign_armed.flee).style.apply(highlights, axis = None)"
   ]
  },
  {
   "cell_type": "code",
   "execution_count": 56,
   "metadata": {},
   "outputs": [
    {
     "data": {
      "text/plain": [
       "3.4378966455122395"
      ]
     },
     "execution_count": 56,
     "metadata": {},
     "output_type": "execute_result"
    }
   ],
   "source": [
    "shootings['signs_of_mental_illness'].isin([0]).sum() / shootings['signs_of_mental_illness'].isin([1]).sum()"
   ]
  },
  {
   "cell_type": "markdown",
   "metadata": {},
   "source": [
    "이번에는 정상인이 장애인보다 3.4배 많으며 과잉진압여부도 3배이상 차이나는것을 볼 수 있다. 이번에는 확실히 통계적으로 유의하지 않을것이라 예측이 된다.\n",
    "\n",
    "그럼 데이터를 전반적으로 훑어봤으니 백인과 흑인의 과잉진압이 *통계적으로 유의하게* 차이나는지 한번 확인해보자."
   ]
  },
  {
   "cell_type": "markdown",
   "metadata": {},
   "source": [
    "그럼 본격적으로 분석에 들어가기위해\n",
    "\n",
    "1. 흑인이나 다른 소수인종들이 백인에 비해서 더 과잉진압을 많이 당하는가?  \n",
    "\n",
    "를 검증하기 위한 데이터셋을 만들어보자.\n",
    "\n",
    "\n",
    "우선 각각 대조군이 백인과 소수인종으로 데이터를 나누고 실제로 과잉진압을 당한 관측값 / 그렇지 않은 관측값 으로 다시 분할할 것이다."
   ]
  },
  {
   "cell_type": "code",
   "execution_count": 83,
   "metadata": {},
   "outputs": [
    {
     "data": {
      "text/plain": [
       "True"
      ]
     },
     "execution_count": 83,
     "metadata": {},
     "output_type": "execute_result"
    }
   ],
   "source": [
    "wh = len(shootings.query('race in \"White\" and flee in \"Not fleeing\" and armed in \"unarmed\" and threat_level not in \"attack\"'))\n",
    "white_obs = [wh,len(shootings.query('race in \"White\"')) - wh]\n",
    "sum(white_obs) == len(shootings.query('race in \"White\"'))\n",
    "#white_obs에 백인 과잉진압 관측값 / 그렇지않은 관측값 으로 분할함.\n",
    "#과잉진압 여부는 도망가지않고, 무장하지도 않았으며, Threat_level도 attack이 아닌 관측값들을 가져왔음."
   ]
  },
  {
   "cell_type": "code",
   "execution_count": 84,
   "metadata": {},
   "outputs": [
    {
     "data": {
      "text/plain": [
       "True"
      ]
     },
     "execution_count": 84,
     "metadata": {},
     "output_type": "execute_result"
    }
   ],
   "source": [
    "bl = len(shootings.query('race in \"Black\" and flee in \"Not fleeing\" and armed in \"unarmed\" and threat_level not in \"attack\"'))\n",
    "black_obs = [bl,len(shootings.query('race in \"Black\"')) - bl]\n",
    "sum(black_obs) == len(shootings.query('race in \"Black\"'))\n",
    "#black_obs에 흑인 과잉진압 관측값 / 그렇지않은 관측값 으로 분할함.\n",
    "#과잉진압 여부는 도망가지않고, 무장하지도 않았으며, Threat_level도 attack이 아닌 관측값들을 가져왔음."
   ]
  },
  {
   "cell_type": "code",
   "execution_count": 87,
   "metadata": {},
   "outputs": [
    {
     "data": {
      "text/plain": [
       "True"
      ]
     },
     "execution_count": 87,
     "metadata": {},
     "output_type": "execute_result"
    }
   ],
   "source": [
    "mi = len(shootings.query('race not in \"White\" and flee in \"Not fleeing\" and armed in \"unarmed\" and threat_level not in \"attack\"'))\n",
    "minor_obs = [mi,len(shootings.query('race not in \"White\"')) - mi]\n",
    "sum(minor_obs) == len(shootings.query('race not in \"White\"'))\n",
    "#minor_obs에 비 백인 과잉진압 관측값 / 그렇지않은 관측값 으로 분할함.\n",
    "#과잉진압 여부는 도망가지않고, 무장하지도 않았으며, Threat_level도 attack이 아닌 관측값들을 가져왔음."
   ]
  },
  {
   "cell_type": "code",
   "execution_count": 109,
   "metadata": {},
   "outputs": [
    {
     "data": {
      "text/html": [
       "<div>\n",
       "<style scoped>\n",
       "    .dataframe tbody tr th:only-of-type {\n",
       "        vertical-align: middle;\n",
       "    }\n",
       "\n",
       "    .dataframe tbody tr th {\n",
       "        vertical-align: top;\n",
       "    }\n",
       "\n",
       "    .dataframe thead th {\n",
       "        text-align: right;\n",
       "    }\n",
       "</style>\n",
       "<table border=\"1\" class=\"dataframe\">\n",
       "  <thead>\n",
       "    <tr style=\"text-align: right;\">\n",
       "      <th></th>\n",
       "      <th>over</th>\n",
       "      <th>justified</th>\n",
       "    </tr>\n",
       "  </thead>\n",
       "  <tbody>\n",
       "    <tr>\n",
       "      <th>white</th>\n",
       "      <td>45</td>\n",
       "      <td>2431</td>\n",
       "    </tr>\n",
       "    <tr>\n",
       "      <th>black</th>\n",
       "      <td>31</td>\n",
       "      <td>1267</td>\n",
       "    </tr>\n",
       "    <tr>\n",
       "      <th>minor</th>\n",
       "      <td>57</td>\n",
       "      <td>2362</td>\n",
       "    </tr>\n",
       "  </tbody>\n",
       "</table>\n",
       "</div>"
      ],
      "text/plain": [
       "       over  justified\n",
       "white    45       2431\n",
       "black    31       1267\n",
       "minor    57       2362"
      ]
     },
     "execution_count": 109,
     "metadata": {},
     "output_type": "execute_result"
    }
   ],
   "source": [
    "whblmi = pd.DataFrame([white_obs,black_obs,minor_obs], columns=['over','justified'], index = ['white','black','minor'])\n",
    "\n",
    "whblmi"
   ]
  },
  {
   "cell_type": "markdown",
   "metadata": {},
   "source": [
    "다음은  \n",
    "\n",
    " 2. 장애인이 정상인에 비해 과잉진압을 당할 가능성이 높은가?\n",
    " \n",
    "를 알아보기위해, 대조군을 장애인 / 정상인으로 나눈후 다시 과잉진압 / 그렇지않은 관측값으로 분할해보자."
   ]
  },
  {
   "cell_type": "code",
   "execution_count": 103,
   "metadata": {},
   "outputs": [
    {
     "data": {
      "text/plain": [
       "True"
      ]
     },
     "execution_count": 103,
     "metadata": {},
     "output_type": "execute_result"
    }
   ],
   "source": [
    "di = len(shootings.query('signs_of_mental_illness == True and flee in \"Not fleeing\" and armed in \"unarmed\" and threat_level not in \"attack\" '))\n",
    "dis_obs = [di, len(shootings.query('signs_of_mental_illness == True')) - di]\n",
    "sum(dis_obs) == len(shootings.query('signs_of_mental_illness == True'))"
   ]
  },
  {
   "cell_type": "code",
   "execution_count": 104,
   "metadata": {},
   "outputs": [
    {
     "data": {
      "text/plain": [
       "True"
      ]
     },
     "execution_count": 104,
     "metadata": {},
     "output_type": "execute_result"
    }
   ],
   "source": [
    "no = len(shootings.query('signs_of_mental_illness == False and flee in \"Not fleeing\" and armed in \"unarmed\" and threat_level not in \"attack\" '))\n",
    "nor_obs = [no, len(shootings.query('signs_of_mental_illness == False')) - no]\n",
    "sum(nor_obs) == len(shootings.query('signs_of_mental_illness == False'))"
   ]
  },
  {
   "cell_type": "code",
   "execution_count": 110,
   "metadata": {},
   "outputs": [
    {
     "data": {
      "text/html": [
       "<div>\n",
       "<style scoped>\n",
       "    .dataframe tbody tr th:only-of-type {\n",
       "        vertical-align: middle;\n",
       "    }\n",
       "\n",
       "    .dataframe tbody tr th {\n",
       "        vertical-align: top;\n",
       "    }\n",
       "\n",
       "    .dataframe thead th {\n",
       "        text-align: right;\n",
       "    }\n",
       "</style>\n",
       "<table border=\"1\" class=\"dataframe\">\n",
       "  <thead>\n",
       "    <tr style=\"text-align: right;\">\n",
       "      <th></th>\n",
       "      <th>over</th>\n",
       "      <th>justified</th>\n",
       "    </tr>\n",
       "  </thead>\n",
       "  <tbody>\n",
       "    <tr>\n",
       "      <th>disabled</th>\n",
       "      <td>23</td>\n",
       "      <td>1080</td>\n",
       "    </tr>\n",
       "    <tr>\n",
       "      <th>normal</th>\n",
       "      <td>79</td>\n",
       "      <td>3713</td>\n",
       "    </tr>\n",
       "  </tbody>\n",
       "</table>\n",
       "</div>"
      ],
      "text/plain": [
       "          over  justified\n",
       "disabled    23       1080\n",
       "normal      79       3713"
      ]
     },
     "execution_count": 110,
     "metadata": {},
     "output_type": "execute_result"
    }
   ],
   "source": [
    "disno = pd.DataFrame([dis_obs,nor_obs], columns = ['over','justified'], index = ['disabled','normal'])\n",
    "\n",
    "disno"
   ]
  },
  {
   "cell_type": "markdown",
   "metadata": {},
   "source": [
    "<h4> 분석 </h4>  \n",
    "\n",
    "데이터준비가 끝났으니 실제로 분석하며 검증해보는시간이다. 분석은 앞서 말한대로  \n",
    "\n",
    "1. 흑인이나 다른 소수인종들이 백인에 비해서 더 과잉진압을 많이 당하는가?  \n",
    "2. 장애인이 정상인에 비해 과잉진압을 당할 가능성이 높은가?  \n",
    "\n",
    "두가지를 카이제곱 테스트로 넣고 돌려볼것이다. \n"
   ]
  },
  {
   "cell_type": "code",
   "execution_count": 111,
   "metadata": {},
   "outputs": [],
   "source": [
    "from scipy.stats import chi2_contingency"
   ]
  },
  {
   "cell_type": "code",
   "execution_count": 126,
   "metadata": {},
   "outputs": [
    {
     "name": "stdout",
     "output_type": "stream",
     "text": [
      "0.2873732613075627 0.2226081840165257\n"
     ]
    }
   ],
   "source": [
    "# 1. 흑인이나 다른 소수인종이 백인에 비해서 더 과잉진압을 많이 당하는가?\n",
    "\n",
    "#백인과 흑인\n",
    "blwhp = chi2_contingency(whblmi.iloc[0:2,])[1]\n",
    "\n",
    "#백인과 백인이 아닌인종\n",
    "blmip = chi2_contingency(whblmi.iloc[[0,2],])[1]\n",
    "\n",
    "print(blwhp,blmip)"
   ]
  },
  {
   "cell_type": "code",
   "execution_count": 128,
   "metadata": {},
   "outputs": [
    {
     "data": {
      "text/plain": [
       "0.9077443624727666"
      ]
     },
     "execution_count": 128,
     "metadata": {},
     "output_type": "execute_result"
    }
   ],
   "source": [
    "# 2. 장애인이 정상인에 비해 과잉진압을 당할 가능성이 높은가?\n",
    "\n",
    "dinop = chi2_contingency(disno)[1]\n",
    "\n",
    "dinop"
   ]
  },
  {
   "cell_type": "markdown",
   "metadata": {},
   "source": [
    "<h4> 해석 </h4>\n",
    "\n",
    "1. 흑인이나 다른 소수인종이 백인에 비하여 더 과잉진압을 당할 확률이 높은가?\n",
    "\n",
    "백인과 흑인, 그리고 백인과 백인이 아닌 인종으로 과잉진압과 정당방위의 관측값을 바탕으로 카이제곱테스트를 해본결과 p-value는 각각 0.287, 0.0223으로 나왔다.  \n",
    "즉 두 경우에서 h1을 기각하고 h0을 채택하며, 인종에 따라 과잉진압 정도는 *통계적으로 유의하게* 차이나지 않는다는 것이다.\n",
    "\n",
    "2. 장애인이 정상인에 비해 과잉진압을 당할 가능성이 높은가?  \n",
    "\n",
    "장애인과 정상인의 과잉진압과 정당방위 관측값을 바탕으로 카이제곱테스트를 해본 결과 p-value는 0.908이나왔다.  \n",
    "즉 h1을 기각하고 h0을 채택하며, 장애여부에 따라 과잉진압 정도는 *통계적으로 유의하게* 차이나지 않는다는 것이다."
   ]
  },
  {
   "cell_type": "markdown",
   "metadata": {},
   "source": [
    "<h4> 결론 </h4>  \n",
    "\n",
    "지금까지 인종별로, 혹은 장애여부에 따라 과잉진압을 당할 확률이 높은가에 대해 알아보기위해 각각의 관측값을 카이제곱테스트로 확인해보았다.  \n",
    "결과는 모든 경우에서 p-value가 유의수준을 넘지 못해 h1을 기각하고 h0을 채택했기에 인종별로, 혹은 장애여부에 따라 과잉진압을 당할 확률은 낮다로 결론내릴 수 있다.  \n",
    "\n",
    "즉 처음 서론에서 보았던 말콤 글레드웰의 주장을 어느정도 일반화해서 해석할수도 있긴 하나, 실제로 이 주장을 검증하기 위한 데이터를 확보한것이 아니기에 확정지을순 없다. 또한 장애인이 어느정도 강한 무력집행을 당할 가능성은 있지만, 총기를 사용할정도로 심각한상황에서는 일반인과 큰 차이는 나지 않는다는 것도 알 수 있었다.\n",
    "\n"
   ]
  }
 ],
 "metadata": {
  "kernelspec": {
   "display_name": "Python 3",
   "language": "python",
   "name": "python3"
  },
  "language_info": {
   "codemirror_mode": {
    "name": "ipython",
    "version": 3
   },
   "file_extension": ".py",
   "mimetype": "text/x-python",
   "name": "python",
   "nbconvert_exporter": "python",
   "pygments_lexer": "ipython3",
   "version": "3.8.5"
  }
 },
 "nbformat": 4,
 "nbformat_minor": 4
}
